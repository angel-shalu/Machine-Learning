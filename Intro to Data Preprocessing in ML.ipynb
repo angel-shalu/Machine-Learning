{
 "cells": [
  {
   "cell_type": "markdown",
   "id": "3cb32a6b-89cf-4d8d-8a5b-e092de808013",
   "metadata": {},
   "source": [
    "**Introduction to Data Preprocessing in Machine Learning**"
   ]
  },
  {
   "cell_type": "markdown",
   "id": "756376ee-539c-4678-b9e6-eec0aea035ba",
   "metadata": {},
   "source": [
    "Today we are learning about Data Preprocessing in Machine Learning\n",
    "\n",
    " We will learn how to:\n",
    " \n",
    " 1. Import data\n",
    " 2. Handle missing values using SimpleImputer\n",
    " 3. Encode categorical data using LabelEncoder\n",
    " 4. Split the dataset into training and testing sets\n"
   ]
  },
  {
   "cell_type": "markdown",
   "id": "cd4317aa-f267-4474-970b-ed3f80bcb6a6",
   "metadata": {},
   "source": [
    "# Importing Important Libraries"
   ]
  },
  {
   "cell_type": "code",
   "execution_count": 1,
   "id": "af0778f1-43c2-4e73-a624-f62351ea41f6",
   "metadata": {},
   "outputs": [],
   "source": [
    "import numpy as np\n",
    "import matplotlib.pyplot as plt\n",
    "import pandas as pd"
   ]
  },
  {
   "cell_type": "markdown",
   "id": "d1778194-dedd-4bbf-b050-fdbe555bfcb7",
   "metadata": {},
   "source": [
    "# Loading the Dataset\n",
    "\n",
    "- We use pandas to read the CSV file into a DataFrame\n",
    "- Replace the file path with your actual file location"
   ]
  },
  {
   "cell_type": "code",
   "execution_count": 2,
   "id": "d33d28f2-34f7-4735-8d78-557e40a3cbeb",
   "metadata": {},
   "outputs": [],
   "source": [
    "df = pd.read_csv(r'C:\\Users\\Lenovo\\Downloads\\Data.csv')"
   ]
  },
  {
   "cell_type": "markdown",
   "id": "1ca50a1d-8897-4481-9f71-abbec10a90f5",
   "metadata": {},
   "source": [
    "#  Separating Features and Target Variable\n",
    "## X contains input features (all columns except the last one)"
   ]
  },
  {
   "cell_type": "code",
   "execution_count": 3,
   "id": "efc5bd06-51e0-4906-a848-4007529a7381",
   "metadata": {},
   "outputs": [],
   "source": [
    "X = df.iloc[:, :-1].values"
   ]
  },
  {
   "cell_type": "markdown",
   "id": "463ab7de-90a0-4d17-9d6b-c1e2de9a3924",
   "metadata": {},
   "source": [
    "## y contains the target/output variable (column index 3 here, adjust if needed)\n"
   ]
  },
  {
   "cell_type": "code",
   "execution_count": 4,
   "id": "a9b8fbca-8306-4a63-a138-d1cfcfaef43f",
   "metadata": {},
   "outputs": [],
   "source": [
    "y = df.iloc[:, 3].values"
   ]
  },
  {
   "cell_type": "markdown",
   "id": "75782dfa-ef36-4ffd-ab7d-31007689d6c1",
   "metadata": {},
   "source": [
    "# Handling Missing Data using SimpleImputer\n",
    "We can use SimpleImputer to fill the missing value with the median of the column"
   ]
  },
  {
   "cell_type": "code",
   "execution_count": 6,
   "id": "ac428739-e293-44a0-8d19-4130ca19f23e",
   "metadata": {},
   "outputs": [],
   "source": [
    "from sklearn.impute import SimpleImputer"
   ]
  },
  {
   "cell_type": "code",
   "execution_count": 7,
   "id": "908f3d6f-b03d-4077-8276-8d4bcf208df2",
   "metadata": {},
   "outputs": [],
   "source": [
    "# Create an imputer object with strategy = 'median'\n",
    "imputer = SimpleImputer(strategy='median')"
   ]
  },
  {
   "cell_type": "code",
   "execution_count": 8,
   "id": "1b910037-f46a-41f3-aeda-84b7b2ecf0f3",
   "metadata": {},
   "outputs": [],
   "source": [
    "# Fit the imputer on columns 1 and 2 of X (index 1 and 2)\n",
    "imputer = imputer.fit(X[:, 1:3])"
   ]
  },
  {
   "cell_type": "code",
   "execution_count": 9,
   "id": "c1edb667-6e63-4f2e-bd0a-ed6db9954d58",
   "metadata": {},
   "outputs": [],
   "source": [
    "# Replace missing values in X with the median values\n",
    "X[:, 1:3] = imputer.transform(X[:, 1:3])"
   ]
  },
  {
   "cell_type": "markdown",
   "id": "ef6ff0f0-7c6d-4ba6-a92c-7b30c4c8f435",
   "metadata": {},
   "source": [
    "# Encoding Categorical Data using LabelEncoder\n",
    "Machine learning models do not understand text, so we need to convert text labels into numbers\n"
   ]
  },
  {
   "cell_type": "code",
   "execution_count": 10,
   "id": "649746ab-b8eb-49fd-8a53-ca58f36ac1eb",
   "metadata": {},
   "outputs": [],
   "source": [
    "from sklearn.preprocessing import LabelEncoder"
   ]
  },
  {
   "cell_type": "code",
   "execution_count": 11,
   "id": "505b4c8f-32e4-408e-8243-aa6e694819a2",
   "metadata": {},
   "outputs": [],
   "source": [
    "# Encoding the first column of X (e.g., country names or categories)\n",
    "labelencoder_X = LabelEncoder()\n",
    "X[:, 0] = labelencoder_X.fit_transform(X[:, 0])"
   ]
  },
  {
   "cell_type": "code",
   "execution_count": 12,
   "id": "ff0a3102-adc5-4688-854a-50af4a8c032f",
   "metadata": {},
   "outputs": [],
   "source": [
    "# Encoding the target column y if it is categorical\n",
    "labelencoder_y = LabelEncoder()\n",
    "y = labelencoder_y.fit_transform(y)"
   ]
  },
  {
   "cell_type": "markdown",
   "id": "bf573baf-6068-40d1-944b-d3de88c4f8df",
   "metadata": {},
   "source": [
    "# Splitting the Dataset into Training and Testing Sets\n",
    "We split the data so that the model can learn on training data and be tested on unseen test data"
   ]
  },
  {
   "cell_type": "code",
   "execution_count": 13,
   "id": "570dd754-a915-45c1-bc25-8847a2871f5f",
   "metadata": {},
   "outputs": [],
   "source": [
    "from sklearn.model_selection import train_test_split\n",
    "\n",
    "# Splitting: 70% for training and 30% for testing\n",
    "# random_state = 0 ensures the same result each time you run\n",
    "X_train, X_test, y_train, y_test = train_test_split(X, y, test_size=0.3, random_state=0)\n",
    "\n",
    "# Now, the data is ready for building a machine learning model!"
   ]
  },
  {
   "cell_type": "markdown",
   "id": "3703e508-de28-4b99-bbc6-f3175e7b65f7",
   "metadata": {},
   "source": [
    "# Checking the Sizes of the Training and Testing Sets"
   ]
  },
  {
   "cell_type": "code",
   "execution_count": 23,
   "id": "ebf9b2b5-82f1-4b1e-95b6-366c1b19abe8",
   "metadata": {},
   "outputs": [
    {
     "name": "stdout",
     "output_type": "stream",
     "text": [
      "Number of training samples (X_train): 7\n",
      "Number of training labels (y_train): 7\n"
     ]
    }
   ],
   "source": [
    "# Number of rows (samples) in training set\n",
    "print(\"Number of training samples (X_train):\", len(X_train))\n",
    "print(\"Number of training labels (y_train):\", len(y_train))"
   ]
  },
  {
   "cell_type": "code",
   "execution_count": 24,
   "id": "e7b4d7c3-2f0b-4d67-a2a1-19a518686c9a",
   "metadata": {},
   "outputs": [
    {
     "name": "stdout",
     "output_type": "stream",
     "text": [
      "Number of test samples (X_test): 3\n",
      "Number of test labels (y_test): 3\n"
     ]
    }
   ],
   "source": [
    "# Number of rows (samples) in testing set\n",
    "print(\"Number of test samples (X_test):\", len(X_test))\n",
    "print(\"Number of test labels (y_test):\", len(y_test))"
   ]
  },
  {
   "cell_type": "markdown",
   "id": "341fad73-daae-4bfc-8da3-29179b4a4382",
   "metadata": {},
   "source": [
    "# Conclusion\n",
    "\n",
    "\n",
    "- Today we learned how to prepare data for machine learning.\n",
    "- We handled missing values using SimpleImputer,\n",
    "- converted categorical values into numbers using LabelEncoder,\n",
    "- and split the dataset into training and test sets using train_test_split.\n",
    "\n",
    "- This is the most important step before training any machine learning model.\n",
    "\n",
    "- I understood that without clean and processed data, \n",
    "- the model may give wrong predictions or not work at all.\n",
    "\n",
    "- I will now practice with more datasets to become better at data preprocessing.\n"
   ]
  },
  {
   "cell_type": "code",
   "execution_count": null,
   "id": "4eedc31e-c5c7-4346-869f-786539fa40ba",
   "metadata": {},
   "outputs": [],
   "source": []
  }
 ],
 "metadata": {
  "kernelspec": {
   "display_name": "Python 3 (ipykernel)",
   "language": "python",
   "name": "python3"
  },
  "language_info": {
   "codemirror_mode": {
    "name": "ipython",
    "version": 3
   },
   "file_extension": ".py",
   "mimetype": "text/x-python",
   "name": "python",
   "nbconvert_exporter": "python",
   "pygments_lexer": "ipython3",
   "version": "3.13.5"
  }
 },
 "nbformat": 4,
 "nbformat_minor": 5
}
