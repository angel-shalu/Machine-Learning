{
 "cells": [
  {
   "cell_type": "markdown",
   "id": "724f8129-4864-4518-9a43-2dbdf9fd7d5f",
   "metadata": {},
   "source": [
    "# **Simple Linear Regression (SLR)** \n",
    "\n"
   ]
  },
  {
   "cell_type": "markdown",
   "id": "022246cc-19ee-4ebe-91b2-1ec20d8dae82",
   "metadata": {},
   "source": [
    "Today we are learning our **first machine learning algorithm – Simple Linear Regression (SLR)**.\n",
    "\n",
    "This is a type of **supervised learning algorithm**, and it belongs to the **regression category** of ML tasks.\n",
    "\n",
    "In machine learning, there are mainly three types of problems:\n",
    "1. **Regression** – when we predict continuous values (like salary, house price)\n",
    "2. **Classification** – when we predict categories (like spam or not spam)\n",
    "3. **Clustering** – when we group data based on similarity without labeled output\n",
    "\n",
    "Since **SLR predicts continuous values**, it is a **regression algorithm**.\n",
    "\n",
    "### Note -\n",
    "* We will use **Spyder** to build and run our machine learning model, as it provides a powerful IDE for writing and testing Python scripts efficiently.  \n",
    "* For **documentation, explanations, and visual presentation**, we use **Jupyter Notebook** to keep everything well-organized and easy to understand.\n",
    "\n",
    "In this notebook, we will:\n",
    "- Understand the theory behind Simple Linear Regression\n",
    "- Learn the formula `Y = mX + c` and how each part works\n",
    "- Train a regression model using `scikit-learn` in Python\n",
    "- Visualize the model and make predictions for new data points\n"
   ]
  },
  {
   "cell_type": "markdown",
   "id": "7dd30f23-95a7-4fd1-b0d6-8f4087bfaf1d",
   "metadata": {},
   "source": [
    "## **Introduction to Regression**\n",
    "\n",
    "Regression is a statistical method used to model the relationship between a dependent (target) variable and one or more independent (input) variables.\n",
    "\n",
    "Purpose:\n",
    "- Predict future outcomes based on past data.\n",
    "- Understand how changes in the input affect the output.\n",
    "\n",
    "\n",
    "## **What is Simple Linear Regression?**\n",
    "\n",
    "Simple Linear Regression is a regression technique with:\n",
    "- One independent variable (X)\n",
    "- One dependent variable (Y)\n",
    "- A linear (straight-line) relationship between them\n",
    "\n",
    "\n",
    "Formula:\n",
    "   \\\\[\n",
    "    Y = mX + c\n",
    "    \\\\]\n",
    "\n",
    "Where:\n",
    "- \\\\( Y \\\\): Predicted value (e.g., Salary)\n",
    "- \\\\( X \\\\): Input variable (e.g., Years of Experience)\n",
    "- \\\\( m \\\\): Slope (change in Y for each unit of X)\n",
    "- \\\\( c \\\\): Intercept (value of Y when X = 0)\n",
    "\n",
    "\n",
    "\n",
    "## **Understanding the Variables:**\n",
    "- **X**: Independent variable (e.g., years of experience). This is the input feature.\n",
    "- **Y**: Dependent variable (e.g., salary). This is the output we are trying to predict.\n",
    "- **\\\\( \\hat{Y} \\\\) (Y hat)**: Predicted value of Y using our regression equation.\n",
    "\n",
    "\n",
    "## How to Calculate Slope (m) and Intercept (c)\n",
    "To calculate the regression line manually:\n",
    "\n",
    "Step 1: Find the mean of X (\\\\(\\bar{X}\\\\)) and mean of Y (\\\\(\\bar{Y}\\\\))\n",
    "\n",
    "Step 2: Use the formulas:\n",
    "\n",
    "- **Slope (m):**\n",
    "\\\\[\n",
    "    m = \\frac{\\sum{(X - \\bar{X})(Y - \\bar{Y})}}{\\sum{(X - \\bar{X})^2}}\n",
    "\\\\]\n",
    "\n",
    "- **Intercept (c):**\n",
    "\\\\[\n",
    "    c = \\bar{Y} - m \\cdot \\bar{X}\n",
    "\\\\]\n",
    "\n",
    "\n",
    "**Simple Example:**\n",
    "\n",
    "Let's say:\n",
    "- X = \\\\[1, 2, 3, 4, 5\\\\]\n",
    "- Y = \\\\[2, 4, 5, 4, 5\\\\]\n",
    "\n",
    "Then:\n",
    "- \\\\(\\bar{X} = 3\\\\), \\\\(\\bar{Y} = 4\\\\)\n",
    "- Numerator = (X - \\\\(\\bar{X}\\\\)) * (Y - \\\\(\\bar{Y}\\\\)) = \\\\[4, 0, 0, 0, 2\\\\] →  Sum = 6\n",
    "- Denominator = (X - \\\\(\\bar{X}\\\\))^2 = \\\\[4, 1, 0, 1, 4\\\\] →  Sum = 10\n",
    "\n",
    "So:\n",
    "- m = 6 / 10 = 0.6\n",
    "- c = 4 - (0.6 * 3) = 2.2\n",
    "\n",
    "The final equation becomes:\n",
    "\\\\[\n",
    "    Y = 0.6X + 2.2\n",
    "\\\\]\n",
    "This line can now be used to predict future Y values based on X.\n"
   ]
  },
  {
   "cell_type": "code",
   "execution_count": 1,
   "id": "2ca41995-b2e4-4fca-a25a-eeeb208a1f7c",
   "metadata": {},
   "outputs": [],
   "source": [
    "import numpy as np\n",
    "import matplotlib.pyplot as plt\n",
    "import pandas as pd "
   ]
  },
  {
   "cell_type": "markdown",
   "id": "1c12ffce-26fa-412f-b356-4fb6f5f89bb2",
   "metadata": {},
   "source": [
    "# 1. Load dataset"
   ]
  },
  {
   "cell_type": "code",
   "execution_count": null,
   "id": "8b0491c2-137d-4df2-978b-b51c099726ed",
   "metadata": {},
   "outputs": [
    {
     "name": "stdout",
     "output_type": "stream",
     "text": [
      "Index(['YearsExperience', 'Salary'], dtype='object')\n"
     ]
    }
   ],
   "source": [
    "# Load dataset\n",
    "df = pd.read_csv(r\"C:\\Users\\shali\\Desktop\\Nit Data Science\\6_Month_DS_Road_Map_2025\\8. Machine Learning\\Regression\\Salary_Prediction_App\\Salary_Data.csv\")\n",
    "\n",
    "# Check columns\n",
    "print(df.columns)"
   ]
  },
  {
   "cell_type": "code",
   "execution_count": 4,
   "id": "139b90ca-b197-4774-b8f5-3e29bcc317f6",
   "metadata": {},
   "outputs": [
    {
     "data": {
      "text/html": [
       "<div>\n",
       "<style scoped>\n",
       "    .dataframe tbody tr th:only-of-type {\n",
       "        vertical-align: middle;\n",
       "    }\n",
       "\n",
       "    .dataframe tbody tr th {\n",
       "        vertical-align: top;\n",
       "    }\n",
       "\n",
       "    .dataframe thead th {\n",
       "        text-align: right;\n",
       "    }\n",
       "</style>\n",
       "<table border=\"1\" class=\"dataframe\">\n",
       "  <thead>\n",
       "    <tr style=\"text-align: right;\">\n",
       "      <th></th>\n",
       "      <th>YearsExperience</th>\n",
       "      <th>Salary</th>\n",
       "    </tr>\n",
       "  </thead>\n",
       "  <tbody>\n",
       "    <tr>\n",
       "      <th>0</th>\n",
       "      <td>1.1</td>\n",
       "      <td>39343</td>\n",
       "    </tr>\n",
       "    <tr>\n",
       "      <th>1</th>\n",
       "      <td>1.3</td>\n",
       "      <td>46205</td>\n",
       "    </tr>\n",
       "    <tr>\n",
       "      <th>2</th>\n",
       "      <td>1.5</td>\n",
       "      <td>37731</td>\n",
       "    </tr>\n",
       "    <tr>\n",
       "      <th>3</th>\n",
       "      <td>2.0</td>\n",
       "      <td>43525</td>\n",
       "    </tr>\n",
       "    <tr>\n",
       "      <th>4</th>\n",
       "      <td>2.2</td>\n",
       "      <td>39891</td>\n",
       "    </tr>\n",
       "  </tbody>\n",
       "</table>\n",
       "</div>"
      ],
      "text/plain": [
       "   YearsExperience  Salary\n",
       "0              1.1   39343\n",
       "1              1.3   46205\n",
       "2              1.5   37731\n",
       "3              2.0   43525\n",
       "4              2.2   39891"
      ]
     },
     "execution_count": 4,
     "metadata": {},
     "output_type": "execute_result"
    }
   ],
   "source": [
    "df.head()"
   ]
  },
  {
   "cell_type": "markdown",
   "id": "57922d92-f30b-4019-928c-ab5f8544afec",
   "metadata": {},
   "source": [
    "# 2. Separate features and target"
   ]
  },
  {
   "cell_type": "code",
   "execution_count": 5,
   "id": "99a3e81d-bac2-4d46-b7aa-73bbd1c4ad41",
   "metadata": {},
   "outputs": [],
   "source": [
    "# Separate features and target\n",
    "x = df.iloc[:, :-1]  # Input variable (Years of Experience)\n",
    "y = df.iloc[:, -1]   # Target variable (Salary)"
   ]
  },
  {
   "cell_type": "code",
   "execution_count": 8,
   "id": "f4ce188a-1f6e-436a-9e7d-761390e76223",
   "metadata": {},
   "outputs": [
    {
     "name": "stdout",
     "output_type": "stream",
     "text": [
      "YearsExperience    0\n",
      "Salary             0\n",
      "dtype: int64\n"
     ]
    }
   ],
   "source": [
    "# Check for missing values\n",
    "print(df.isnull().sum())"
   ]
  },
  {
   "cell_type": "markdown",
   "id": "a3c2e7d9-091e-49ae-961d-78eeeb2a9d85",
   "metadata": {},
   "source": [
    "# 3. Split into training and testing sets"
   ]
  },
  {
   "cell_type": "code",
   "execution_count": 9,
   "id": "b5e6d39a-2184-4c1e-b590-7b8b9732a30d",
   "metadata": {},
   "outputs": [],
   "source": [
    "from sklearn.model_selection import train_test_split\n",
    "x_train, x_test, y_train, y_test = train_test_split(x, y, test_size=0.20, random_state=0)"
   ]
  },
  {
   "cell_type": "code",
   "execution_count": 13,
   "id": "6441792f-9ba5-441b-92e9-d296742c3147",
   "metadata": {},
   "outputs": [
    {
     "data": {
      "text/plain": [
       "(30, 2)"
      ]
     },
     "execution_count": 13,
     "metadata": {},
     "output_type": "execute_result"
    }
   ],
   "source": [
    "df.shape"
   ]
  },
  {
   "cell_type": "code",
   "execution_count": 10,
   "id": "e49f4877-f7bd-4361-9949-b71e4e20fa81",
   "metadata": {},
   "outputs": [
    {
     "name": "stdout",
     "output_type": "stream",
     "text": [
      "Number of training samples (x_train): 24\n",
      "Number of training labels (y_train): 24\n"
     ]
    }
   ],
   "source": [
    "# Number of rows (samples) in training set\n",
    "print(\"Number of training samples (x_train):\", len(x_train))\n",
    "print(\"Number of training labels (y_train):\", len(y_train))"
   ]
  },
  {
   "cell_type": "code",
   "execution_count": 11,
   "id": "8ee06b64-7776-4eb2-a847-045ad8a61b6c",
   "metadata": {},
   "outputs": [
    {
     "name": "stdout",
     "output_type": "stream",
     "text": [
      "Number of test samples (x_test): 6\n",
      "Number of test labels (y_test): 6\n"
     ]
    }
   ],
   "source": [
    "# Number of rows (samples) in testing set\n",
    "print(\"Number of test samples (x_test):\", len(x_test))\n",
    "print(\"Number of test labels (y_test):\", len(y_test))"
   ]
  },
  {
   "cell_type": "markdown",
   "id": "30d1096d-bf86-4f18-b0bd-d18f35fcc1f1",
   "metadata": {},
   "source": [
    "# 4. Import and train the model"
   ]
  },
  {
   "cell_type": "code",
   "execution_count": 14,
   "id": "682b47c9-0f0f-4033-83dd-a79754ce25f2",
   "metadata": {},
   "outputs": [
    {
     "data": {
      "text/html": [
       "<style>#sk-container-id-1 {\n",
       "  /* Definition of color scheme common for light and dark mode */\n",
       "  --sklearn-color-text: #000;\n",
       "  --sklearn-color-text-muted: #666;\n",
       "  --sklearn-color-line: gray;\n",
       "  /* Definition of color scheme for unfitted estimators */\n",
       "  --sklearn-color-unfitted-level-0: #fff5e6;\n",
       "  --sklearn-color-unfitted-level-1: #f6e4d2;\n",
       "  --sklearn-color-unfitted-level-2: #ffe0b3;\n",
       "  --sklearn-color-unfitted-level-3: chocolate;\n",
       "  /* Definition of color scheme for fitted estimators */\n",
       "  --sklearn-color-fitted-level-0: #f0f8ff;\n",
       "  --sklearn-color-fitted-level-1: #d4ebff;\n",
       "  --sklearn-color-fitted-level-2: #b3dbfd;\n",
       "  --sklearn-color-fitted-level-3: cornflowerblue;\n",
       "\n",
       "  /* Specific color for light theme */\n",
       "  --sklearn-color-text-on-default-background: var(--sg-text-color, var(--theme-code-foreground, var(--jp-content-font-color1, black)));\n",
       "  --sklearn-color-background: var(--sg-background-color, var(--theme-background, var(--jp-layout-color0, white)));\n",
       "  --sklearn-color-border-box: var(--sg-text-color, var(--theme-code-foreground, var(--jp-content-font-color1, black)));\n",
       "  --sklearn-color-icon: #696969;\n",
       "\n",
       "  @media (prefers-color-scheme: dark) {\n",
       "    /* Redefinition of color scheme for dark theme */\n",
       "    --sklearn-color-text-on-default-background: var(--sg-text-color, var(--theme-code-foreground, var(--jp-content-font-color1, white)));\n",
       "    --sklearn-color-background: var(--sg-background-color, var(--theme-background, var(--jp-layout-color0, #111)));\n",
       "    --sklearn-color-border-box: var(--sg-text-color, var(--theme-code-foreground, var(--jp-content-font-color1, white)));\n",
       "    --sklearn-color-icon: #878787;\n",
       "  }\n",
       "}\n",
       "\n",
       "#sk-container-id-1 {\n",
       "  color: var(--sklearn-color-text);\n",
       "}\n",
       "\n",
       "#sk-container-id-1 pre {\n",
       "  padding: 0;\n",
       "}\n",
       "\n",
       "#sk-container-id-1 input.sk-hidden--visually {\n",
       "  border: 0;\n",
       "  clip: rect(1px 1px 1px 1px);\n",
       "  clip: rect(1px, 1px, 1px, 1px);\n",
       "  height: 1px;\n",
       "  margin: -1px;\n",
       "  overflow: hidden;\n",
       "  padding: 0;\n",
       "  position: absolute;\n",
       "  width: 1px;\n",
       "}\n",
       "\n",
       "#sk-container-id-1 div.sk-dashed-wrapped {\n",
       "  border: 1px dashed var(--sklearn-color-line);\n",
       "  margin: 0 0.4em 0.5em 0.4em;\n",
       "  box-sizing: border-box;\n",
       "  padding-bottom: 0.4em;\n",
       "  background-color: var(--sklearn-color-background);\n",
       "}\n",
       "\n",
       "#sk-container-id-1 div.sk-container {\n",
       "  /* jupyter's `normalize.less` sets `[hidden] { display: none; }`\n",
       "     but bootstrap.min.css set `[hidden] { display: none !important; }`\n",
       "     so we also need the `!important` here to be able to override the\n",
       "     default hidden behavior on the sphinx rendered scikit-learn.org.\n",
       "     See: https://github.com/scikit-learn/scikit-learn/issues/21755 */\n",
       "  display: inline-block !important;\n",
       "  position: relative;\n",
       "}\n",
       "\n",
       "#sk-container-id-1 div.sk-text-repr-fallback {\n",
       "  display: none;\n",
       "}\n",
       "\n",
       "div.sk-parallel-item,\n",
       "div.sk-serial,\n",
       "div.sk-item {\n",
       "  /* draw centered vertical line to link estimators */\n",
       "  background-image: linear-gradient(var(--sklearn-color-text-on-default-background), var(--sklearn-color-text-on-default-background));\n",
       "  background-size: 2px 100%;\n",
       "  background-repeat: no-repeat;\n",
       "  background-position: center center;\n",
       "}\n",
       "\n",
       "/* Parallel-specific style estimator block */\n",
       "\n",
       "#sk-container-id-1 div.sk-parallel-item::after {\n",
       "  content: \"\";\n",
       "  width: 100%;\n",
       "  border-bottom: 2px solid var(--sklearn-color-text-on-default-background);\n",
       "  flex-grow: 1;\n",
       "}\n",
       "\n",
       "#sk-container-id-1 div.sk-parallel {\n",
       "  display: flex;\n",
       "  align-items: stretch;\n",
       "  justify-content: center;\n",
       "  background-color: var(--sklearn-color-background);\n",
       "  position: relative;\n",
       "}\n",
       "\n",
       "#sk-container-id-1 div.sk-parallel-item {\n",
       "  display: flex;\n",
       "  flex-direction: column;\n",
       "}\n",
       "\n",
       "#sk-container-id-1 div.sk-parallel-item:first-child::after {\n",
       "  align-self: flex-end;\n",
       "  width: 50%;\n",
       "}\n",
       "\n",
       "#sk-container-id-1 div.sk-parallel-item:last-child::after {\n",
       "  align-self: flex-start;\n",
       "  width: 50%;\n",
       "}\n",
       "\n",
       "#sk-container-id-1 div.sk-parallel-item:only-child::after {\n",
       "  width: 0;\n",
       "}\n",
       "\n",
       "/* Serial-specific style estimator block */\n",
       "\n",
       "#sk-container-id-1 div.sk-serial {\n",
       "  display: flex;\n",
       "  flex-direction: column;\n",
       "  align-items: center;\n",
       "  background-color: var(--sklearn-color-background);\n",
       "  padding-right: 1em;\n",
       "  padding-left: 1em;\n",
       "}\n",
       "\n",
       "\n",
       "/* Toggleable style: style used for estimator/Pipeline/ColumnTransformer box that is\n",
       "clickable and can be expanded/collapsed.\n",
       "- Pipeline and ColumnTransformer use this feature and define the default style\n",
       "- Estimators will overwrite some part of the style using the `sk-estimator` class\n",
       "*/\n",
       "\n",
       "/* Pipeline and ColumnTransformer style (default) */\n",
       "\n",
       "#sk-container-id-1 div.sk-toggleable {\n",
       "  /* Default theme specific background. It is overwritten whether we have a\n",
       "  specific estimator or a Pipeline/ColumnTransformer */\n",
       "  background-color: var(--sklearn-color-background);\n",
       "}\n",
       "\n",
       "/* Toggleable label */\n",
       "#sk-container-id-1 label.sk-toggleable__label {\n",
       "  cursor: pointer;\n",
       "  display: flex;\n",
       "  width: 100%;\n",
       "  margin-bottom: 0;\n",
       "  padding: 0.5em;\n",
       "  box-sizing: border-box;\n",
       "  text-align: center;\n",
       "  align-items: start;\n",
       "  justify-content: space-between;\n",
       "  gap: 0.5em;\n",
       "}\n",
       "\n",
       "#sk-container-id-1 label.sk-toggleable__label .caption {\n",
       "  font-size: 0.6rem;\n",
       "  font-weight: lighter;\n",
       "  color: var(--sklearn-color-text-muted);\n",
       "}\n",
       "\n",
       "#sk-container-id-1 label.sk-toggleable__label-arrow:before {\n",
       "  /* Arrow on the left of the label */\n",
       "  content: \"▸\";\n",
       "  float: left;\n",
       "  margin-right: 0.25em;\n",
       "  color: var(--sklearn-color-icon);\n",
       "}\n",
       "\n",
       "#sk-container-id-1 label.sk-toggleable__label-arrow:hover:before {\n",
       "  color: var(--sklearn-color-text);\n",
       "}\n",
       "\n",
       "/* Toggleable content - dropdown */\n",
       "\n",
       "#sk-container-id-1 div.sk-toggleable__content {\n",
       "  max-height: 0;\n",
       "  max-width: 0;\n",
       "  overflow: hidden;\n",
       "  text-align: left;\n",
       "  /* unfitted */\n",
       "  background-color: var(--sklearn-color-unfitted-level-0);\n",
       "}\n",
       "\n",
       "#sk-container-id-1 div.sk-toggleable__content.fitted {\n",
       "  /* fitted */\n",
       "  background-color: var(--sklearn-color-fitted-level-0);\n",
       "}\n",
       "\n",
       "#sk-container-id-1 div.sk-toggleable__content pre {\n",
       "  margin: 0.2em;\n",
       "  border-radius: 0.25em;\n",
       "  color: var(--sklearn-color-text);\n",
       "  /* unfitted */\n",
       "  background-color: var(--sklearn-color-unfitted-level-0);\n",
       "}\n",
       "\n",
       "#sk-container-id-1 div.sk-toggleable__content.fitted pre {\n",
       "  /* unfitted */\n",
       "  background-color: var(--sklearn-color-fitted-level-0);\n",
       "}\n",
       "\n",
       "#sk-container-id-1 input.sk-toggleable__control:checked~div.sk-toggleable__content {\n",
       "  /* Expand drop-down */\n",
       "  max-height: 200px;\n",
       "  max-width: 100%;\n",
       "  overflow: auto;\n",
       "}\n",
       "\n",
       "#sk-container-id-1 input.sk-toggleable__control:checked~label.sk-toggleable__label-arrow:before {\n",
       "  content: \"▾\";\n",
       "}\n",
       "\n",
       "/* Pipeline/ColumnTransformer-specific style */\n",
       "\n",
       "#sk-container-id-1 div.sk-label input.sk-toggleable__control:checked~label.sk-toggleable__label {\n",
       "  color: var(--sklearn-color-text);\n",
       "  background-color: var(--sklearn-color-unfitted-level-2);\n",
       "}\n",
       "\n",
       "#sk-container-id-1 div.sk-label.fitted input.sk-toggleable__control:checked~label.sk-toggleable__label {\n",
       "  background-color: var(--sklearn-color-fitted-level-2);\n",
       "}\n",
       "\n",
       "/* Estimator-specific style */\n",
       "\n",
       "/* Colorize estimator box */\n",
       "#sk-container-id-1 div.sk-estimator input.sk-toggleable__control:checked~label.sk-toggleable__label {\n",
       "  /* unfitted */\n",
       "  background-color: var(--sklearn-color-unfitted-level-2);\n",
       "}\n",
       "\n",
       "#sk-container-id-1 div.sk-estimator.fitted input.sk-toggleable__control:checked~label.sk-toggleable__label {\n",
       "  /* fitted */\n",
       "  background-color: var(--sklearn-color-fitted-level-2);\n",
       "}\n",
       "\n",
       "#sk-container-id-1 div.sk-label label.sk-toggleable__label,\n",
       "#sk-container-id-1 div.sk-label label {\n",
       "  /* The background is the default theme color */\n",
       "  color: var(--sklearn-color-text-on-default-background);\n",
       "}\n",
       "\n",
       "/* On hover, darken the color of the background */\n",
       "#sk-container-id-1 div.sk-label:hover label.sk-toggleable__label {\n",
       "  color: var(--sklearn-color-text);\n",
       "  background-color: var(--sklearn-color-unfitted-level-2);\n",
       "}\n",
       "\n",
       "/* Label box, darken color on hover, fitted */\n",
       "#sk-container-id-1 div.sk-label.fitted:hover label.sk-toggleable__label.fitted {\n",
       "  color: var(--sklearn-color-text);\n",
       "  background-color: var(--sklearn-color-fitted-level-2);\n",
       "}\n",
       "\n",
       "/* Estimator label */\n",
       "\n",
       "#sk-container-id-1 div.sk-label label {\n",
       "  font-family: monospace;\n",
       "  font-weight: bold;\n",
       "  display: inline-block;\n",
       "  line-height: 1.2em;\n",
       "}\n",
       "\n",
       "#sk-container-id-1 div.sk-label-container {\n",
       "  text-align: center;\n",
       "}\n",
       "\n",
       "/* Estimator-specific */\n",
       "#sk-container-id-1 div.sk-estimator {\n",
       "  font-family: monospace;\n",
       "  border: 1px dotted var(--sklearn-color-border-box);\n",
       "  border-radius: 0.25em;\n",
       "  box-sizing: border-box;\n",
       "  margin-bottom: 0.5em;\n",
       "  /* unfitted */\n",
       "  background-color: var(--sklearn-color-unfitted-level-0);\n",
       "}\n",
       "\n",
       "#sk-container-id-1 div.sk-estimator.fitted {\n",
       "  /* fitted */\n",
       "  background-color: var(--sklearn-color-fitted-level-0);\n",
       "}\n",
       "\n",
       "/* on hover */\n",
       "#sk-container-id-1 div.sk-estimator:hover {\n",
       "  /* unfitted */\n",
       "  background-color: var(--sklearn-color-unfitted-level-2);\n",
       "}\n",
       "\n",
       "#sk-container-id-1 div.sk-estimator.fitted:hover {\n",
       "  /* fitted */\n",
       "  background-color: var(--sklearn-color-fitted-level-2);\n",
       "}\n",
       "\n",
       "/* Specification for estimator info (e.g. \"i\" and \"?\") */\n",
       "\n",
       "/* Common style for \"i\" and \"?\" */\n",
       "\n",
       ".sk-estimator-doc-link,\n",
       "a:link.sk-estimator-doc-link,\n",
       "a:visited.sk-estimator-doc-link {\n",
       "  float: right;\n",
       "  font-size: smaller;\n",
       "  line-height: 1em;\n",
       "  font-family: monospace;\n",
       "  background-color: var(--sklearn-color-background);\n",
       "  border-radius: 1em;\n",
       "  height: 1em;\n",
       "  width: 1em;\n",
       "  text-decoration: none !important;\n",
       "  margin-left: 0.5em;\n",
       "  text-align: center;\n",
       "  /* unfitted */\n",
       "  border: var(--sklearn-color-unfitted-level-1) 1pt solid;\n",
       "  color: var(--sklearn-color-unfitted-level-1);\n",
       "}\n",
       "\n",
       ".sk-estimator-doc-link.fitted,\n",
       "a:link.sk-estimator-doc-link.fitted,\n",
       "a:visited.sk-estimator-doc-link.fitted {\n",
       "  /* fitted */\n",
       "  border: var(--sklearn-color-fitted-level-1) 1pt solid;\n",
       "  color: var(--sklearn-color-fitted-level-1);\n",
       "}\n",
       "\n",
       "/* On hover */\n",
       "div.sk-estimator:hover .sk-estimator-doc-link:hover,\n",
       ".sk-estimator-doc-link:hover,\n",
       "div.sk-label-container:hover .sk-estimator-doc-link:hover,\n",
       ".sk-estimator-doc-link:hover {\n",
       "  /* unfitted */\n",
       "  background-color: var(--sklearn-color-unfitted-level-3);\n",
       "  color: var(--sklearn-color-background);\n",
       "  text-decoration: none;\n",
       "}\n",
       "\n",
       "div.sk-estimator.fitted:hover .sk-estimator-doc-link.fitted:hover,\n",
       ".sk-estimator-doc-link.fitted:hover,\n",
       "div.sk-label-container:hover .sk-estimator-doc-link.fitted:hover,\n",
       ".sk-estimator-doc-link.fitted:hover {\n",
       "  /* fitted */\n",
       "  background-color: var(--sklearn-color-fitted-level-3);\n",
       "  color: var(--sklearn-color-background);\n",
       "  text-decoration: none;\n",
       "}\n",
       "\n",
       "/* Span, style for the box shown on hovering the info icon */\n",
       ".sk-estimator-doc-link span {\n",
       "  display: none;\n",
       "  z-index: 9999;\n",
       "  position: relative;\n",
       "  font-weight: normal;\n",
       "  right: .2ex;\n",
       "  padding: .5ex;\n",
       "  margin: .5ex;\n",
       "  width: min-content;\n",
       "  min-width: 20ex;\n",
       "  max-width: 50ex;\n",
       "  color: var(--sklearn-color-text);\n",
       "  box-shadow: 2pt 2pt 4pt #999;\n",
       "  /* unfitted */\n",
       "  background: var(--sklearn-color-unfitted-level-0);\n",
       "  border: .5pt solid var(--sklearn-color-unfitted-level-3);\n",
       "}\n",
       "\n",
       ".sk-estimator-doc-link.fitted span {\n",
       "  /* fitted */\n",
       "  background: var(--sklearn-color-fitted-level-0);\n",
       "  border: var(--sklearn-color-fitted-level-3);\n",
       "}\n",
       "\n",
       ".sk-estimator-doc-link:hover span {\n",
       "  display: block;\n",
       "}\n",
       "\n",
       "/* \"?\"-specific style due to the `<a>` HTML tag */\n",
       "\n",
       "#sk-container-id-1 a.estimator_doc_link {\n",
       "  float: right;\n",
       "  font-size: 1rem;\n",
       "  line-height: 1em;\n",
       "  font-family: monospace;\n",
       "  background-color: var(--sklearn-color-background);\n",
       "  border-radius: 1rem;\n",
       "  height: 1rem;\n",
       "  width: 1rem;\n",
       "  text-decoration: none;\n",
       "  /* unfitted */\n",
       "  color: var(--sklearn-color-unfitted-level-1);\n",
       "  border: var(--sklearn-color-unfitted-level-1) 1pt solid;\n",
       "}\n",
       "\n",
       "#sk-container-id-1 a.estimator_doc_link.fitted {\n",
       "  /* fitted */\n",
       "  border: var(--sklearn-color-fitted-level-1) 1pt solid;\n",
       "  color: var(--sklearn-color-fitted-level-1);\n",
       "}\n",
       "\n",
       "/* On hover */\n",
       "#sk-container-id-1 a.estimator_doc_link:hover {\n",
       "  /* unfitted */\n",
       "  background-color: var(--sklearn-color-unfitted-level-3);\n",
       "  color: var(--sklearn-color-background);\n",
       "  text-decoration: none;\n",
       "}\n",
       "\n",
       "#sk-container-id-1 a.estimator_doc_link.fitted:hover {\n",
       "  /* fitted */\n",
       "  background-color: var(--sklearn-color-fitted-level-3);\n",
       "}\n",
       "</style><div id=\"sk-container-id-1\" class=\"sk-top-container\"><div class=\"sk-text-repr-fallback\"><pre>LinearRegression()</pre><b>In a Jupyter environment, please rerun this cell to show the HTML representation or trust the notebook. <br />On GitHub, the HTML representation is unable to render, please try loading this page with nbviewer.org.</b></div><div class=\"sk-container\" hidden><div class=\"sk-item\"><div class=\"sk-estimator fitted sk-toggleable\"><input class=\"sk-toggleable__control sk-hidden--visually\" id=\"sk-estimator-id-1\" type=\"checkbox\" checked><label for=\"sk-estimator-id-1\" class=\"sk-toggleable__label fitted sk-toggleable__label-arrow\"><div><div>LinearRegression</div></div><div><a class=\"sk-estimator-doc-link fitted\" rel=\"noreferrer\" target=\"_blank\" href=\"https://scikit-learn.org/1.6/modules/generated/sklearn.linear_model.LinearRegression.html\">?<span>Documentation for LinearRegression</span></a><span class=\"sk-estimator-doc-link fitted\">i<span>Fitted</span></span></div></label><div class=\"sk-toggleable__content fitted\"><pre>LinearRegression()</pre></div> </div></div></div></div>"
      ],
      "text/plain": [
       "LinearRegression()"
      ]
     },
     "execution_count": 14,
     "metadata": {},
     "output_type": "execute_result"
    }
   ],
   "source": [
    "from sklearn.linear_model import LinearRegression\n",
    "# We create the linear regression model\n",
    "regressor = LinearRegression()\n",
    "# We fit the model using the training data\n",
    "regressor.fit(x_train, y_train)"
   ]
  },
  {
   "cell_type": "markdown",
   "id": "3bd0b0d2-29d3-4611-86e4-26d0c86023fa",
   "metadata": {},
   "source": [
    "# 5. Predict test set"
   ]
  },
  {
   "cell_type": "code",
   "execution_count": 17,
   "id": "a50ea8d2-6aaa-4324-9538-373efefc2033",
   "metadata": {},
   "outputs": [
    {
     "name": "stdout",
     "output_type": "stream",
     "text": [
      "[ 40748.96184072 122699.62295594  64961.65717022  63099.14214487\n",
      " 115249.56285456 107799.50275317]\n"
     ]
    }
   ],
   "source": [
    "# Using the trained model to make predictions on test data\n",
    "y_pred = regressor.predict(x_test)\n",
    "print(y_pred)"
   ]
  },
  {
   "cell_type": "markdown",
   "id": "412967de-3d07-49fd-9480-baf24d6e4f72",
   "metadata": {},
   "source": [
    "# 6. Compare actual vs predicted"
   ]
  },
  {
   "cell_type": "code",
   "execution_count": 18,
   "id": "0d3039ba-ae92-48e6-8ab5-ae3d026b8fb1",
   "metadata": {},
   "outputs": [
    {
     "name": "stdout",
     "output_type": "stream",
     "text": [
      "    Actual        Predict\n",
      "2    37731   40748.961841\n",
      "28  122391  122699.622956\n",
      "13   57081   64961.657170\n",
      "10   63218   63099.142145\n",
      "26  116969  115249.562855\n",
      "24  109431  107799.502753\n"
     ]
    }
   ],
   "source": [
    "# Creating a DataFrame to compare actual and predicted salaries\n",
    "comparison = pd.DataFrame({'Actual': y_test, 'Predict': y_pred})\n",
    "print(comparison)"
   ]
  },
  {
   "cell_type": "markdown",
   "id": "c7438123-d6c8-4651-a513-43ca68e49765",
   "metadata": {},
   "source": [
    "# 7. Visualize the results"
   ]
  },
  {
   "cell_type": "code",
   "execution_count": 19,
   "id": "c1522034-b2f7-4538-ac48-2c75c497e0f1",
   "metadata": {},
   "outputs": [
    {
     "data": {
      "image/png": "[encoded data removed]",
      "text/plain": [
       "<Figure size 640x480 with 1 Axes>"
      ]
     },
     "metadata": {},
     "output_type": "display_data"
    }
   ],
   "source": [
    "# Red points are actual test data, blue line is the regression prediction\n",
    "plt.scatter(x_test, y_test, color='red')\n",
    "plt.plot(x_train, regressor.predict(x_train), color='blue')\n",
    "plt.title(\"Salary vs Experience (Test Set)\")\n",
    "plt.xlabel(\"Years of Experience\")\n",
    "plt.ylabel(\"Salary\")\n",
    "plt.show()"
   ]
  },
  {
   "cell_type": "markdown",
   "id": "d15d7f60-bf53-41e3-90d2-1dffbe200c93",
   "metadata": {},
   "source": [
    "# 8. Calculate Slope (m) and Intercept (c)"
   ]
  },
  {
   "cell_type": "code",
   "execution_count": 20,
   "id": "b78fe7e6-86ff-4488-86e7-5264d5f6a0c8",
   "metadata": {},
   "outputs": [
    {
     "name": "stdout",
     "output_type": "stream",
     "text": [
      "Slope: [9312.57512673]\n"
     ]
    }
   ],
   "source": [
    "# Get the slope (m) of the regression line\n",
    "m_slope = regressor.coef_\n",
    "print(\"Slope:\", m_slope)"
   ]
  },
  {
   "cell_type": "code",
   "execution_count": 21,
   "id": "b26e6c2b-0461-43df-9a72-8d006cc46ce2",
   "metadata": {},
   "outputs": [
    {
     "name": "stdout",
     "output_type": "stream",
     "text": [
      "Intercept: 26780.099150628186\n"
     ]
    }
   ],
   "source": [
    "# Get the intercept (c) of the regression line\n",
    "c_intercept = regressor.intercept_\n",
    "print(\"Intercept:\", c_intercept)"
   ]
  },
  {
   "cell_type": "markdown",
   "id": "a7f9ab87-c024-4902-aa06-63d4677d77aa",
   "metadata": {},
   "source": [
    "# 9. Predict salary on unseen data\n",
    "Let's Predict for 12 and 20 years of experience\n"
   ]
  },
  {
   "cell_type": "code",
   "execution_count": 23,
   "id": "6cf12352-bad7-4c42-a6d2-710d66eb2fec",
   "metadata": {},
   "outputs": [
    {
     "name": "stdout",
     "output_type": "stream",
     "text": [
      "Predicted Salary for 12 Years of Experience: [138531.00067138]\n"
     ]
    }
   ],
   "source": [
    "# Using the formula: Y = mX + c\n",
    "y_12 = (m_slope * 12) + c_intercept\n",
    "print(\"Predicted Salary for 12 Years of Experience:\", y_12)"
   ]
  },
  {
   "cell_type": "code",
   "execution_count": 24,
   "id": "bc3af39a-1b4b-4e36-b28f-f296318745cf",
   "metadata": {},
   "outputs": [
    {
     "name": "stdout",
     "output_type": "stream",
     "text": [
      "Predicted Salary for 20 Years of Experience: [213031.60168521]\n"
     ]
    }
   ],
   "source": [
    "# Predict for 20 years\n",
    "y_20 = (m_slope * 20) + c_intercept\n",
    "print(\"Predicted Salary for 20 Years of Experience:\", y_20)"
   ]
  },
  {
   "cell_type": "markdown",
   "id": "812f97d1-b178-4628-a0e7-eb56649293fc",
   "metadata": {},
   "source": [
    "# 10. Summary – What We Did Today\n",
    "\n",
    "- We learned what regression is and where Simple Linear Regression fits in the ML world.\n",
    "- We studied the formula `Y = mX + c` and understood the roles of slope (m), intercept (c), input (X), and prediction (Y).\n",
    "- We explored how to calculate slope and intercept manually with a simple example.\n",
    "- Then we used Python and `scikit-learn` to:\n",
    "  - Load a dataset\n",
    "  - Train a linear regression model\n",
    "  - Make predictions on test data\n",
    "  - Visualize actual vs predicted values\n",
    "  - Predict salaries for 12 and 20 years of experience\n",
    "\n",
    "This was our first hands-on ML project using real data. With this foundation, we are now ready to explore more complex models and datasets.\n"
   ]
  },
  {
   "cell_type": "markdown",
   "id": "57f4d771-1918-426d-b540-b308a797c0d2",
   "metadata": {},
   "source": [
    "### Note -\n",
    "\n",
    "* We used **Spyder** to build and run our machine learning model, as it provides a powerful IDE for writing and testing Python scripts efficiently.  \n",
    "* For **documentation, explanations, and visual presentation**, we used **Jupyter Notebook** to keep everything well-organized and easy to understand."
   ]
  }
 ],
 "metadata": {
  "kernelspec": {
   "display_name": "Python 3",
   "language": "python",
   "name": "python3"
  },
  "language_info": {
   "codemirror_mode": {
    "name": "ipython",
    "version": 3
   },
   "file_extension": ".py",
   "mimetype": "text/x-python",
   "name": "python",
   "nbconvert_exporter": "python",
   "pygments_lexer": "ipython3",
   "version": "3.13.3"
  }
 },
 "nbformat": 4,
 "nbformat_minor": 5
}
