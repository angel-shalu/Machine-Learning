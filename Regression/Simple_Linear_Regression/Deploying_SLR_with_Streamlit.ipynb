{
 "cells": [
  {
   "cell_type": "markdown",
   "id": "45f6038f-1af9-4bc4-afd7-1c9436f81a5c",
   "metadata": {},
   "source": [
    "**Project: End-to-End Salary Prediction using Simple Linear Regression**\n",
    "\n",
    "After learning and understanding the core concepts of **Simple Linear Regression (SLR)** — including model training, evaluation, and statistical analysis — we are now applying this knowledge to build a **real-world machine learning application**.\n",
    "\n",
    "This project demonstrates:\n",
    "\n",
    "- Training a regression model using a dataset of **Years of Experience vs Salary**\n",
    "- Performing exploratory data analysis and statistical validation\n",
    "- Saving the model using `pickle` for future use (backend)\n",
    "- Creating a **Streamlit web app** that allows users to input experience and get instant salary predictions (frontend)\n",
    "\n",
    "This is a complete **end-to-end ML pipeline**, bridging theory and practice, and simulating how data science is done in real-world industry projects.\n",
    "\n",
    "**Note: Personal Workflow**\n",
    "\n",
    "For machine learning and coding:\n",
    "\n",
    "- I personally use **Spyder** or **VS Code** as my preferred environments.\n",
    "- I keep all files in **one organized project folder** and work on them simultaneously.\n",
    "- For **documentation, explanation, and step-by-step learning**, I use **Jupyter Notebook**.\n",
    "\n",
    "This combination allows me to both experiment and maintain a clear, explainable project structure.\n",
    "\n"
   ]
  },
  {
   "cell_type": "markdown",
   "id": "11107cbc-9174-4489-a931-79464a85895d",
   "metadata": {},
   "source": [
    "# Import Required Libraries\n",
    "We need tools to handle data, create models, visualize, and compute statistics."
   ]
  },
  {
   "cell_type": "code",
   "execution_count": 1,
   "id": "92f3990d-fe58-4c1f-a7ba-0a235b62ead9",
   "metadata": {},
   "outputs": [],
   "source": [
    "import numpy as np\n",
    "import matplotlib.pyplot as plt\n",
    "import pandas as pd\n",
    "from sklearn.model_selection import train_test_split\n",
    "from sklearn.linear_model import LinearRegression\n",
    "from scipy.stats import variation\n",
    "import scipy.stats as stats\n",
    "import pickle"
   ]
  },
  {
   "cell_type": "markdown",
   "id": "0d3f5a68-4756-4a8e-9b9e-5a0aa6876b57",
   "metadata": {},
   "source": [
    "# Load Dataset\n",
    "Bring in the dataset (CSV format) that contains Years of Experience and Salary.\n"
   ]
  },
  {
   "cell_type": "code",
   "execution_count": 2,
   "id": "1ad31ee3-bebd-4115-8fb5-d2b4fd4d8ea4",
   "metadata": {},
   "outputs": [],
   "source": [
    "df = pd.read_csv(r\"C:\\Users\\shali\\Desktop\\Nit Data Science\\6_Month_DS_Road_Map_2025\\8. Machine Learning\\Regression\\Salary_Prediction_App\\Salary_Data.csv\")"
   ]
  },
  {
   "cell_type": "code",
   "execution_count": 4,
   "id": "c3c595f7",
   "metadata": {},
   "outputs": [
    {
     "data": {
      "text/html": [
       "<div>\n",
       "<style scoped>\n",
       "    .dataframe tbody tr th:only-of-type {\n",
       "        vertical-align: middle;\n",
       "    }\n",
       "\n",
       "    .dataframe tbody tr th {\n",
       "        vertical-align: top;\n",
       "    }\n",
       "\n",
       "    .dataframe thead th {\n",
       "        text-align: right;\n",
       "    }\n",
       "</style>\n",
       "<table border=\"1\" class=\"dataframe\">\n",
       "  <thead>\n",
       "    <tr style=\"text-align: right;\">\n",
       "      <th></th>\n",
       "      <th>YearsExperience</th>\n",
       "      <th>Salary</th>\n",
       "    </tr>\n",
       "  </thead>\n",
       "  <tbody>\n",
       "    <tr>\n",
       "      <th>0</th>\n",
       "      <td>1.1</td>\n",
       "      <td>39343</td>\n",
       "    </tr>\n",
       "    <tr>\n",
       "      <th>1</th>\n",
       "      <td>1.3</td>\n",
       "      <td>46205</td>\n",
       "    </tr>\n",
       "    <tr>\n",
       "      <th>2</th>\n",
       "      <td>1.5</td>\n",
       "      <td>37731</td>\n",
       "    </tr>\n",
       "    <tr>\n",
       "      <th>3</th>\n",
       "      <td>2.0</td>\n",
       "      <td>43525</td>\n",
       "    </tr>\n",
       "    <tr>\n",
       "      <th>4</th>\n",
       "      <td>2.2</td>\n",
       "      <td>39891</td>\n",
       "    </tr>\n",
       "    <tr>\n",
       "      <th>5</th>\n",
       "      <td>2.9</td>\n",
       "      <td>56642</td>\n",
       "    </tr>\n",
       "    <tr>\n",
       "      <th>6</th>\n",
       "      <td>3.0</td>\n",
       "      <td>60150</td>\n",
       "    </tr>\n",
       "    <tr>\n",
       "      <th>7</th>\n",
       "      <td>3.2</td>\n",
       "      <td>54445</td>\n",
       "    </tr>\n",
       "    <tr>\n",
       "      <th>8</th>\n",
       "      <td>3.2</td>\n",
       "      <td>64445</td>\n",
       "    </tr>\n",
       "    <tr>\n",
       "      <th>9</th>\n",
       "      <td>3.7</td>\n",
       "      <td>57189</td>\n",
       "    </tr>\n",
       "    <tr>\n",
       "      <th>10</th>\n",
       "      <td>3.9</td>\n",
       "      <td>63218</td>\n",
       "    </tr>\n",
       "    <tr>\n",
       "      <th>11</th>\n",
       "      <td>4.0</td>\n",
       "      <td>55794</td>\n",
       "    </tr>\n",
       "    <tr>\n",
       "      <th>12</th>\n",
       "      <td>4.0</td>\n",
       "      <td>56957</td>\n",
       "    </tr>\n",
       "    <tr>\n",
       "      <th>13</th>\n",
       "      <td>4.1</td>\n",
       "      <td>57081</td>\n",
       "    </tr>\n",
       "    <tr>\n",
       "      <th>14</th>\n",
       "      <td>4.5</td>\n",
       "      <td>61111</td>\n",
       "    </tr>\n",
       "    <tr>\n",
       "      <th>15</th>\n",
       "      <td>4.9</td>\n",
       "      <td>67938</td>\n",
       "    </tr>\n",
       "    <tr>\n",
       "      <th>16</th>\n",
       "      <td>5.1</td>\n",
       "      <td>66029</td>\n",
       "    </tr>\n",
       "    <tr>\n",
       "      <th>17</th>\n",
       "      <td>5.3</td>\n",
       "      <td>83088</td>\n",
       "    </tr>\n",
       "    <tr>\n",
       "      <th>18</th>\n",
       "      <td>5.9</td>\n",
       "      <td>81363</td>\n",
       "    </tr>\n",
       "    <tr>\n",
       "      <th>19</th>\n",
       "      <td>6.0</td>\n",
       "      <td>93940</td>\n",
       "    </tr>\n",
       "    <tr>\n",
       "      <th>20</th>\n",
       "      <td>6.8</td>\n",
       "      <td>91738</td>\n",
       "    </tr>\n",
       "    <tr>\n",
       "      <th>21</th>\n",
       "      <td>7.1</td>\n",
       "      <td>98273</td>\n",
       "    </tr>\n",
       "    <tr>\n",
       "      <th>22</th>\n",
       "      <td>7.9</td>\n",
       "      <td>101302</td>\n",
       "    </tr>\n",
       "    <tr>\n",
       "      <th>23</th>\n",
       "      <td>8.2</td>\n",
       "      <td>113812</td>\n",
       "    </tr>\n",
       "    <tr>\n",
       "      <th>24</th>\n",
       "      <td>8.7</td>\n",
       "      <td>109431</td>\n",
       "    </tr>\n",
       "    <tr>\n",
       "      <th>25</th>\n",
       "      <td>9.0</td>\n",
       "      <td>105582</td>\n",
       "    </tr>\n",
       "    <tr>\n",
       "      <th>26</th>\n",
       "      <td>9.5</td>\n",
       "      <td>116969</td>\n",
       "    </tr>\n",
       "    <tr>\n",
       "      <th>27</th>\n",
       "      <td>9.6</td>\n",
       "      <td>112635</td>\n",
       "    </tr>\n",
       "    <tr>\n",
       "      <th>28</th>\n",
       "      <td>10.3</td>\n",
       "      <td>122391</td>\n",
       "    </tr>\n",
       "    <tr>\n",
       "      <th>29</th>\n",
       "      <td>10.5</td>\n",
       "      <td>121872</td>\n",
       "    </tr>\n",
       "  </tbody>\n",
       "</table>\n",
       "</div>"
      ],
      "text/plain": [
       "    YearsExperience  Salary\n",
       "0               1.1   39343\n",
       "1               1.3   46205\n",
       "2               1.5   37731\n",
       "3               2.0   43525\n",
       "4               2.2   39891\n",
       "5               2.9   56642\n",
       "6               3.0   60150\n",
       "7               3.2   54445\n",
       "8               3.2   64445\n",
       "9               3.7   57189\n",
       "10              3.9   63218\n",
       "11              4.0   55794\n",
       "12              4.0   56957\n",
       "13              4.1   57081\n",
       "14              4.5   61111\n",
       "15              4.9   67938\n",
       "16              5.1   66029\n",
       "17              5.3   83088\n",
       "18              5.9   81363\n",
       "19              6.0   93940\n",
       "20              6.8   91738\n",
       "21              7.1   98273\n",
       "22              7.9  101302\n",
       "23              8.2  113812\n",
       "24              8.7  109431\n",
       "25              9.0  105582\n",
       "26              9.5  116969\n",
       "27              9.6  112635\n",
       "28             10.3  122391\n",
       "29             10.5  121872"
      ]
     },
     "execution_count": 4,
     "metadata": {},
     "output_type": "execute_result"
    }
   ],
   "source": [
    "df"
   ]
  },
  {
   "cell_type": "code",
   "execution_count": 3,
   "id": "074067dc-aa50-4e64-83e7-347d901963a2",
   "metadata": {},
   "outputs": [
    {
     "data": {
      "text/html": [
       "<div>\n",
       "<style scoped>\n",
       "    .dataframe tbody tr th:only-of-type {\n",
       "        vertical-align: middle;\n",
       "    }\n",
       "\n",
       "    .dataframe tbody tr th {\n",
       "        vertical-align: top;\n",
       "    }\n",
       "\n",
       "    .dataframe thead th {\n",
       "        text-align: right;\n",
       "    }\n",
       "</style>\n",
       "<table border=\"1\" class=\"dataframe\">\n",
       "  <thead>\n",
       "    <tr style=\"text-align: right;\">\n",
       "      <th></th>\n",
       "      <th>YearsExperience</th>\n",
       "      <th>Salary</th>\n",
       "    </tr>\n",
       "  </thead>\n",
       "  <tbody>\n",
       "    <tr>\n",
       "      <th>0</th>\n",
       "      <td>1.1</td>\n",
       "      <td>39343</td>\n",
       "    </tr>\n",
       "    <tr>\n",
       "      <th>1</th>\n",
       "      <td>1.3</td>\n",
       "      <td>46205</td>\n",
       "    </tr>\n",
       "  </tbody>\n",
       "</table>\n",
       "</div>"
      ],
      "text/plain": [
       "   YearsExperience  Salary\n",
       "0              1.1   39343\n",
       "1              1.3   46205"
      ]
     },
     "execution_count": 3,
     "metadata": {},
     "output_type": "execute_result"
    }
   ],
   "source": [
    "df.head(2)"
   ]
  },
  {
   "cell_type": "markdown",
   "id": "999e7618-f69d-4016-9211-7bb673eeaec0",
   "metadata": {},
   "source": [
    "# Explore Dataset\n",
    "Understand data structure and ensure there are no missing values.\n"
   ]
  },
  {
   "cell_type": "code",
   "execution_count": 5,
   "id": "db91c272-9919-4583-ab0f-8c92ed4a2ab1",
   "metadata": {},
   "outputs": [
    {
     "name": "stdout",
     "output_type": "stream",
     "text": [
      "Columns: Index(['YearsExperience', 'Salary'], dtype='object')\n"
     ]
    }
   ],
   "source": [
    "print(\"Columns:\", df.columns)"
   ]
  },
  {
   "cell_type": "code",
   "execution_count": 6,
   "id": "8d49858d-55e7-4908-9774-7842b28454cd",
   "metadata": {},
   "outputs": [
    {
     "name": "stdout",
     "output_type": "stream",
     "text": [
      "Missing values:\n",
      " YearsExperience    0\n",
      "Salary             0\n",
      "dtype: int64\n"
     ]
    }
   ],
   "source": [
    "print(\"Missing values:\\n\", df.isnull().sum())"
   ]
  },
  {
   "cell_type": "markdown",
   "id": "0f3f322a-d573-4945-af46-9fd11945d1a7",
   "metadata": {},
   "source": [
    "# Separate Independent and Dependent Variables\n",
    "\n",
    "- X = Input = Years of Experience (independent variable)\n",
    "- Y = Output = Salary (dependent variable)"
   ]
  },
  {
   "cell_type": "code",
   "execution_count": 6,
   "id": "f2c7dd9b-3836-4301-81f3-4b4db777eccc",
   "metadata": {},
   "outputs": [],
   "source": [
    "x = df.iloc[:, :-1]  # selects all columns except the last (features/input)\n",
    "y = df.iloc[:, -1]   # selects the last column (typically your target/output)"
   ]
  },
  {
   "cell_type": "markdown",
   "id": "220c0661-bd2a-4256-ac84-adb42dbfc78f",
   "metadata": {},
   "source": [
    "# Train-Test Split\n",
    "Split dataset into training and testing for model validation (80% train, 20% test).\n"
   ]
  },
  {
   "cell_type": "code",
   "execution_count": 7,
   "id": "b1d9de5e-6a82-466d-af82-b1e756d4d9de",
   "metadata": {},
   "outputs": [],
   "source": [
    "x_train, x_test, y_train, y_test = train_test_split(x,y, test_size=0.20, random_state=0)"
   ]
  },
  {
   "cell_type": "markdown",
   "id": "76522cf9-de50-4c21-94be-81b609fa37ff",
   "metadata": {},
   "source": [
    "# Train the Model\n",
    "Create and train a Linear Regression model using the training data.\n"
   ]
  },
  {
   "cell_type": "code",
   "execution_count": 8,
   "id": "26c3729b-8331-4db7-a1d3-9ba29d1b8bd2",
   "metadata": {},
   "outputs": [
    {
     "data": {
      "text/html": [
       "<style>#sk-container-id-1 {\n",
       "  /* Definition of color scheme common for light and dark mode */\n",
       "  --sklearn-color-text: #000;\n",
       "  --sklearn-color-text-muted: #666;\n",
       "  --sklearn-color-line: gray;\n",
       "  /* Definition of color scheme for unfitted estimators */\n",
       "  --sklearn-color-unfitted-level-0: #fff5e6;\n",
       "  --sklearn-color-unfitted-level-1: #f6e4d2;\n",
       "  --sklearn-color-unfitted-level-2: #ffe0b3;\n",
       "  --sklearn-color-unfitted-level-3: chocolate;\n",
       "  /* Definition of color scheme for fitted estimators */\n",
       "  --sklearn-color-fitted-level-0: #f0f8ff;\n",
       "  --sklearn-color-fitted-level-1: #d4ebff;\n",
       "  --sklearn-color-fitted-level-2: #b3dbfd;\n",
       "  --sklearn-color-fitted-level-3: cornflowerblue;\n",
       "\n",
       "  /* Specific color for light theme */\n",
       "  --sklearn-color-text-on-default-background: var(--sg-text-color, var(--theme-code-foreground, var(--jp-content-font-color1, black)));\n",
       "  --sklearn-color-background: var(--sg-background-color, var(--theme-background, var(--jp-layout-color0, white)));\n",
       "  --sklearn-color-border-box: var(--sg-text-color, var(--theme-code-foreground, var(--jp-content-font-color1, black)));\n",
       "  --sklearn-color-icon: #696969;\n",
       "\n",
       "  @media (prefers-color-scheme: dark) {\n",
       "    /* Redefinition of color scheme for dark theme */\n",
       "    --sklearn-color-text-on-default-background: var(--sg-text-color, var(--theme-code-foreground, var(--jp-content-font-color1, white)));\n",
       "    --sklearn-color-background: var(--sg-background-color, var(--theme-background, var(--jp-layout-color0, #111)));\n",
       "    --sklearn-color-border-box: var(--sg-text-color, var(--theme-code-foreground, var(--jp-content-font-color1, white)));\n",
       "    --sklearn-color-icon: #878787;\n",
       "  }\n",
       "}\n",
       "\n",
       "#sk-container-id-1 {\n",
       "  color: var(--sklearn-color-text);\n",
       "}\n",
       "\n",
       "#sk-container-id-1 pre {\n",
       "  padding: 0;\n",
       "}\n",
       "\n",
       "#sk-container-id-1 input.sk-hidden--visually {\n",
       "  border: 0;\n",
       "  clip: rect(1px 1px 1px 1px);\n",
       "  clip: rect(1px, 1px, 1px, 1px);\n",
       "  height: 1px;\n",
       "  margin: -1px;\n",
       "  overflow: hidden;\n",
       "  padding: 0;\n",
       "  position: absolute;\n",
       "  width: 1px;\n",
       "}\n",
       "\n",
       "#sk-container-id-1 div.sk-dashed-wrapped {\n",
       "  border: 1px dashed var(--sklearn-color-line);\n",
       "  margin: 0 0.4em 0.5em 0.4em;\n",
       "  box-sizing: border-box;\n",
       "  padding-bottom: 0.4em;\n",
       "  background-color: var(--sklearn-color-background);\n",
       "}\n",
       "\n",
       "#sk-container-id-1 div.sk-container {\n",
       "  /* jupyter's `normalize.less` sets `[hidden] { display: none; }`\n",
       "     but bootstrap.min.css set `[hidden] { display: none !important; }`\n",
       "     so we also need the `!important` here to be able to override the\n",
       "     default hidden behavior on the sphinx rendered scikit-learn.org.\n",
       "     See: https://github.com/scikit-learn/scikit-learn/issues/21755 */\n",
       "  display: inline-block !important;\n",
       "  position: relative;\n",
       "}\n",
       "\n",
       "#sk-container-id-1 div.sk-text-repr-fallback {\n",
       "  display: none;\n",
       "}\n",
       "\n",
       "div.sk-parallel-item,\n",
       "div.sk-serial,\n",
       "div.sk-item {\n",
       "  /* draw centered vertical line to link estimators */\n",
       "  background-image: linear-gradient(var(--sklearn-color-text-on-default-background), var(--sklearn-color-text-on-default-background));\n",
       "  background-size: 2px 100%;\n",
       "  background-repeat: no-repeat;\n",
       "  background-position: center center;\n",
       "}\n",
       "\n",
       "/* Parallel-specific style estimator block */\n",
       "\n",
       "#sk-container-id-1 div.sk-parallel-item::after {\n",
       "  content: \"\";\n",
       "  width: 100%;\n",
       "  border-bottom: 2px solid var(--sklearn-color-text-on-default-background);\n",
       "  flex-grow: 1;\n",
       "}\n",
       "\n",
       "#sk-container-id-1 div.sk-parallel {\n",
       "  display: flex;\n",
       "  align-items: stretch;\n",
       "  justify-content: center;\n",
       "  background-color: var(--sklearn-color-background);\n",
       "  position: relative;\n",
       "}\n",
       "\n",
       "#sk-container-id-1 div.sk-parallel-item {\n",
       "  display: flex;\n",
       "  flex-direction: column;\n",
       "}\n",
       "\n",
       "#sk-container-id-1 div.sk-parallel-item:first-child::after {\n",
       "  align-self: flex-end;\n",
       "  width: 50%;\n",
       "}\n",
       "\n",
       "#sk-container-id-1 div.sk-parallel-item:last-child::after {\n",
       "  align-self: flex-start;\n",
       "  width: 50%;\n",
       "}\n",
       "\n",
       "#sk-container-id-1 div.sk-parallel-item:only-child::after {\n",
       "  width: 0;\n",
       "}\n",
       "\n",
       "/* Serial-specific style estimator block */\n",
       "\n",
       "#sk-container-id-1 div.sk-serial {\n",
       "  display: flex;\n",
       "  flex-direction: column;\n",
       "  align-items: center;\n",
       "  background-color: var(--sklearn-color-background);\n",
       "  padding-right: 1em;\n",
       "  padding-left: 1em;\n",
       "}\n",
       "\n",
       "\n",
       "/* Toggleable style: style used for estimator/Pipeline/ColumnTransformer box that is\n",
       "clickable and can be expanded/collapsed.\n",
       "- Pipeline and ColumnTransformer use this feature and define the default style\n",
       "- Estimators will overwrite some part of the style using the `sk-estimator` class\n",
       "*/\n",
       "\n",
       "/* Pipeline and ColumnTransformer style (default) */\n",
       "\n",
       "#sk-container-id-1 div.sk-toggleable {\n",
       "  /* Default theme specific background. It is overwritten whether we have a\n",
       "  specific estimator or a Pipeline/ColumnTransformer */\n",
       "  background-color: var(--sklearn-color-background);\n",
       "}\n",
       "\n",
       "/* Toggleable label */\n",
       "#sk-container-id-1 label.sk-toggleable__label {\n",
       "  cursor: pointer;\n",
       "  display: flex;\n",
       "  width: 100%;\n",
       "  margin-bottom: 0;\n",
       "  padding: 0.5em;\n",
       "  box-sizing: border-box;\n",
       "  text-align: center;\n",
       "  align-items: start;\n",
       "  justify-content: space-between;\n",
       "  gap: 0.5em;\n",
       "}\n",
       "\n",
       "#sk-container-id-1 label.sk-toggleable__label .caption {\n",
       "  font-size: 0.6rem;\n",
       "  font-weight: lighter;\n",
       "  color: var(--sklearn-color-text-muted);\n",
       "}\n",
       "\n",
       "#sk-container-id-1 label.sk-toggleable__label-arrow:before {\n",
       "  /* Arrow on the left of the label */\n",
       "  content: \"▸\";\n",
       "  float: left;\n",
       "  margin-right: 0.25em;\n",
       "  color: var(--sklearn-color-icon);\n",
       "}\n",
       "\n",
       "#sk-container-id-1 label.sk-toggleable__label-arrow:hover:before {\n",
       "  color: var(--sklearn-color-text);\n",
       "}\n",
       "\n",
       "/* Toggleable content - dropdown */\n",
       "\n",
       "#sk-container-id-1 div.sk-toggleable__content {\n",
       "  max-height: 0;\n",
       "  max-width: 0;\n",
       "  overflow: hidden;\n",
       "  text-align: left;\n",
       "  /* unfitted */\n",
       "  background-color: var(--sklearn-color-unfitted-level-0);\n",
       "}\n",
       "\n",
       "#sk-container-id-1 div.sk-toggleable__content.fitted {\n",
       "  /* fitted */\n",
       "  background-color: var(--sklearn-color-fitted-level-0);\n",
       "}\n",
       "\n",
       "#sk-container-id-1 div.sk-toggleable__content pre {\n",
       "  margin: 0.2em;\n",
       "  border-radius: 0.25em;\n",
       "  color: var(--sklearn-color-text);\n",
       "  /* unfitted */\n",
       "  background-color: var(--sklearn-color-unfitted-level-0);\n",
       "}\n",
       "\n",
       "#sk-container-id-1 div.sk-toggleable__content.fitted pre {\n",
       "  /* unfitted */\n",
       "  background-color: var(--sklearn-color-fitted-level-0);\n",
       "}\n",
       "\n",
       "#sk-container-id-1 input.sk-toggleable__control:checked~div.sk-toggleable__content {\n",
       "  /* Expand drop-down */\n",
       "  max-height: 200px;\n",
       "  max-width: 100%;\n",
       "  overflow: auto;\n",
       "}\n",
       "\n",
       "#sk-container-id-1 input.sk-toggleable__control:checked~label.sk-toggleable__label-arrow:before {\n",
       "  content: \"▾\";\n",
       "}\n",
       "\n",
       "/* Pipeline/ColumnTransformer-specific style */\n",
       "\n",
       "#sk-container-id-1 div.sk-label input.sk-toggleable__control:checked~label.sk-toggleable__label {\n",
       "  color: var(--sklearn-color-text);\n",
       "  background-color: var(--sklearn-color-unfitted-level-2);\n",
       "}\n",
       "\n",
       "#sk-container-id-1 div.sk-label.fitted input.sk-toggleable__control:checked~label.sk-toggleable__label {\n",
       "  background-color: var(--sklearn-color-fitted-level-2);\n",
       "}\n",
       "\n",
       "/* Estimator-specific style */\n",
       "\n",
       "/* Colorize estimator box */\n",
       "#sk-container-id-1 div.sk-estimator input.sk-toggleable__control:checked~label.sk-toggleable__label {\n",
       "  /* unfitted */\n",
       "  background-color: var(--sklearn-color-unfitted-level-2);\n",
       "}\n",
       "\n",
       "#sk-container-id-1 div.sk-estimator.fitted input.sk-toggleable__control:checked~label.sk-toggleable__label {\n",
       "  /* fitted */\n",
       "  background-color: var(--sklearn-color-fitted-level-2);\n",
       "}\n",
       "\n",
       "#sk-container-id-1 div.sk-label label.sk-toggleable__label,\n",
       "#sk-container-id-1 div.sk-label label {\n",
       "  /* The background is the default theme color */\n",
       "  color: var(--sklearn-color-text-on-default-background);\n",
       "}\n",
       "\n",
       "/* On hover, darken the color of the background */\n",
       "#sk-container-id-1 div.sk-label:hover label.sk-toggleable__label {\n",
       "  color: var(--sklearn-color-text);\n",
       "  background-color: var(--sklearn-color-unfitted-level-2);\n",
       "}\n",
       "\n",
       "/* Label box, darken color on hover, fitted */\n",
       "#sk-container-id-1 div.sk-label.fitted:hover label.sk-toggleable__label.fitted {\n",
       "  color: var(--sklearn-color-text);\n",
       "  background-color: var(--sklearn-color-fitted-level-2);\n",
       "}\n",
       "\n",
       "/* Estimator label */\n",
       "\n",
       "#sk-container-id-1 div.sk-label label {\n",
       "  font-family: monospace;\n",
       "  font-weight: bold;\n",
       "  display: inline-block;\n",
       "  line-height: 1.2em;\n",
       "}\n",
       "\n",
       "#sk-container-id-1 div.sk-label-container {\n",
       "  text-align: center;\n",
       "}\n",
       "\n",
       "/* Estimator-specific */\n",
       "#sk-container-id-1 div.sk-estimator {\n",
       "  font-family: monospace;\n",
       "  border: 1px dotted var(--sklearn-color-border-box);\n",
       "  border-radius: 0.25em;\n",
       "  box-sizing: border-box;\n",
       "  margin-bottom: 0.5em;\n",
       "  /* unfitted */\n",
       "  background-color: var(--sklearn-color-unfitted-level-0);\n",
       "}\n",
       "\n",
       "#sk-container-id-1 div.sk-estimator.fitted {\n",
       "  /* fitted */\n",
       "  background-color: var(--sklearn-color-fitted-level-0);\n",
       "}\n",
       "\n",
       "/* on hover */\n",
       "#sk-container-id-1 div.sk-estimator:hover {\n",
       "  /* unfitted */\n",
       "  background-color: var(--sklearn-color-unfitted-level-2);\n",
       "}\n",
       "\n",
       "#sk-container-id-1 div.sk-estimator.fitted:hover {\n",
       "  /* fitted */\n",
       "  background-color: var(--sklearn-color-fitted-level-2);\n",
       "}\n",
       "\n",
       "/* Specification for estimator info (e.g. \"i\" and \"?\") */\n",
       "\n",
       "/* Common style for \"i\" and \"?\" */\n",
       "\n",
       ".sk-estimator-doc-link,\n",
       "a:link.sk-estimator-doc-link,\n",
       "a:visited.sk-estimator-doc-link {\n",
       "  float: right;\n",
       "  font-size: smaller;\n",
       "  line-height: 1em;\n",
       "  font-family: monospace;\n",
       "  background-color: var(--sklearn-color-background);\n",
       "  border-radius: 1em;\n",
       "  height: 1em;\n",
       "  width: 1em;\n",
       "  text-decoration: none !important;\n",
       "  margin-left: 0.5em;\n",
       "  text-align: center;\n",
       "  /* unfitted */\n",
       "  border: var(--sklearn-color-unfitted-level-1) 1pt solid;\n",
       "  color: var(--sklearn-color-unfitted-level-1);\n",
       "}\n",
       "\n",
       ".sk-estimator-doc-link.fitted,\n",
       "a:link.sk-estimator-doc-link.fitted,\n",
       "a:visited.sk-estimator-doc-link.fitted {\n",
       "  /* fitted */\n",
       "  border: var(--sklearn-color-fitted-level-1) 1pt solid;\n",
       "  color: var(--sklearn-color-fitted-level-1);\n",
       "}\n",
       "\n",
       "/* On hover */\n",
       "div.sk-estimator:hover .sk-estimator-doc-link:hover,\n",
       ".sk-estimator-doc-link:hover,\n",
       "div.sk-label-container:hover .sk-estimator-doc-link:hover,\n",
       ".sk-estimator-doc-link:hover {\n",
       "  /* unfitted */\n",
       "  background-color: var(--sklearn-color-unfitted-level-3);\n",
       "  color: var(--sklearn-color-background);\n",
       "  text-decoration: none;\n",
       "}\n",
       "\n",
       "div.sk-estimator.fitted:hover .sk-estimator-doc-link.fitted:hover,\n",
       ".sk-estimator-doc-link.fitted:hover,\n",
       "div.sk-label-container:hover .sk-estimator-doc-link.fitted:hover,\n",
       ".sk-estimator-doc-link.fitted:hover {\n",
       "  /* fitted */\n",
       "  background-color: var(--sklearn-color-fitted-level-3);\n",
       "  color: var(--sklearn-color-background);\n",
       "  text-decoration: none;\n",
       "}\n",
       "\n",
       "/* Span, style for the box shown on hovering the info icon */\n",
       ".sk-estimator-doc-link span {\n",
       "  display: none;\n",
       "  z-index: 9999;\n",
       "  position: relative;\n",
       "  font-weight: normal;\n",
       "  right: .2ex;\n",
       "  padding: .5ex;\n",
       "  margin: .5ex;\n",
       "  width: min-content;\n",
       "  min-width: 20ex;\n",
       "  max-width: 50ex;\n",
       "  color: var(--sklearn-color-text);\n",
       "  box-shadow: 2pt 2pt 4pt #999;\n",
       "  /* unfitted */\n",
       "  background: var(--sklearn-color-unfitted-level-0);\n",
       "  border: .5pt solid var(--sklearn-color-unfitted-level-3);\n",
       "}\n",
       "\n",
       ".sk-estimator-doc-link.fitted span {\n",
       "  /* fitted */\n",
       "  background: var(--sklearn-color-fitted-level-0);\n",
       "  border: var(--sklearn-color-fitted-level-3);\n",
       "}\n",
       "\n",
       ".sk-estimator-doc-link:hover span {\n",
       "  display: block;\n",
       "}\n",
       "\n",
       "/* \"?\"-specific style due to the `<a>` HTML tag */\n",
       "\n",
       "#sk-container-id-1 a.estimator_doc_link {\n",
       "  float: right;\n",
       "  font-size: 1rem;\n",
       "  line-height: 1em;\n",
       "  font-family: monospace;\n",
       "  background-color: var(--sklearn-color-background);\n",
       "  border-radius: 1rem;\n",
       "  height: 1rem;\n",
       "  width: 1rem;\n",
       "  text-decoration: none;\n",
       "  /* unfitted */\n",
       "  color: var(--sklearn-color-unfitted-level-1);\n",
       "  border: var(--sklearn-color-unfitted-level-1) 1pt solid;\n",
       "}\n",
       "\n",
       "#sk-container-id-1 a.estimator_doc_link.fitted {\n",
       "  /* fitted */\n",
       "  border: var(--sklearn-color-fitted-level-1) 1pt solid;\n",
       "  color: var(--sklearn-color-fitted-level-1);\n",
       "}\n",
       "\n",
       "/* On hover */\n",
       "#sk-container-id-1 a.estimator_doc_link:hover {\n",
       "  /* unfitted */\n",
       "  background-color: var(--sklearn-color-unfitted-level-3);\n",
       "  color: var(--sklearn-color-background);\n",
       "  text-decoration: none;\n",
       "}\n",
       "\n",
       "#sk-container-id-1 a.estimator_doc_link.fitted:hover {\n",
       "  /* fitted */\n",
       "  background-color: var(--sklearn-color-fitted-level-3);\n",
       "}\n",
       "</style><div id=\"sk-container-id-1\" class=\"sk-top-container\"><div class=\"sk-text-repr-fallback\"><pre>LinearRegression()</pre><b>In a Jupyter environment, please rerun this cell to show the HTML representation or trust the notebook. <br />On GitHub, the HTML representation is unable to render, please try loading this page with nbviewer.org.</b></div><div class=\"sk-container\" hidden><div class=\"sk-item\"><div class=\"sk-estimator fitted sk-toggleable\"><input class=\"sk-toggleable__control sk-hidden--visually\" id=\"sk-estimator-id-1\" type=\"checkbox\" checked><label for=\"sk-estimator-id-1\" class=\"sk-toggleable__label fitted sk-toggleable__label-arrow\"><div><div>LinearRegression</div></div><div><a class=\"sk-estimator-doc-link fitted\" rel=\"noreferrer\" target=\"_blank\" href=\"https://scikit-learn.org/1.6/modules/generated/sklearn.linear_model.LinearRegression.html\">?<span>Documentation for LinearRegression</span></a><span class=\"sk-estimator-doc-link fitted\">i<span>Fitted</span></span></div></label><div class=\"sk-toggleable__content fitted\"><pre>LinearRegression()</pre></div> </div></div></div></div>"
      ],
      "text/plain": [
       "LinearRegression()"
      ]
     },
     "execution_count": 8,
     "metadata": {},
     "output_type": "execute_result"
    }
   ],
   "source": [
    "regressor = LinearRegression()\n",
    "regressor.fit(x_train, y_train)"
   ]
  },
  {
   "cell_type": "markdown",
   "id": "3c26fc1d-162c-4de5-b06e-c29e98561c20",
   "metadata": {},
   "source": [
    "# Make Predictions\n",
    "Use the trained model to predict salary values for the test set.\n"
   ]
  },
  {
   "cell_type": "code",
   "execution_count": 9,
   "id": "315a2d95-9e8e-4c3a-b36e-2321498673a1",
   "metadata": {},
   "outputs": [],
   "source": [
    "y_pred = regressor.predict(x_test)"
   ]
  },
  {
   "cell_type": "code",
   "execution_count": 10,
   "id": "0dec382b-0e23-435c-9f3d-c1f95801021b",
   "metadata": {},
   "outputs": [
    {
     "data": {
      "text/plain": [
       "array([ 40748.96184072, 122699.62295594,  64961.65717022,  63099.14214487,\n",
       "       115249.56285456, 107799.50275317])"
      ]
     },
     "execution_count": 10,
     "metadata": {},
     "output_type": "execute_result"
    }
   ],
   "source": [
    "y_pred"
   ]
  },
  {
   "cell_type": "markdown",
   "id": "9aeadaf4-a355-4d1f-96df-61138c15c450",
   "metadata": {},
   "source": [
    "# Compare Actual vs Predicted\n",
    "To see how close the predicted salaries are to the actual ones.\n"
   ]
  },
  {
   "cell_type": "code",
   "execution_count": 11,
   "id": "2b6db2b3-0571-43a5-9d61-c0207c93ec09",
   "metadata": {},
   "outputs": [
    {
     "name": "stdout",
     "output_type": "stream",
     "text": [
      "Actual vs Predicted:\n",
      "     Actual        Predict\n",
      "2    37731   40748.961841\n",
      "28  122391  122699.622956\n",
      "13   57081   64961.657170\n",
      "10   63218   63099.142145\n",
      "26  116969  115249.562855\n",
      "24  109431  107799.502753\n"
     ]
    }
   ],
   "source": [
    "comparison = pd.DataFrame({'Actual': y_test, 'Predict': y_pred})\n",
    "print(\"Actual vs Predicted:\\n\", comparison)"
   ]
  },
  {
   "cell_type": "markdown",
   "id": "850ab7dc-600e-43c6-a235-8a8d362b5626",
   "metadata": {},
   "source": [
    "# Visualize the Results\n",
    "\n",
    "- Red dots = Actual salaries from test set\n",
    "- Blue line = Regression line from training predictions"
   ]
  },
  {
   "cell_type": "code",
   "execution_count": 12,
   "id": "31b332b0-4d19-4007-8efa-2ee04b3e611d",
   "metadata": {},
   "outputs": [
    {
     "data": {
      "image/png": "[encoded data removed]",
      "text/plain": [
       "<Figure size 640x480 with 1 Axes>"
      ]
     },
     "metadata": {},
     "output_type": "display_data"
    }
   ],
   "source": [
    "plt.scatter(x_test, y_test, color='red', label='Actual')\n",
    "plt.plot(x_train, regressor.predict(x_train), color='blue', label='Predicted Line')\n",
    "plt.title(\"Salary vs Experience (Test Set)\")\n",
    "plt.xlabel(\"Years of Experience\")\n",
    "plt.ylabel(\"Salary\")\n",
    "plt.legend()\n",
    "plt.show()"
   ]
  },
  {
   "cell_type": "markdown",
   "id": "fc38a6e9-bd2a-4e9f-ba51-fd125875e5bc",
   "metadata": {},
   "source": [
    "# Predict for New Data\n",
    "Estimate salary for someone with 12 and 20 years of experience using the regression equation.\n"
   ]
  },
  {
   "cell_type": "code",
   "execution_count": 13,
   "id": "075bcd65-6beb-4e0a-b969-37ed5ffbc77c",
   "metadata": {},
   "outputs": [
    {
     "name": "stdout",
     "output_type": "stream",
     "text": [
      "Slope (m): [9312.57512673]\n"
     ]
    }
   ],
   "source": [
    "m_slope = regressor.coef_\n",
    "print(\"Slope (m):\", m_slope)"
   ]
  },
  {
   "cell_type": "code",
   "execution_count": 14,
   "id": "92d372ce-21c2-422a-8dfe-fb5d1080621d",
   "metadata": {},
   "outputs": [
    {
     "name": "stdout",
     "output_type": "stream",
     "text": [
      "Intercept (c): 26780.099150628186\n"
     ]
    }
   ],
   "source": [
    "c_intercept = regressor.intercept_\n",
    "print(\"Intercept (c):\", c_intercept)"
   ]
  },
  {
   "cell_type": "code",
   "execution_count": 15,
   "id": "caa25304-509a-42af-af68-a5135adea8d4",
   "metadata": {},
   "outputs": [
    {
     "name": "stdout",
     "output_type": "stream",
     "text": [
      "Predicted Salary for 12 Years: [138531.00067138]\n"
     ]
    }
   ],
   "source": [
    "y_12 = (m_slope * 12) + c_intercept\n",
    "print(\"Predicted Salary for 12 Years:\", y_12)"
   ]
  },
  {
   "cell_type": "code",
   "execution_count": 16,
   "id": "625b9c47-fb60-487e-8501-aa6dc75ced4f",
   "metadata": {},
   "outputs": [
    {
     "name": "stdout",
     "output_type": "stream",
     "text": [
      "Predicted Salary for 20 Years: [213031.60168521]\n"
     ]
    }
   ],
   "source": [
    "y_20 = (m_slope * 20) + c_intercept\n",
    "print(\"Predicted Salary for 20 Years:\", y_20)"
   ]
  },
  {
   "cell_type": "markdown",
   "id": "02ab3620-8357-4f27-b05e-fd66ad44975c",
   "metadata": {},
   "source": [
    "# Descriptive Statistics\n",
    "Measure the center of the data.\n",
    "\n",
    "- **Mean** = Average\n",
    "- **Median** = Middle value\n",
    "- **Mode** = Most frequent value\n",
    "\n",
    "Example:\n",
    "\n",
    "If mean salary = 65000, median = 62000, and mode = 60000, it suggests slight right skewed data.\n"
   ]
  },
  {
   "cell_type": "code",
   "execution_count": 18,
   "id": "6818a9a2-fbda-4b68-b3d9-1e5a4af1be12",
   "metadata": {},
   "outputs": [
    {
     "name": "stdout",
     "output_type": "stream",
     "text": [
      "Mean:\n",
      " YearsExperience        5.313333\n",
      "Salary             76003.000000\n",
      "dtype: float64\n"
     ]
    }
   ],
   "source": [
    "print(\"Mean:\\n\", df.mean())"
   ]
  },
  {
   "cell_type": "code",
   "execution_count": 19,
   "id": "bc6f2fb5-6545-4566-ae0f-ced473991be2",
   "metadata": {},
   "outputs": [
    {
     "name": "stdout",
     "output_type": "stream",
     "text": [
      "Median:\n",
      " YearsExperience        4.7\n",
      "Salary             65237.0\n",
      "dtype: float64\n"
     ]
    }
   ],
   "source": [
    "print(\"Median:\\n\", df.median())"
   ]
  },
  {
   "cell_type": "code",
   "execution_count": 20,
   "id": "3ebfef69-6e5e-40df-9619-9cecd9533a25",
   "metadata": {},
   "outputs": [
    {
     "name": "stdout",
     "output_type": "stream",
     "text": [
      "Mode:\n",
      "     YearsExperience  Salary\n",
      "0               3.2   37731\n",
      "1               4.0   39343\n",
      "2               NaN   39891\n",
      "3               NaN   43525\n",
      "4               NaN   46205\n",
      "5               NaN   54445\n",
      "6               NaN   55794\n",
      "7               NaN   56642\n",
      "8               NaN   56957\n",
      "9               NaN   57081\n",
      "10              NaN   57189\n",
      "11              NaN   60150\n",
      "12              NaN   61111\n",
      "13              NaN   63218\n",
      "14              NaN   64445\n",
      "15              NaN   66029\n",
      "16              NaN   67938\n",
      "17              NaN   81363\n",
      "18              NaN   83088\n",
      "19              NaN   91738\n",
      "20              NaN   93940\n",
      "21              NaN   98273\n",
      "22              NaN  101302\n",
      "23              NaN  105582\n",
      "24              NaN  109431\n",
      "25              NaN  112635\n",
      "26              NaN  113812\n",
      "27              NaN  116969\n",
      "28              NaN  121872\n",
      "29              NaN  122391\n"
     ]
    }
   ],
   "source": [
    "print(\"Mode:\\n\", df.mode())"
   ]
  },
  {
   "cell_type": "markdown",
   "id": "78eba999-d7f9-48fa-ba09-11587a3dbb35",
   "metadata": {},
   "source": [
    "Mode returns the most frequent value(s), but in this case:\n",
    "\n",
    "- Many salary values occurred only once.\n",
    "- That’s why `.mode()` returns a long list.\n",
    "- There’s no dominant salary value repeating significantly."
   ]
  },
  {
   "cell_type": "markdown",
   "id": "f5104746-559d-4ae8-8d28-69052d9bd81e",
   "metadata": {},
   "source": [
    "# Variance and Standard Deviation\n",
    "\n",
    "Measure how spread out the data is.\n",
    "- High variance/standard deviation means large spread.\n",
    "\n",
    "Example:\n",
    "\n",
    "- Salary std dev = 7000 → salaries are close together\n",
    "- Salary std dev = 25000 → salaries are very spread"
   ]
  },
  {
   "cell_type": "code",
   "execution_count": 21,
   "id": "e2625ae1-4cad-484a-a890-e16ea794a33e",
   "metadata": {},
   "outputs": [
    {
     "name": "stdout",
     "output_type": "stream",
     "text": [
      "Variance:\n",
      " YearsExperience    8.053609e+00\n",
      "Salary             7.515510e+08\n",
      "dtype: float64\n"
     ]
    }
   ],
   "source": [
    "print(\"Variance:\\n\", df.var())"
   ]
  },
  {
   "cell_type": "code",
   "execution_count": 22,
   "id": "0a22830a-b09b-47fa-b23c-2938627f339d",
   "metadata": {},
   "outputs": [
    {
     "name": "stdout",
     "output_type": "stream",
     "text": [
      "Standard Deviation:\n",
      " YearsExperience        2.837888\n",
      "Salary             27414.429785\n",
      "dtype: float64\n"
     ]
    }
   ],
   "source": [
    "print(\"Standard Deviation:\\n\", df.std())"
   ]
  },
  {
   "cell_type": "markdown",
   "id": "7a25a326-e0cb-422e-bcac-2fe5f45e36fe",
   "metadata": {},
   "source": [
    "# Coefficient of Variation (CV)\n",
    "\n",
    "It’s a normalized measure of dispersion — useful for comparing variability across datasets with different units.\n",
    "\n",
    "**Formula:** CV = std dev / mean\n",
    "\n",
    "**Example Interpretation:**\n",
    "\n",
    "- If CV for salary = 0.35 (35%) → moderately spread salaries\n",
    "- If CV for experience = 0.12 (12%) → less variability in experience\n",
    "- If CV > 1 → very high variation relative to average (e.g., unstable salaries or outliers)\n",
    "\n",
    "**Use Case:** Comparing stock prices or salary vs experience even if their units differ.\n"
   ]
  },
  {
   "cell_type": "code",
   "execution_count": 23,
   "id": "6f4d3f1c-840a-4e6c-9947-fc0a7280537a",
   "metadata": {},
   "outputs": [
    {
     "name": "stdout",
     "output_type": "stream",
     "text": [
      "Coefficient of Variation (all columns):\n",
      " [0.5251297  0.35463929]\n"
     ]
    }
   ],
   "source": [
    "print(\"Coefficient of Variation (all columns):\\n\", variation(df.values))"
   ]
  },
  {
   "cell_type": "code",
   "execution_count": 24,
   "id": "5f6a3e9c-2c0f-477a-8c03-180748340cb7",
   "metadata": {},
   "outputs": [
    {
     "name": "stdout",
     "output_type": "stream",
     "text": [
      "CV for Salary:\n",
      " 0.3546392938275572\n"
     ]
    }
   ],
   "source": [
    "print(\"CV for Salary:\\n\", variation(df['Salary'].values))"
   ]
  },
  {
   "cell_type": "markdown",
   "id": "c0326e36-a043-4556-b2be-cbba8e9fd279",
   "metadata": {},
   "source": [
    "# Correlation\n",
    "Check how strongly related two variables are.\n",
    "\n",
    "**Example Interpretation:**\n",
    "\n",
    "- Correlation ≈ 1 → strong positive relationship (more experience → more salary)\n",
    "- Correlation ≈ 0 → no relationship\n",
    "- Correlation ≈ -1 → inverse relationship\n"
   ]
  },
  {
   "cell_type": "code",
   "execution_count": 25,
   "id": "51ec8f4c-6ccf-4835-be43-f159eff86682",
   "metadata": {},
   "outputs": [
    {
     "name": "stdout",
     "output_type": "stream",
     "text": [
      "Correlation Matrix:\n",
      "                  YearsExperience    Salary\n",
      "YearsExperience         1.000000  0.978242\n",
      "Salary                  0.978242  1.000000\n"
     ]
    }
   ],
   "source": [
    "print(\"Correlation Matrix:\\n\", df.corr())"
   ]
  },
  {
   "cell_type": "code",
   "execution_count": 26,
   "id": "2f52ea9d-1000-4910-8a01-eb6817d65ca4",
   "metadata": {},
   "outputs": [
    {
     "name": "stdout",
     "output_type": "stream",
     "text": [
      "Salary vs Experience Correlation: 0.9782416184887598\n"
     ]
    }
   ],
   "source": [
    "print(\"Salary vs Experience Correlation:\", df['Salary'].corr(df['YearsExperience']))"
   ]
  },
  {
   "cell_type": "markdown",
   "id": "6073aa8f-b616-462a-b5e4-5f7f0789be41",
   "metadata": {},
   "source": [
    "# Skewness\n",
    "Skewness tells us about the shape and symmetry of data distribution.\n",
    "\n",
    "**Interpretation:**\n",
    "\n",
    "- Skewness = 0 → perfectly symmetric (normal)\n",
    "- Skewness > 0 → positively skewed (long right tail)\n",
    "- Skewness < 0 → negatively skewed (long left tail)\n",
    "\n",
    "**Example:**\n",
    "- Salary Skewness = 0.35 → slightly positively skewed → a few high salaries"
   ]
  },
  {
   "cell_type": "code",
   "execution_count": 27,
   "id": "817497b2-2368-4e09-88e5-6f13e7de2823",
   "metadata": {},
   "outputs": [
    {
     "name": "stdout",
     "output_type": "stream",
     "text": [
      "Skewness:\n",
      " YearsExperience    0.37956\n",
      "Salary             0.35412\n",
      "dtype: float64\n"
     ]
    }
   ],
   "source": [
    "print(\"Skewness:\\n\", df.skew())"
   ]
  },
  {
   "cell_type": "code",
   "execution_count": 28,
   "id": "95e1be6e-d814-40b6-89aa-1e2e34be2bd1",
   "metadata": {},
   "outputs": [
    {
     "name": "stdout",
     "output_type": "stream",
     "text": [
      "Salary Skewness: 0.35411967922959153\n"
     ]
    }
   ],
   "source": [
    "print(\"Salary Skewness:\", df['Salary'].skew())"
   ]
  },
  {
   "cell_type": "markdown",
   "id": "882454b7-5251-4eb3-9235-39e3dc03dcff",
   "metadata": {},
   "source": [
    "# Standard Error of Mean (SEM)\n",
    "SEM estimates how much the sample mean might differ from the population mean\n",
    "\n",
    "**Formula:** SEM = Standard Deviation / √n\n",
    "\n",
    "**Example:**\n",
    "\n",
    "- SEM of salary = 5000 → your sample mean might be ±₹5000 from true mean\n",
    "\n",
    "**Interpretation Table:**\n",
    "\n",
    "| SEM % of Mean     | Meaning                          |\n",
    "|-------------------|----------------------------------|\n",
    "| Less than 5%      | Very reliable sample mean        |\n",
    "| Between 5% – 10%  | Moderately stable                |\n",
    "| Greater than 10%  | Unstable / less reliable         |\n",
    "\n"
   ]
  },
  {
   "cell_type": "code",
   "execution_count": 29,
   "id": "f0c38ce0-9ed8-49ea-8b4e-9d6610b64826",
   "metadata": {},
   "outputs": [
    {
     "name": "stdout",
     "output_type": "stream",
     "text": [
      "SEM (all columns):\n",
      " YearsExperience       0.518125\n",
      "Salary             5005.167198\n",
      "dtype: float64\n"
     ]
    }
   ],
   "source": [
    "print(\"SEM (all columns):\\n\", df.sem())"
   ]
  },
  {
   "cell_type": "code",
   "execution_count": 30,
   "id": "09923621-ad18-4ce5-8978-168649ed309d",
   "metadata": {},
   "outputs": [
    {
     "name": "stdout",
     "output_type": "stream",
     "text": [
      "SEM of Salary: 5005.167198052405\n"
     ]
    }
   ],
   "source": [
    "print(\"SEM of Salary:\", df['Salary'].sem())"
   ]
  },
  {
   "cell_type": "markdown",
   "id": "68d6a363-eeae-4cb8-b7f6-0cb92f717521",
   "metadata": {},
   "source": [
    "# Z-Score Normalization\n",
    "To standardize data — Z-scores convert values into the number of standard deviations away from the mean. Useful for comparing across variables or preparing for ML models.\n",
    "\n",
    "**Formula:**\n",
    "$$\n",
    "Z = \\frac{X - \\mu}{\\sigma}\n",
    "$$\n",
    "\n",
    "Where:\n",
    "\n",
    "- X = individual value\n",
    "- μ = mean\n",
    "- σ = standard deviation\n",
    "\n",
    "**Example:**\n",
    "\n",
    "- Z-score of 0 = exactly at mean\n",
    "- Z-score of +2 = 2 std devs above mean\n",
    "- Z-score of -1.5 = 1.5 std devs below mean\n"
   ]
  },
  {
   "cell_type": "code",
   "execution_count": 31,
   "id": "d3c4ced0-b8c2-46f3-ba08-29a46f4a113e",
   "metadata": {},
   "outputs": [
    {
     "name": "stdout",
     "output_type": "stream",
     "text": [
      "Z-scores (all columns):\n",
      "     YearsExperience    Salary\n",
      "0         -1.510053 -1.360113\n",
      "1         -1.438373 -1.105527\n",
      "2         -1.366693 -1.419919\n",
      "3         -1.187494 -1.204957\n",
      "4         -1.115814 -1.339781\n",
      "5         -0.864935 -0.718307\n",
      "6         -0.829096 -0.588158\n",
      "7         -0.757416 -0.799817\n",
      "8         -0.757416 -0.428810\n",
      "9         -0.578216 -0.698013\n",
      "10        -0.506537 -0.474333\n",
      "11        -0.470697 -0.749769\n",
      "12        -0.470697 -0.706620\n",
      "13        -0.434857 -0.702020\n",
      "14        -0.291498 -0.552504\n",
      "15        -0.148138 -0.299217\n",
      "16        -0.076458 -0.370043\n",
      "17        -0.004779  0.262859\n",
      "18         0.210261  0.198860\n",
      "19         0.246100  0.665476\n",
      "20         0.532819  0.583780\n",
      "21         0.640339  0.826233\n",
      "22         0.927058  0.938611\n",
      "23         1.034577  1.402741\n",
      "24         1.213777  1.240203\n",
      "25         1.321296  1.097402\n",
      "26         1.500496  1.519868\n",
      "27         1.536336  1.359074\n",
      "28         1.787215  1.721028\n",
      "29         1.858894  1.701773\n"
     ]
    }
   ],
   "source": [
    "print(\"Z-scores (all columns):\\n\", df.apply(stats.zscore))"
   ]
  },
  {
   "cell_type": "code",
   "execution_count": 32,
   "id": "2d188fca-8ab3-4bef-9e5f-6831a56acaa9",
   "metadata": {},
   "outputs": [
    {
     "name": "stdout",
     "output_type": "stream",
     "text": [
      "Z-score of Salary:\n",
      " [-1.36011263 -1.10552744 -1.419919   -1.20495739 -1.33978143 -0.71830716\n",
      " -0.58815781 -0.79981746 -0.42881019 -0.69801306 -0.47433279 -0.74976858\n",
      " -0.70662043 -0.70201994 -0.55250402 -0.29921736 -0.37004264  0.26285865\n",
      "  0.19885989  0.66547573  0.58377993  0.82623317  0.93861127  1.40274136\n",
      "  1.24020308  1.09740238  1.51986835  1.3590738   1.72102849  1.70177321]\n"
     ]
    }
   ],
   "source": [
    "print(\"Z-score of Salary:\\n\", stats.zscore(df['Salary']))"
   ]
  },
  {
   "cell_type": "markdown",
   "id": "357c21a8-f413-49b7-95cf-ac827f7ac2aa",
   "metadata": {},
   "source": [
    "# Degrees of Freedom\n",
    "Used in many statistical formulas. Degrees of freedom = number of values that are free to vary when calculating a statistic.\n",
    "\n",
    "**Formula:**\n",
    "$$\n",
    "\\text{DF} = n - k\n",
    "$$\n",
    "\n",
    "Where:\n",
    "\n",
    "- n = number of observations\n",
    "- k = number of parameters or variables\n",
    "\n",
    "**Example:**\n",
    "\n",
    "- If there are 30 rows and 2 columns → DF = 28"
   ]
  },
  {
   "cell_type": "code",
   "execution_count": 33,
   "id": "6ba35cd2-a756-45e2-824f-9c38ebf82a9e",
   "metadata": {},
   "outputs": [
    {
     "name": "stdout",
     "output_type": "stream",
     "text": [
      "Degrees of Freedom: 28\n"
     ]
    }
   ],
   "source": [
    "a = df.shape[0]  # number of rows\n",
    "b = df.shape[1]  # number of columns\n",
    "degree_of_freedom = a - b\n",
    "print(\"Degrees of Freedom:\", degree_of_freedom)"
   ]
  },
  {
   "cell_type": "markdown",
   "id": "24f944df-ee51-4d0c-988b-fcb38bd89f4a",
   "metadata": {},
   "source": [
    "# SSR, SSE, SST + R² Score\n",
    "hese metrics evaluate regression model performance:\n",
    "\n",
    "- **SSR (Regression)**: Explained variation\n",
    "- **SSE (Error)**: Unexplained variation\n",
    "- **SST (Total)**: Total variation\n",
    "- **R² Score**: Proportion of variance explained by model\n",
    "\n",
    "**Formula:**\n",
    "$$\n",
    "[ SST = SSR + SSE \\quad\\text{and}\\quad R^2 = 1 - \\frac{SSE}{SST} ]\n",
    "$$\n",
    "\n",
    "**Example:**\n",
    "\n",
    "- High SSR & low SSE = good model\n",
    "- R² close to 1 = excellent fit"
   ]
  },
  {
   "cell_type": "code",
   "execution_count": 34,
   "id": "a252d071-d7c6-4ddc-af30-4963d7351628",
   "metadata": {},
   "outputs": [],
   "source": [
    "y_mean = np.mean(y)"
   ]
  },
  {
   "cell_type": "code",
   "execution_count": 35,
   "id": "caf72ee1-ded4-4b53-8b61-f7d765f8c90a",
   "metadata": {},
   "outputs": [
    {
     "name": "stdout",
     "output_type": "stream",
     "text": [
      "SSR (Sum of Squares for Regression): 6263152884.284127\n"
     ]
    }
   ],
   "source": [
    "SSR = np.sum((y_pred - y_mean) ** 2)\n",
    "print(\"SSR (Sum of Squares for Regression):\", SSR)"
   ]
  },
  {
   "cell_type": "code",
   "execution_count": 36,
   "id": "5a8e48ee-d5d4-4255-bf79-85d1a54cd635",
   "metadata": {},
   "outputs": [
    {
     "name": "stdout",
     "output_type": "stream",
     "text": [
      "SSE (Sum of Squares for Error): 15274062883.9432\n"
     ]
    }
   ],
   "source": [
    "y = y[0:6]  # match length with test set for SSE\n",
    "SSE = np.sum((y - y_pred) ** 2)\n",
    "print(\"SSE (Sum of Squares for Error):\", SSE)"
   ]
  },
  {
   "cell_type": "code",
   "execution_count": 37,
   "id": "beb160d0-777e-43bc-b7c0-5f4d8de37e1d",
   "metadata": {},
   "outputs": [
    {
     "name": "stdout",
     "output_type": "stream",
     "text": [
      "SST (Total Sum of Squares): 21537215768.227325\n"
     ]
    }
   ],
   "source": [
    "SST = SSR + SSE\n",
    "print(\"SST (Total Sum of Squares):\", SST)"
   ]
  },
  {
   "cell_type": "code",
   "execution_count": 38,
   "id": "5239c4da-5949-433a-986a-c867bbebd5f0",
   "metadata": {},
   "outputs": [
    {
     "name": "stdout",
     "output_type": "stream",
     "text": [
      "R-squared Value: 0.7091939389155485\n"
     ]
    }
   ],
   "source": [
    "r_square = 1 - (SSR / SST)\n",
    "print(\"R-squared Value:\", r_square)"
   ]
  },
  {
   "cell_type": "markdown",
   "id": "d11a76f5-ebf1-4165-b2ff-0911f3f116a9",
   "metadata": {},
   "source": [
    "# Check for Overfitting/Underfitting\n",
    "To evaluate model performance on training vs testing data.\n",
    "\n",
    "**Example:**\n",
    "\n",
    "- If Train Score ≈ Test Score → good generalization \n",
    "- If Train Score >> Test Score → overfitting \n",
    "- If both scores are low → underfitting \n"
   ]
  },
  {
   "cell_type": "code",
   "execution_count": 39,
   "id": "0d6346bb-cab5-476c-9b2e-91de2d11318a",
   "metadata": {},
   "outputs": [
    {
     "name": "stdout",
     "output_type": "stream",
     "text": [
      "Training Score (Bias): 0.9411949620562126\n"
     ]
    }
   ],
   "source": [
    "bias = regressor.score(x_train, y_train)\n",
    "print(\"Training Score (Bias):\", bias)"
   ]
  },
  {
   "cell_type": "code",
   "execution_count": 40,
   "id": "5a17824e-baa4-48f4-bc84-d0b3412b6cad",
   "metadata": {},
   "outputs": [
    {
     "name": "stdout",
     "output_type": "stream",
     "text": [
      "Testing Score (Variance): 0.988169515729126\n"
     ]
    }
   ],
   "source": [
    "variance = regressor.score(x_test, y_test)\n",
    "print(\"Testing Score (Variance):\", variance)"
   ]
  },
  {
   "cell_type": "markdown",
   "id": "c59e76b8-0f01-44a6-b78b-e3e3afd14462",
   "metadata": {},
   "source": [
    "# Mean Squared Error (MSE)\n",
    "\n",
    "MSE measures average squared difference between predicted and actual values. Lower is better.\n",
    "\n",
    "**Example:**\n",
    "\n",
    "- MSE = 1000 → predictions are fairly close\n",
    "- MSE = 30000 → predictions have large error"
   ]
  },
  {
   "cell_type": "code",
   "execution_count": 41,
   "id": "9eb6c82b-909d-4aff-bd67-8311a820c84b",
   "metadata": {},
   "outputs": [
    {
     "name": "stdout",
     "output_type": "stream",
     "text": [
      "Train MSE: 36149670.11816131\n",
      "Test MSE: 12823412.298126562\n"
     ]
    }
   ],
   "source": [
    "from sklearn.metrics import mean_squared_error\n",
    "train_mse = mean_squared_error(y_train, regressor.predict(x_train))\n",
    "test_mse = mean_squared_error(y_test, y_pred)\n",
    "print(\"Train MSE:\", train_mse)\n",
    "print(\"Test MSE:\", test_mse)"
   ]
  },
  {
   "cell_type": "markdown",
   "id": "fdece243-8336-4c55-9f29-37ffb2b28079",
   "metadata": {},
   "source": [
    "**What is Pickle in Python?**\n",
    "\n",
    "**Pickle** is a module in Python used for **saving objects to disk** and **loading them back later** — it's like \"freezing\" your trained model so you don’t have to train it again.\n",
    "\n",
    "- Pickle stores the object in a **binary format**.\n",
    "- The saved file usually has a `.pkl` extension.\n",
    "- This is useful when you want to deploy your model or use it in other scripts without retraining.\n",
    "\n",
    "**Use Case in Machine Learning:**\n",
    "After training a model, saving it lets you reuse it for predictions, web apps, dashboards, etc.\n",
    "\n",
    "**Typical size:** For simple models like Linear Regression, the file size is small (e.g., 3–10 KB). For complex models like Random Forests or Neural Networks, `.pkl` files can be 10s or 100s of MB.\n"
   ]
  },
  {
   "cell_type": "markdown",
   "id": "bfc3f047-311f-48d9-b41e-fc8bad3b1032",
   "metadata": {},
   "source": [
    "# Save Model Using Pickle\n",
    "To save your trained model and reuse it later without retraining.\n"
   ]
  },
  {
   "cell_type": "code",
   "execution_count": 42,
   "id": "c608272a-6ab0-4e05-9a4e-9f8890c5090b",
   "metadata": {},
   "outputs": [
    {
     "name": "stdout",
     "output_type": "stream",
     "text": [
      "Model has been saved as 'Linear_regression_model.pkl'\n"
     ]
    }
   ],
   "source": [
    "filename = 'Linear_regression_model.pkl'\n",
    "with open(filename, 'wb') as file:\n",
    "    pickle.dump(regressor, file)\n",
    "\n",
    "print(\"Model has been saved as 'Linear_regression_model.pkl'\")"
   ]
  },
  {
   "cell_type": "markdown",
   "id": "02b3160b-0d86-4315-9458-d56236117d4a",
   "metadata": {},
   "source": [
    "# Confirm Save Location\n",
    "Just to confirm where your file is stored.\n"
   ]
  },
  {
   "cell_type": "code",
   "execution_count": 44,
   "id": "e38d058a-e44d-477d-9faf-52a17856b1d9",
   "metadata": {},
   "outputs": [
    {
     "name": "stdout",
     "output_type": "stream",
     "text": [
      "Saved in directory: C:\\Users\\Lenovo\\OneDrive\\Desktop\\Python Everyday work\\Github work\n"
     ]
    }
   ],
   "source": [
    "import os\n",
    "print(\"Saved in directory:\", os.getcwd())"
   ]
  },
  {
   "cell_type": "markdown",
   "id": "862fb364-6fea-4123-9988-cf41c07a3f80",
   "metadata": {},
   "source": [
    "---"
   ]
  },
  {
   "cell_type": "markdown",
   "id": "1beeeb01-146d-4674-8988-925f7d35bd28",
   "metadata": {},
   "source": [
    "# **Deploy Your Model with Streamlit Web App**\n",
    "\n",
    "You can create a **fully functional web app** using **Streamlit** to interact with your saved `.pkl` model and predict salary dynamically.\n",
    "\n",
    "## How to Set Up Your Streamlit App\n",
    "\n",
    "## Create a New Python File\n",
    "- Open **VS Code**, **Jupyter**, or any text editor\n",
    "- Paste the code below\n",
    "- Save it as `SLR_app1.py` # Any name with .py\n",
    "\n",
    "## Full Code with Explanations\n",
    "\n",
    "```python\n",
    "import streamlit as st\n",
    "import pickle\n",
    "import numpy as np\n",
    "\n",
    "# Load the trained regression model\n",
    "model = pickle.load(open(\n",
    "    r'd:\\Full stack Data Science course\\VS Code\\ML\\Regression\\Simple Linear Regresaion\\linear_regression_model.pkl',\n",
    "    'rb'))\n",
    "\n",
    "# App Title and Subtitle\n",
    "st.markdown(\"<h1 style='color:#ff4b4b;'>💼 Salary Prediction App</h1>\", unsafe_allow_html=True)\n",
    "st.markdown(\"🚀 Predict salary based on years of experience using a pre-trained **Simple Linear Regression** model.\", unsafe_allow_html=True)\n",
    "st.markdown(\"---\")\n",
    "\n",
    "#  Input field for user to enter years of experience\n",
    "st.markdown(\"### 📥 Enter Your Experience:\")\n",
    "years_experience = st.number_input(\"Years of Experience\", min_value=0.0, max_value=50.0, value=1.0, step=0.5)\n",
    "\n",
    "# Predict salary when button is clicked\n",
    "if st.button(\"📊 Predict Salary\"):\n",
    "    experience_input = np.array([[years_experience]])  # model expects 2D array\n",
    "    prediction = model.predict(experience_input)\n",
    "    st.markdown(f\"<h3 style='color:green;'>💰 Predicted Salary: ₹{prediction[0]:,.2f}</h3>\", unsafe_allow_html=True)\n",
    "\n",
    "#  Show model details\n",
    "st.markdown(\"---\")\n",
    "st.markdown(\" **Model Details:**\")\n",
    "st.markdown(\"- Trained on salary vs years of experience dataset\")\n",
    "st.markdown(\"- Uses a Simple Linear Regression algorithm\")\n",
    "st.markdown(\"- Predicts continuous salary outcomes based on your input\")\n",
    "\n",
    "# 🎨 Footer\n",
    "st.markdown(\"<hr style='border: 1px solid #bbb;'>\", unsafe_allow_html=True)\n",
    "st.markdown(\"<p style='text-align:center; color:gray;'>Made with ❤️ using Streamlit</p>\", unsafe_allow_html=True)\n",
    "```\n",
    "\n",
    "\n",
    "## Run Your App Using Terminal or CMD\n",
    "\n",
    "## Open Command Prompt or Terminal:\n",
    "```bash\n",
    "cd \"D:\\Full stack Data Science course\\VS Code\\ML\\Regression\\Simple Linear Regresaion\"\n",
    "```\n",
    "\n",
    "## Run your app:\n",
    "```bash\n",
    "streamlit run SLR_app1.py\n",
    "```\n",
    "\n",
    "> Make sure `streamlit` is installed:\n",
    "```bash\n",
    "pip install streamlit\n",
    "```\n",
    "\n",
    "\n",
    "## Output\n",
    "- A browser window opens at `http://localhost:8501`\n",
    "- You can enter experience and click **Predict Salary** to get results.\n",
    "\n",
    "\n",
    "\n",
    "##  (Optional) Create a requirements.txt File\n",
    "If you want to deploy or share your app with someone:\n",
    "\n",
    "```txt\n",
    "streamlit\n",
    "scikit-learn\n",
    "pandas\n",
    "numpy\n",
    "```\n",
    "\n",
    "Save it as `requirements.txt` and install all packages using:\n",
    "```bash\n",
    "pip install -r requirements.txt\n",
    "```\n",
    "\n",
    "Now you have a complete Machine Learning model **with a working web interface!** "
   ]
  },
  {
   "cell_type": "markdown",
   "id": "947a3ada-934f-406e-a944-269683b3efb6",
   "metadata": {},
   "source": [
    "# Project Conclusion\n",
    "## Project Wrap-up: What We Achieved\n",
    "\n",
    "In this end-to-end ML mini-project, we:\n",
    "\n",
    "- Explored and cleaned the dataset  \n",
    "- Performed detailed **statistical analysis** (mean, median, mode, SEM, skewness, correlation, etc.)  \n",
    "- Built and evaluated a **Simple Linear Regression model**  \n",
    "- Saved the model using **Pickle** for reusability  \n",
    "- Developed a **Streamlit frontend web app** for live salary prediction\n",
    "\n",
    "\n",
    "\n",
    "## Key Takeaways:\n",
    "\n",
    "- Machine learning is not just about training models — it's about understanding data, validating results, and making models **usable**.\n",
    "- Tools like **Pickle** and **Streamlit** help take your model from your notebook to a **real-world interactive product**.\n",
    "- Even a basic algorithm like SLR can become powerful when connected to the right pipeline.\n",
    "\n",
    "\n",
    "\n",
    "## Next Steps:\n",
    "\n",
    "- Try using a larger, more complex dataset  \n",
    "- Experiment with **multiple features** (like Education, Age, Skill Level)  \n",
    "- Replace SLR with more advanced models (Random Forest, XGBoost, etc.)  \n",
    "- Host the Streamlit app on **Streamlit Cloud or Hugging Face Spaces** for free!\n",
    "\n",
    "\n",
    "\n",
    "Thanks for following along! \n",
    "Let’s continue building smarter tools with data!\n"
   ]
  }
 ],
 "metadata": {
  "kernelspec": {
   "display_name": "Python 3",
   "language": "python",
   "name": "python3"
  },
  "language_info": {
   "codemirror_mode": {
    "name": "ipython",
    "version": 3
   },
   "file_extension": ".py",
   "mimetype": "text/x-python",
   "name": "python",
   "nbconvert_exporter": "python",
   "pygments_lexer": "ipython3",
   "version": "3.13.3"
  }
 },
 "nbformat": 4,
 "nbformat_minor": 5
}
