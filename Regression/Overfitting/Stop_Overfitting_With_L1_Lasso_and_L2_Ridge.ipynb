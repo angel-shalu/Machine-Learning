{
 "cells": [
  {
   "cell_type": "markdown",
   "id": "7d8f3dc3-eb4c-40bc-95d8-9c580b78a49d",
   "metadata": {},
   "source": [
    "**Regularization Techniques in Machine Learning (L1, L2, ElasticNet)**\n",
    "\n",
    "This notebook demonstrates how **L1 and L2 regularization** techniques help **prevent overfitting** in Machine Learning models.\n",
    "\n",
    "We’ll explore:\n",
    "\n",
    "- What overfitting is and why it's bad\n",
    "- How **Ridge (L2)** shrinks coefficients (keeps all features)\n",
    "- How **Lasso (L1)** removes unnecessary features (sets some coefficients to 0)\n",
    "- Visual and numeric comparison of Linear, Ridge, and Lasso regression\n",
    "- Model evaluation using **R²**, **Adjusted R²**, **RMSE**, and **Residual Plots**\n",
    "\n",
    "\n",
    "\n",
    "**Outcome:**\n",
    "\n",
    "By the end, you'll understand:\n",
    "\n",
    "- How to choose between Ridge and Lasso\n",
    "- When regularization improves your model\n",
    "- Why simpler models often perform better on unseen data\n",
    "\n",
    "\n",
    "> **Use L1 & L2 to make your models more robust, generalizable, and interpretable!**"
   ]
  },
  {
   "cell_type": "markdown",
   "id": "2071f79c-2fc3-44f4-a56b-5ef2e307438c",
   "metadata": {},
   "source": [
    "**What is Machine Learning?** (**Recap**)\n",
    "\n",
    "Machine Learning (ML) is a branch of Artificial Intelligence where computers learn from data to make predictions or decisions without being explicitly programmed.\n",
    "\n",
    "Machine Learning is like teaching a computer how to learn from past examples — just like humans learn from experience. For example:\n",
    "\n",
    "- If a kid sees that touching fire hurts, they learn not to do it again.\n",
    "\n",
    "- ML algorithms do the same — they find patterns from data to predict or decide things.\n",
    "\n",
    "**Types of Machine Learning:**\n",
    "\n",
    "- Supervised Learning (Labeled data):\n",
    "     - Like a teacher guiding. You give input + correct answer.\n",
    "         - e.g., Regression (Predicting prices), Classification (classifying emails.)\n",
    "\n",
    "- Unsupervised Learning (Unlabeled data):\n",
    "    - No answers, the algorithm finds patterns on its own.\n",
    "        - e.g., Clustering (Grouping similar customers.)\n",
    "\n",
    "- Reinforcement Learning:\n",
    "    - Learning by reward and punishment.\n",
    "        - e.g., Games, robots learning to walk."
   ]
  },
  {
   "cell_type": "markdown",
   "id": "0f39fd37-35ed-43f4-885b-52946a6ffbb9",
   "metadata": {},
   "source": [
    "**Linear Regression - Predicting with Lines**\n",
    "\n",
    "Regression is about predicting numbers. For example, predicting:\n",
    "\n",
    "- Salary based on years of experience\n",
    "\n",
    " - Mileage (mpg) of a car based on features like horsepower, weight, etc.\n",
    "\n",
    "- Simple Linear Regression:\n",
    "  - Predicts using one feature → Equation:\n",
    "$$\n",
    "y = mx + b\n",
    "$$\n",
    "\n",
    "- Multiple Linear Regression (MLR):\n",
    "  - Uses multiple features →\n",
    "  $$\n",
    "y = b_0 + b_1x_1 + b_2x_2 + \\dots + b_nx_n\n",
    "$$"
   ]
  },
  {
   "cell_type": "markdown",
   "id": "456e6a98-f5e2-419e-9090-233c08a4eb12",
   "metadata": {},
   "source": [
    "**Underfitting vs Overfitting**\n",
    "\n",
    "- Underfitting: Model is too simple → Poor on both train/test (misses patterns)\n",
    "\n",
    "- Overfitting: Model is too complex → Great on training, bad on test  (memorizes data)"
   ]
  },
  {
   "cell_type": "markdown",
   "id": "6ba50716-ce2d-4dbb-bf04-b6c9fdffc92b",
   "metadata": {},
   "source": [
    "**Techniques to Handle Overfitting**\n",
    "\n",
    "- Regularization\n",
    "- Cross-validation\n",
    "- Simpler models\n",
    "- More data\n",
    "- Dropout\n",
    "- Pruning"
   ]
  },
  {
   "cell_type": "markdown",
   "id": "a6441f28-fd17-4ae3-84c9-d137f7cdc0f2",
   "metadata": {},
   "source": [
    "**What is Regularization?**\n",
    "\n",
    "Regularization helps prevent overfitting by penalizing large coefficients in the model.\n",
    "\n",
    "**Types of Regularization**\n",
    "\n",
    "| Type           | Penalty | Behavior                        |\n",
    "|----------------|---------|---------------------------------|\n",
    "| **Ridge**      | L2      | Shrinks coefficients (not zero) |\n",
    "| **Lasso**      | L1      | Some coefficients become 0      |\n",
    "| **ElasticNet** | L1 + L2 | Combines both                   |\n",
    "\n",
    "**Analogy:**\n",
    "\n",
    "- Lasso = Removing unhelpful friends  \n",
    "- Ridge = Asking loud people to speak softer"
   ]
  },
  {
   "cell_type": "markdown",
   "id": "d783a3aa-6e2f-4d39-a64a-700754acb78d",
   "metadata": {},
   "source": [
    "**Steps in This Notebook:**\n",
    "\n",
    "- Build baseline MLR model\n",
    "\n",
    "- Apply Lasso, Ridge, and ElasticNet\n",
    "\n",
    "- Compare performance"
   ]
  },
  {
   "cell_type": "markdown",
   "id": "6e4097a8-7db7-40bc-9cf4-b8b1b9ebfad6",
   "metadata": {},
   "source": [
    "# Import Required Libraries"
   ]
  },
  {
   "cell_type": "code",
   "execution_count": 1,
   "id": "e3acb619-ff11-4460-85e9-14dd01ed3c50",
   "metadata": {},
   "outputs": [],
   "source": [
    "import pandas as pd\n",
    "import numpy as np\n",
    "import seaborn as sns\n",
    "import matplotlib.pyplot as plt\n",
    "%matplotlib inline\n",
    "\n",
    "from sklearn import preprocessing\n",
    "from sklearn.model_selection import train_test_split\n",
    "from sklearn.linear_model import LinearRegression, Ridge, Lasso\n",
    "from sklearn.metrics import r2_score"
   ]
  },
  {
   "cell_type": "markdown",
   "id": "40d6d852-01d7-4477-bc61-627954938252",
   "metadata": {},
   "source": [
    "# Load and Explore the Dataset"
   ]
  },
  {
   "cell_type": "code",
   "execution_count": 2,
   "id": "bc195489-2ad7-499d-96fd-cf9744dcec5b",
   "metadata": {},
   "outputs": [
    {
     "data": {
      "text/html": [
       "<div>\n",
       "<style scoped>\n",
       "    .dataframe tbody tr th:only-of-type {\n",
       "        vertical-align: middle;\n",
       "    }\n",
       "\n",
       "    .dataframe tbody tr th {\n",
       "        vertical-align: top;\n",
       "    }\n",
       "\n",
       "    .dataframe thead th {\n",
       "        text-align: right;\n",
       "    }\n",
       "</style>\n",
       "<table border=\"1\" class=\"dataframe\">\n",
       "  <thead>\n",
       "    <tr style=\"text-align: right;\">\n",
       "      <th></th>\n",
       "      <th>mpg</th>\n",
       "      <th>cyl</th>\n",
       "      <th>disp</th>\n",
       "      <th>hp</th>\n",
       "      <th>wt</th>\n",
       "      <th>acc</th>\n",
       "      <th>yr</th>\n",
       "      <th>origin</th>\n",
       "      <th>car_type</th>\n",
       "      <th>car_name</th>\n",
       "    </tr>\n",
       "  </thead>\n",
       "  <tbody>\n",
       "    <tr>\n",
       "      <th>0</th>\n",
       "      <td>18.0</td>\n",
       "      <td>8</td>\n",
       "      <td>307.0</td>\n",
       "      <td>130</td>\n",
       "      <td>3504</td>\n",
       "      <td>12.0</td>\n",
       "      <td>70</td>\n",
       "      <td>1</td>\n",
       "      <td>0</td>\n",
       "      <td>chevrolet chevelle malibu</td>\n",
       "    </tr>\n",
       "    <tr>\n",
       "      <th>1</th>\n",
       "      <td>15.0</td>\n",
       "      <td>8</td>\n",
       "      <td>350.0</td>\n",
       "      <td>165</td>\n",
       "      <td>3693</td>\n",
       "      <td>11.5</td>\n",
       "      <td>70</td>\n",
       "      <td>1</td>\n",
       "      <td>0</td>\n",
       "      <td>buick skylark 320</td>\n",
       "    </tr>\n",
       "    <tr>\n",
       "      <th>2</th>\n",
       "      <td>18.0</td>\n",
       "      <td>8</td>\n",
       "      <td>318.0</td>\n",
       "      <td>150</td>\n",
       "      <td>3436</td>\n",
       "      <td>11.0</td>\n",
       "      <td>70</td>\n",
       "      <td>1</td>\n",
       "      <td>0</td>\n",
       "      <td>plymouth satellite</td>\n",
       "    </tr>\n",
       "    <tr>\n",
       "      <th>3</th>\n",
       "      <td>16.0</td>\n",
       "      <td>8</td>\n",
       "      <td>304.0</td>\n",
       "      <td>150</td>\n",
       "      <td>3433</td>\n",
       "      <td>12.0</td>\n",
       "      <td>70</td>\n",
       "      <td>1</td>\n",
       "      <td>0</td>\n",
       "      <td>amc rebel sst</td>\n",
       "    </tr>\n",
       "    <tr>\n",
       "      <th>4</th>\n",
       "      <td>17.0</td>\n",
       "      <td>8</td>\n",
       "      <td>302.0</td>\n",
       "      <td>140</td>\n",
       "      <td>3449</td>\n",
       "      <td>10.5</td>\n",
       "      <td>70</td>\n",
       "      <td>1</td>\n",
       "      <td>0</td>\n",
       "      <td>ford torino</td>\n",
       "    </tr>\n",
       "  </tbody>\n",
       "</table>\n",
       "</div>"
      ],
      "text/plain": [
       "    mpg  cyl   disp   hp    wt   acc  yr  origin  car_type  \\\n",
       "0  18.0    8  307.0  130  3504  12.0  70       1         0   \n",
       "1  15.0    8  350.0  165  3693  11.5  70       1         0   \n",
       "2  18.0    8  318.0  150  3436  11.0  70       1         0   \n",
       "3  16.0    8  304.0  150  3433  12.0  70       1         0   \n",
       "4  17.0    8  302.0  140  3449  10.5  70       1         0   \n",
       "\n",
       "                    car_name  \n",
       "0  chevrolet chevelle malibu  \n",
       "1          buick skylark 320  \n",
       "2         plymouth satellite  \n",
       "3              amc rebel sst  \n",
       "4                ford torino  "
      ]
     },
     "execution_count": 2,
     "metadata": {},
     "output_type": "execute_result"
    }
   ],
   "source": [
    "data = pd.read_csv(r\"C:\\Users\\Lenovo\\Downloads\\car-mpg.csv\")\n",
    "data.head()"
   ]
  },
  {
   "cell_type": "markdown",
   "id": "72167383-9812-4bba-b578-908949760615",
   "metadata": {},
   "source": [
    "# Data Cleaning & Encoding\n",
    "\n",
    "- Drop irrelevant columns (`car_name`)\n",
    "- Convert and encode `origin`\n",
    "- Replace `?` with `NaN`, fill with **median**"
   ]
  },
  {
   "cell_type": "markdown",
   "id": "bed5e6ec-2a8e-4947-8f3e-d116873584e7",
   "metadata": {},
   "source": [
    "## Drop car_name as it's not a useful feature"
   ]
  },
  {
   "cell_type": "code",
   "execution_count": 3,
   "id": "bcdff187-c651-49fb-8cee-1a36c109fa9d",
   "metadata": {},
   "outputs": [],
   "source": [
    "# Drop car_name as it's not a useful feature\n",
    "data = data.drop(['car_name'], axis=1)"
   ]
  },
  {
   "cell_type": "markdown",
   "id": "f522dce5-5881-498d-8f30-845b1f02282c",
   "metadata": {},
   "source": [
    "## Convert 'origin' to categorical labels"
   ]
  },
  {
   "cell_type": "code",
   "execution_count": 4,
   "id": "561464e2-96a7-4a9c-bfcc-f9def021e0a9",
   "metadata": {},
   "outputs": [],
   "source": [
    "# Convert 'origin' to categorical labels\n",
    "data['origin'] = data['origin'].replace({1: 'america', 2: 'europe', 3: 'asia'})"
   ]
  },
  {
   "cell_type": "markdown",
   "id": "1f546011-167b-40ab-8e8f-fe97a86ec801",
   "metadata": {},
   "source": [
    "## One-hot encode the 'origin' column"
   ]
  },
  {
   "cell_type": "code",
   "execution_count": 5,
   "id": "09e8cc41-622b-4eff-bd89-e384c43ac30b",
   "metadata": {},
   "outputs": [],
   "source": [
    "# One-hot encode the 'origin' column\n",
    "data = pd.get_dummies(data, columns=['origin'],dtype=int)"
   ]
  },
  {
   "cell_type": "markdown",
   "id": "826596ed-3ff3-4279-a98f-bf404b3e7173",
   "metadata": {},
   "source": [
    "## Replace '?' with NaN and then fill missing values with median"
   ]
  },
  {
   "cell_type": "code",
   "execution_count": 6,
   "id": "3a452073-4d39-43c2-8348-a18bcab43c8f",
   "metadata": {},
   "outputs": [],
   "source": [
    "# Step 1: Replace '?' with NaN (if applicable)\n",
    "data = data.replace('?', np.nan)\n",
    "\n",
    "# Step 2: Convert all columns to numeric where possible\n",
    "data = data.apply(pd.to_numeric, errors='coerce')\n",
    "\n",
    "# Step 3: Select only numeric columns\n",
    "numeric_cols = data.select_dtypes(include=[np.number]).columns\n",
    "\n",
    "# Step 4: Fill missing values in numeric columns with the median\n",
    "data[numeric_cols] = data[numeric_cols].apply(lambda x: x.fillna(x.median()))\n"
   ]
  },
  {
   "cell_type": "code",
   "execution_count": 7,
   "id": "9e097cb2-b8ef-4954-9a5b-41f8abc0ee92",
   "metadata": {},
   "outputs": [
    {
     "data": {
      "text/html": [
       "<div>\n",
       "<style scoped>\n",
       "    .dataframe tbody tr th:only-of-type {\n",
       "        vertical-align: middle;\n",
       "    }\n",
       "\n",
       "    .dataframe tbody tr th {\n",
       "        vertical-align: top;\n",
       "    }\n",
       "\n",
       "    .dataframe thead th {\n",
       "        text-align: right;\n",
       "    }\n",
       "</style>\n",
       "<table border=\"1\" class=\"dataframe\">\n",
       "  <thead>\n",
       "    <tr style=\"text-align: right;\">\n",
       "      <th></th>\n",
       "      <th>mpg</th>\n",
       "      <th>cyl</th>\n",
       "      <th>disp</th>\n",
       "      <th>hp</th>\n",
       "      <th>wt</th>\n",
       "      <th>acc</th>\n",
       "      <th>yr</th>\n",
       "      <th>car_type</th>\n",
       "      <th>origin_america</th>\n",
       "      <th>origin_asia</th>\n",
       "      <th>origin_europe</th>\n",
       "    </tr>\n",
       "  </thead>\n",
       "  <tbody>\n",
       "    <tr>\n",
       "      <th>0</th>\n",
       "      <td>18.0</td>\n",
       "      <td>8</td>\n",
       "      <td>307.0</td>\n",
       "      <td>130.0</td>\n",
       "      <td>3504</td>\n",
       "      <td>12.0</td>\n",
       "      <td>70</td>\n",
       "      <td>0</td>\n",
       "      <td>1</td>\n",
       "      <td>0</td>\n",
       "      <td>0</td>\n",
       "    </tr>\n",
       "    <tr>\n",
       "      <th>1</th>\n",
       "      <td>15.0</td>\n",
       "      <td>8</td>\n",
       "      <td>350.0</td>\n",
       "      <td>165.0</td>\n",
       "      <td>3693</td>\n",
       "      <td>11.5</td>\n",
       "      <td>70</td>\n",
       "      <td>0</td>\n",
       "      <td>1</td>\n",
       "      <td>0</td>\n",
       "      <td>0</td>\n",
       "    </tr>\n",
       "    <tr>\n",
       "      <th>2</th>\n",
       "      <td>18.0</td>\n",
       "      <td>8</td>\n",
       "      <td>318.0</td>\n",
       "      <td>150.0</td>\n",
       "      <td>3436</td>\n",
       "      <td>11.0</td>\n",
       "      <td>70</td>\n",
       "      <td>0</td>\n",
       "      <td>1</td>\n",
       "      <td>0</td>\n",
       "      <td>0</td>\n",
       "    </tr>\n",
       "    <tr>\n",
       "      <th>3</th>\n",
       "      <td>16.0</td>\n",
       "      <td>8</td>\n",
       "      <td>304.0</td>\n",
       "      <td>150.0</td>\n",
       "      <td>3433</td>\n",
       "      <td>12.0</td>\n",
       "      <td>70</td>\n",
       "      <td>0</td>\n",
       "      <td>1</td>\n",
       "      <td>0</td>\n",
       "      <td>0</td>\n",
       "    </tr>\n",
       "    <tr>\n",
       "      <th>4</th>\n",
       "      <td>17.0</td>\n",
       "      <td>8</td>\n",
       "      <td>302.0</td>\n",
       "      <td>140.0</td>\n",
       "      <td>3449</td>\n",
       "      <td>10.5</td>\n",
       "      <td>70</td>\n",
       "      <td>0</td>\n",
       "      <td>1</td>\n",
       "      <td>0</td>\n",
       "      <td>0</td>\n",
       "    </tr>\n",
       "  </tbody>\n",
       "</table>\n",
       "</div>"
      ],
      "text/plain": [
       "    mpg  cyl   disp     hp    wt   acc  yr  car_type  origin_america  \\\n",
       "0  18.0    8  307.0  130.0  3504  12.0  70         0               1   \n",
       "1  15.0    8  350.0  165.0  3693  11.5  70         0               1   \n",
       "2  18.0    8  318.0  150.0  3436  11.0  70         0               1   \n",
       "3  16.0    8  304.0  150.0  3433  12.0  70         0               1   \n",
       "4  17.0    8  302.0  140.0  3449  10.5  70         0               1   \n",
       "\n",
       "   origin_asia  origin_europe  \n",
       "0            0              0  \n",
       "1            0              0  \n",
       "2            0              0  \n",
       "3            0              0  \n",
       "4            0              0  "
      ]
     },
     "execution_count": 7,
     "metadata": {},
     "output_type": "execute_result"
    }
   ],
   "source": [
    "data.head()"
   ]
  },
  {
   "cell_type": "markdown",
   "id": "0f3a8c37-8778-4a87-abbf-0d1be73d238a",
   "metadata": {},
   "source": [
    "# Feature and Target Separation "
   ]
  },
  {
   "cell_type": "code",
   "execution_count": 8,
   "id": "6d158776-8345-4174-8ffd-f42244840ecc",
   "metadata": {},
   "outputs": [],
   "source": [
    "X = data.drop(['mpg'], axis=1) # Independent Variables\n",
    "y = data[['mpg']] # Dependent Variable"
   ]
  },
  {
   "cell_type": "markdown",
   "id": "08ffa6e7-36c2-4371-819f-fff7caa82361",
   "metadata": {},
   "source": [
    "# Scaling\n",
    "\n",
    "Scale columns so none dominate (e.g., weight vs hp)"
   ]
  },
  {
   "cell_type": "code",
   "execution_count": 9,
   "id": "0af01809-42eb-4844-b789-c29275b7ec17",
   "metadata": {},
   "outputs": [],
   "source": [
    "# Scale the data\n",
    "X_s = preprocessing.scale(X)\n",
    "X_s = pd.DataFrame(X_s, columns=X.columns)"
   ]
  },
  {
   "cell_type": "code",
   "execution_count": 10,
   "id": "10485c78-0c0a-49ca-acaa-ed9d6c9895b9",
   "metadata": {},
   "outputs": [
    {
     "data": {
      "text/html": [
       "<div>\n",
       "<style scoped>\n",
       "    .dataframe tbody tr th:only-of-type {\n",
       "        vertical-align: middle;\n",
       "    }\n",
       "\n",
       "    .dataframe tbody tr th {\n",
       "        vertical-align: top;\n",
       "    }\n",
       "\n",
       "    .dataframe thead th {\n",
       "        text-align: right;\n",
       "    }\n",
       "</style>\n",
       "<table border=\"1\" class=\"dataframe\">\n",
       "  <thead>\n",
       "    <tr style=\"text-align: right;\">\n",
       "      <th></th>\n",
       "      <th>cyl</th>\n",
       "      <th>disp</th>\n",
       "      <th>hp</th>\n",
       "      <th>wt</th>\n",
       "      <th>acc</th>\n",
       "      <th>yr</th>\n",
       "      <th>car_type</th>\n",
       "      <th>origin_america</th>\n",
       "      <th>origin_asia</th>\n",
       "      <th>origin_europe</th>\n",
       "    </tr>\n",
       "  </thead>\n",
       "  <tbody>\n",
       "    <tr>\n",
       "      <th>0</th>\n",
       "      <td>1.498191</td>\n",
       "      <td>1.090604</td>\n",
       "      <td>0.673118</td>\n",
       "      <td>0.630870</td>\n",
       "      <td>-1.295498</td>\n",
       "      <td>-1.627426</td>\n",
       "      <td>-1.062235</td>\n",
       "      <td>0.773559</td>\n",
       "      <td>-0.497643</td>\n",
       "      <td>-0.461968</td>\n",
       "    </tr>\n",
       "    <tr>\n",
       "      <th>1</th>\n",
       "      <td>1.498191</td>\n",
       "      <td>1.503514</td>\n",
       "      <td>1.589958</td>\n",
       "      <td>0.854333</td>\n",
       "      <td>-1.477038</td>\n",
       "      <td>-1.627426</td>\n",
       "      <td>-1.062235</td>\n",
       "      <td>0.773559</td>\n",
       "      <td>-0.497643</td>\n",
       "      <td>-0.461968</td>\n",
       "    </tr>\n",
       "    <tr>\n",
       "      <th>2</th>\n",
       "      <td>1.498191</td>\n",
       "      <td>1.196232</td>\n",
       "      <td>1.197027</td>\n",
       "      <td>0.550470</td>\n",
       "      <td>-1.658577</td>\n",
       "      <td>-1.627426</td>\n",
       "      <td>-1.062235</td>\n",
       "      <td>0.773559</td>\n",
       "      <td>-0.497643</td>\n",
       "      <td>-0.461968</td>\n",
       "    </tr>\n",
       "    <tr>\n",
       "      <th>3</th>\n",
       "      <td>1.498191</td>\n",
       "      <td>1.061796</td>\n",
       "      <td>1.197027</td>\n",
       "      <td>0.546923</td>\n",
       "      <td>-1.295498</td>\n",
       "      <td>-1.627426</td>\n",
       "      <td>-1.062235</td>\n",
       "      <td>0.773559</td>\n",
       "      <td>-0.497643</td>\n",
       "      <td>-0.461968</td>\n",
       "    </tr>\n",
       "    <tr>\n",
       "      <th>4</th>\n",
       "      <td>1.498191</td>\n",
       "      <td>1.042591</td>\n",
       "      <td>0.935072</td>\n",
       "      <td>0.565841</td>\n",
       "      <td>-1.840117</td>\n",
       "      <td>-1.627426</td>\n",
       "      <td>-1.062235</td>\n",
       "      <td>0.773559</td>\n",
       "      <td>-0.497643</td>\n",
       "      <td>-0.461968</td>\n",
       "    </tr>\n",
       "    <tr>\n",
       "      <th>...</th>\n",
       "      <td>...</td>\n",
       "      <td>...</td>\n",
       "      <td>...</td>\n",
       "      <td>...</td>\n",
       "      <td>...</td>\n",
       "      <td>...</td>\n",
       "      <td>...</td>\n",
       "      <td>...</td>\n",
       "      <td>...</td>\n",
       "      <td>...</td>\n",
       "    </tr>\n",
       "    <tr>\n",
       "      <th>393</th>\n",
       "      <td>-0.856321</td>\n",
       "      <td>-0.513026</td>\n",
       "      <td>-0.479482</td>\n",
       "      <td>-0.213324</td>\n",
       "      <td>0.011586</td>\n",
       "      <td>1.621983</td>\n",
       "      <td>0.941412</td>\n",
       "      <td>0.773559</td>\n",
       "      <td>-0.497643</td>\n",
       "      <td>-0.461968</td>\n",
       "    </tr>\n",
       "    <tr>\n",
       "      <th>394</th>\n",
       "      <td>-0.856321</td>\n",
       "      <td>-0.925936</td>\n",
       "      <td>-1.370127</td>\n",
       "      <td>-0.993671</td>\n",
       "      <td>3.279296</td>\n",
       "      <td>1.621983</td>\n",
       "      <td>0.941412</td>\n",
       "      <td>-1.292726</td>\n",
       "      <td>-0.497643</td>\n",
       "      <td>2.164651</td>\n",
       "    </tr>\n",
       "    <tr>\n",
       "      <th>395</th>\n",
       "      <td>-0.856321</td>\n",
       "      <td>-0.561039</td>\n",
       "      <td>-0.531873</td>\n",
       "      <td>-0.798585</td>\n",
       "      <td>-1.440730</td>\n",
       "      <td>1.621983</td>\n",
       "      <td>0.941412</td>\n",
       "      <td>0.773559</td>\n",
       "      <td>-0.497643</td>\n",
       "      <td>-0.461968</td>\n",
       "    </tr>\n",
       "    <tr>\n",
       "      <th>396</th>\n",
       "      <td>-0.856321</td>\n",
       "      <td>-0.705077</td>\n",
       "      <td>-0.662850</td>\n",
       "      <td>-0.408411</td>\n",
       "      <td>1.100822</td>\n",
       "      <td>1.621983</td>\n",
       "      <td>0.941412</td>\n",
       "      <td>0.773559</td>\n",
       "      <td>-0.497643</td>\n",
       "      <td>-0.461968</td>\n",
       "    </tr>\n",
       "    <tr>\n",
       "      <th>397</th>\n",
       "      <td>-0.856321</td>\n",
       "      <td>-0.714680</td>\n",
       "      <td>-0.584264</td>\n",
       "      <td>-0.296088</td>\n",
       "      <td>1.391285</td>\n",
       "      <td>1.621983</td>\n",
       "      <td>0.941412</td>\n",
       "      <td>0.773559</td>\n",
       "      <td>-0.497643</td>\n",
       "      <td>-0.461968</td>\n",
       "    </tr>\n",
       "  </tbody>\n",
       "</table>\n",
       "<p>398 rows × 10 columns</p>\n",
       "</div>"
      ],
      "text/plain": [
       "          cyl      disp        hp        wt       acc        yr  car_type  \\\n",
       "0    1.498191  1.090604  0.673118  0.630870 -1.295498 -1.627426 -1.062235   \n",
       "1    1.498191  1.503514  1.589958  0.854333 -1.477038 -1.627426 -1.062235   \n",
       "2    1.498191  1.196232  1.197027  0.550470 -1.658577 -1.627426 -1.062235   \n",
       "3    1.498191  1.061796  1.197027  0.546923 -1.295498 -1.627426 -1.062235   \n",
       "4    1.498191  1.042591  0.935072  0.565841 -1.840117 -1.627426 -1.062235   \n",
       "..        ...       ...       ...       ...       ...       ...       ...   \n",
       "393 -0.856321 -0.513026 -0.479482 -0.213324  0.011586  1.621983  0.941412   \n",
       "394 -0.856321 -0.925936 -1.370127 -0.993671  3.279296  1.621983  0.941412   \n",
       "395 -0.856321 -0.561039 -0.531873 -0.798585 -1.440730  1.621983  0.941412   \n",
       "396 -0.856321 -0.705077 -0.662850 -0.408411  1.100822  1.621983  0.941412   \n",
       "397 -0.856321 -0.714680 -0.584264 -0.296088  1.391285  1.621983  0.941412   \n",
       "\n",
       "     origin_america  origin_asia  origin_europe  \n",
       "0          0.773559    -0.497643      -0.461968  \n",
       "1          0.773559    -0.497643      -0.461968  \n",
       "2          0.773559    -0.497643      -0.461968  \n",
       "3          0.773559    -0.497643      -0.461968  \n",
       "4          0.773559    -0.497643      -0.461968  \n",
       "..              ...          ...            ...  \n",
       "393        0.773559    -0.497643      -0.461968  \n",
       "394       -1.292726    -0.497643       2.164651  \n",
       "395        0.773559    -0.497643      -0.461968  \n",
       "396        0.773559    -0.497643      -0.461968  \n",
       "397        0.773559    -0.497643      -0.461968  \n",
       "\n",
       "[398 rows x 10 columns]"
      ]
     },
     "execution_count": 10,
     "metadata": {},
     "output_type": "execute_result"
    }
   ],
   "source": [
    "X_s"
   ]
  },
  {
   "cell_type": "code",
   "execution_count": 11,
   "id": "4716a820-ef16-4ca3-a5e5-146f2ce17027",
   "metadata": {},
   "outputs": [],
   "source": [
    "y_s = preprocessing.scale(y)\n",
    "y_s = pd.DataFrame(y_s, columns=y.columns)"
   ]
  },
  {
   "cell_type": "code",
   "execution_count": 12,
   "id": "e906c7c0-a258-4f8f-99a2-a4098f7e8de6",
   "metadata": {},
   "outputs": [
    {
     "data": {
      "text/html": [
       "<div>\n",
       "<style scoped>\n",
       "    .dataframe tbody tr th:only-of-type {\n",
       "        vertical-align: middle;\n",
       "    }\n",
       "\n",
       "    .dataframe tbody tr th {\n",
       "        vertical-align: top;\n",
       "    }\n",
       "\n",
       "    .dataframe thead th {\n",
       "        text-align: right;\n",
       "    }\n",
       "</style>\n",
       "<table border=\"1\" class=\"dataframe\">\n",
       "  <thead>\n",
       "    <tr style=\"text-align: right;\">\n",
       "      <th></th>\n",
       "      <th>mpg</th>\n",
       "    </tr>\n",
       "  </thead>\n",
       "  <tbody>\n",
       "    <tr>\n",
       "      <th>0</th>\n",
       "      <td>-0.706439</td>\n",
       "    </tr>\n",
       "    <tr>\n",
       "      <th>1</th>\n",
       "      <td>-1.090751</td>\n",
       "    </tr>\n",
       "    <tr>\n",
       "      <th>2</th>\n",
       "      <td>-0.706439</td>\n",
       "    </tr>\n",
       "    <tr>\n",
       "      <th>3</th>\n",
       "      <td>-0.962647</td>\n",
       "    </tr>\n",
       "    <tr>\n",
       "      <th>4</th>\n",
       "      <td>-0.834543</td>\n",
       "    </tr>\n",
       "    <tr>\n",
       "      <th>...</th>\n",
       "      <td>...</td>\n",
       "    </tr>\n",
       "    <tr>\n",
       "      <th>393</th>\n",
       "      <td>0.446497</td>\n",
       "    </tr>\n",
       "    <tr>\n",
       "      <th>394</th>\n",
       "      <td>2.624265</td>\n",
       "    </tr>\n",
       "    <tr>\n",
       "      <th>395</th>\n",
       "      <td>1.087017</td>\n",
       "    </tr>\n",
       "    <tr>\n",
       "      <th>396</th>\n",
       "      <td>0.574601</td>\n",
       "    </tr>\n",
       "    <tr>\n",
       "      <th>397</th>\n",
       "      <td>0.958913</td>\n",
       "    </tr>\n",
       "  </tbody>\n",
       "</table>\n",
       "<p>398 rows × 1 columns</p>\n",
       "</div>"
      ],
      "text/plain": [
       "          mpg\n",
       "0   -0.706439\n",
       "1   -1.090751\n",
       "2   -0.706439\n",
       "3   -0.962647\n",
       "4   -0.834543\n",
       "..        ...\n",
       "393  0.446497\n",
       "394  2.624265\n",
       "395  1.087017\n",
       "396  0.574601\n",
       "397  0.958913\n",
       "\n",
       "[398 rows x 1 columns]"
      ]
     },
     "execution_count": 12,
     "metadata": {},
     "output_type": "execute_result"
    }
   ],
   "source": [
    "y_s"
   ]
  },
  {
   "cell_type": "markdown",
   "id": "cf123072-7252-4a52-99e5-1da619a9dd3f",
   "metadata": {},
   "source": [
    "# Train test split\n",
    "\n",
    "70% training, 30% testing for validation"
   ]
  },
  {
   "cell_type": "code",
   "execution_count": 13,
   "id": "6290e46c-6606-4bbf-9445-76b6bc1300b7",
   "metadata": {},
   "outputs": [],
   "source": [
    "X_train, X_test, y_train, y_test = train_test_split(X_s, y_s, test_size=0.3, random_state=1)"
   ]
  },
  {
   "cell_type": "markdown",
   "id": "bf99077e-62cc-4ea2-8a74-00994dba6500",
   "metadata": {},
   "source": [
    "# Train a Simple Linear Regression Model\n",
    "\n",
    "**Uses all features directly**"
   ]
  },
  {
   "cell_type": "code",
   "execution_count": 14,
   "id": "e633b247-d120-449e-93cb-c6c70cb02c3c",
   "metadata": {},
   "outputs": [
    {
     "name": "stdout",
     "output_type": "stream",
     "text": [
      "The coefficient for cyl is 0.321022385691611\n",
      "The coefficient for disp is 0.32483430918483897\n",
      "The coefficient for hp is -0.22916950059437569\n",
      "The coefficient for wt is -0.7112101905072298\n",
      "The coefficient for acc is 0.014713682764191237\n",
      "The coefficient for yr is 0.3755811949510748\n",
      "The coefficient for car_type is 0.3814769484233099\n",
      "The coefficient for origin_america is -0.07472247547584178\n",
      "The coefficient for origin_asia is 0.044515252035677896\n",
      "The coefficient for origin_europe is 0.04834854953945386\n",
      "Intercept: 0.019284116103639764\n"
     ]
    }
   ],
   "source": [
    "regression_model = LinearRegression()\n",
    "regression_model.fit(X_train, y_train)\n",
    "\n",
    "# Print coefficients and intercept\n",
    "for idx, col_name in enumerate(X_train.columns):\n",
    "    print(f\"The coefficient for {col_name} is {regression_model.coef_[0][idx]}\")\n",
    "\n",
    "print(\"Intercept:\", regression_model.intercept_[0])"
   ]
  },
  {
   "cell_type": "markdown",
   "id": "34ac676a-c49a-4066-908b-d99ea832f8b8",
   "metadata": {},
   "source": [
    "# Ridge Regression (L2 Regularization)\n",
    "\n",
    "**Shrinks coefficients to control overfitting**"
   ]
  },
  {
   "cell_type": "code",
   "execution_count": 15,
   "id": "89096108-c587-4876-9307-5907b1185c56",
   "metadata": {},
   "outputs": [
    {
     "name": "stdout",
     "output_type": "stream",
     "text": [
      "Ridge model coefficients: [ 0.31649043  0.31320707 -0.22876025 -0.70109447  0.01295851  0.37447352\n",
      "  0.37725608 -0.07423624  0.04441039  0.04784031]\n"
     ]
    }
   ],
   "source": [
    "ridge_model = Ridge(alpha=0.3)\n",
    "ridge_model.fit(X_train, y_train)\n",
    "\n",
    "print(\"Ridge model coefficients:\", ridge_model.coef_)"
   ]
  },
  {
   "cell_type": "markdown",
   "id": "0a2a114d-b5ed-4309-968b-6582e65be54c",
   "metadata": {},
   "source": [
    "# Lasso Regression (L1 Regularization)\n",
    "\n",
    "**Drops unnecessary features by zeroing out coefficients**"
   ]
  },
  {
   "cell_type": "code",
   "execution_count": 16,
   "id": "17036704-8e32-450a-9ab9-e43faa747708",
   "metadata": {},
   "outputs": [
    {
     "name": "stdout",
     "output_type": "stream",
     "text": [
      "Lasso model coefficients: [-0.         -0.         -0.01690287 -0.51890013  0.          0.28138241\n",
      "  0.1278489  -0.01642647  0.          0.        ]\n"
     ]
    }
   ],
   "source": [
    "lasso_model = Lasso(alpha=0.1)\n",
    "lasso_model.fit(X_train, y_train)\n",
    "\n",
    "print(\"Lasso model coefficients:\", lasso_model.coef_)"
   ]
  },
  {
   "cell_type": "markdown",
   "id": "849993d2-a329-4930-8d20-48d1756c1228",
   "metadata": {},
   "source": [
    "# Tips \n",
    "\n",
    "* Use R² when starting\n",
    "\n",
    "* Use Adjusted R² when comparing models with different number of features\n",
    "\n",
    "* Use RMSE (or MAE) to see real prediction error\n",
    "\n",
    "* Use visuals (like scatter plots & residual plots) to validate behavior"
   ]
  },
  {
   "cell_type": "markdown",
   "id": "78230ff1-bd6b-4c04-95dc-a9bf01344e4e",
   "metadata": {},
   "source": [
    "# R² Score Comparison\n",
    "\n",
    "**R² (Coefficient of Determination)** tells us how much variation in the target (e.g. `mpg`) is explained by the model.\n",
    "\n",
    "- $R^2 = 1$: Perfect prediction  \n",
    "- $R^2 = 0$: Model explains nothing  \n",
    "- $R^2 < 0$: Worse than just predicting the mean  \n",
    "- **Ideal range**: Closer to **1** is better"
   ]
  },
  {
   "cell_type": "code",
   "execution_count": 17,
   "id": "e6956001-234e-424e-9e04-962f37989a64",
   "metadata": {},
   "outputs": [
    {
     "name": "stdout",
     "output_type": "stream",
     "text": [
      "Linear Train R²: 0.8343770256960538\n",
      "Linear Test R²: 0.8513421387780066\n",
      "Ridge Train R²: 0.8343617931312616\n",
      "Ridge Test R²: 0.8518882171608506\n",
      "Lasso Train R²: 0.7938010766228453\n",
      "Lasso Test R²: 0.8375229615977083\n"
     ]
    }
   ],
   "source": [
    "print(\"Linear Train R²:\", regression_model.score(X_train, y_train))\n",
    "print(\"Linear Test R²:\", regression_model.score(X_test, y_test))\n",
    "\n",
    "print(\"Ridge Train R²:\", ridge_model.score(X_train, y_train))\n",
    "print(\"Ridge Test R²:\", ridge_model.score(X_test, y_test))\n",
    "\n",
    "print(\"Lasso Train R²:\", lasso_model.score(X_train, y_train))\n",
    "print(\"Lasso Test R²:\", lasso_model.score(X_test, y_test))"
   ]
  },
  {
   "cell_type": "markdown",
   "id": "13f317e4-4972-4e6b-813d-c70e32720ca9",
   "metadata": {},
   "source": [
    "## Interpretation:\n",
    "\n",
    "- All models do well (R² > 0.79).\n",
    "\n",
    "- Ridge gives the best generalization.\n",
    "\n",
    "- Lasso is slightly less accurate, but it simplifies the model by eliminating less useful features."
   ]
  },
  {
   "cell_type": "markdown",
   "id": "8b06e740-6399-43af-86e8-79c530789782",
   "metadata": {},
   "source": [
    "# Adjusted R² Using statsmodels (Like in R)\n",
    "\n",
    "Adjusted R² improves over plain R² by considering how many predictors you're using. It penalizes unnecessary features.\n",
    "\n",
    "- $\\text{Adjusted } R^2 = 1$ → Perfect prediction (just like R²)  \n",
    "- $\\text{Adjusted } R^2 < R^2$ → Penalizes too many features  \n",
    "- $\\text{Adjusted } R^2 < 0$ → Model likely overfits or uses irrelevant features  \n",
    "- Best for comparing models with **different numbers of predictors**  \n",
    "- **Closer to 1 is better** — just like R², but more honest!"
   ]
  },
  {
   "cell_type": "code",
   "execution_count": 18,
   "id": "17c282a3-03eb-46ee-9b29-42624cca1ea9",
   "metadata": {},
   "outputs": [
    {
     "name": "stdout",
     "output_type": "stream",
     "text": [
      "                            OLS Regression Results                            \n",
      "==============================================================================\n",
      "Dep. Variable:                    mpg   R-squared:                       0.834\n",
      "Model:                            OLS   Adj. R-squared:                  0.829\n",
      "Method:                 Least Squares   F-statistic:                     150.0\n",
      "Date:                Tue, 15 Jul 2025   Prob (F-statistic):           3.12e-99\n",
      "Time:                        13:30:17   Log-Likelihood:                -146.89\n",
      "No. Observations:                 278   AIC:                             313.8\n",
      "Df Residuals:                     268   BIC:                             350.1\n",
      "Df Model:                           9                                         \n",
      "Covariance Type:            nonrobust                                         \n",
      "==================================================================================\n",
      "                     coef    std err          t      P>|t|      [0.025      0.975]\n",
      "----------------------------------------------------------------------------------\n",
      "Intercept          0.0193      0.025      0.765      0.445      -0.030       0.069\n",
      "cyl                0.3210      0.112      2.856      0.005       0.100       0.542\n",
      "disp               0.3248      0.128      2.544      0.012       0.073       0.576\n",
      "hp                -0.2292      0.079     -2.915      0.004      -0.384      -0.074\n",
      "wt                -0.7112      0.088     -8.118      0.000      -0.884      -0.539\n",
      "acc                0.0147      0.039      0.373      0.709      -0.063       0.092\n",
      "yr                 0.3756      0.029     13.088      0.000       0.319       0.432\n",
      "car_type           0.3815      0.067      5.728      0.000       0.250       0.513\n",
      "origin_america    -0.0747      0.020     -3.723      0.000      -0.114      -0.035\n",
      "origin_europe      0.0483      0.021      2.270      0.024       0.006       0.090\n",
      "origin_asia        0.0445      0.020      2.175      0.031       0.004       0.085\n",
      "==============================================================================\n",
      "Omnibus:                       22.678   Durbin-Watson:                   2.105\n",
      "Prob(Omnibus):                  0.000   Jarque-Bera (JB):               36.139\n",
      "Skew:                           0.513   Prob(JB):                     1.42e-08\n",
      "Kurtosis:                       4.438   Cond. No.                     1.59e+16\n",
      "==============================================================================\n",
      "\n",
      "Notes:\n",
      "[1] Standard Errors assume that the covariance matrix of the errors is correctly specified.\n",
      "[2] The smallest eigenvalue is 6.14e-30. This might indicate that there are\n",
      "strong multicollinearity problems or that the design matrix is singular.\n"
     ]
    }
   ],
   "source": [
    "import statsmodels.formula.api as smf\n",
    "\n",
    "# Merge features and target\n",
    "data_train_test = pd.concat([X_train, y_train], axis=1)\n",
    "\n",
    "# Fit OLS regression model\n",
    "ols1 = smf.ols(formula='mpg ~ cyl+disp+hp+wt+acc+yr+car_type+origin_america+origin_europe+origin_asia', data=data_train_test).fit()\n",
    "\n",
    "# View summary\n",
    "print(ols1.summary())"
   ]
  },
  {
   "cell_type": "markdown",
   "id": "c197f78a-6bdb-4639-a7df-cc982d9126fe",
   "metadata": {},
   "source": [
    "## Adjusted R² from statsmodels:\n",
    "\n",
    "```python \n",
    "R-squared:      0.834\n",
    "Adj. R-squared: 0.829\n",
    "```\n",
    "\n",
    "- Close values → most features are useful\n",
    "\n",
    "- If Adjusted R² was much lower than R², it would mean too many unhelpful features"
   ]
  },
  {
   "cell_type": "markdown",
   "id": "ecf28997-d251-46ff-8a51-5679cbc78189",
   "metadata": {},
   "source": [
    "# Root Mean Squared Error (RMSE)\n",
    "\n",
    "RMSE shows the average prediction error in the same units as the target variable.\n",
    "\n",
    "- $\\text{RMSE} \\geq 0$ → Cannot be negative  \n",
    "- $\\text{RMSE} = 0$ → Perfect prediction (no error)  \n",
    "- The **lower**, the better  \n",
    "- Same unit as the predicted variable (e.g., mpg, price, etc.)\n",
    "\n",
    "\n",
    "> Example: RMSE = 2.5 → on average, your predictions are off by 2.5 units\n"
   ]
  },
  {
   "cell_type": "code",
   "execution_count": 19,
   "id": "712da908-cbc1-4558-8d9e-7b26e0f5d55f",
   "metadata": {},
   "outputs": [
    {
     "name": "stdout",
     "output_type": "stream",
     "text": [
      "Root Mean Squared Error: 0.37766934254087847\n"
     ]
    }
   ],
   "source": [
    "mse = np.mean((regression_model.predict(X_test) - y_test) ** 2)\n",
    "import math\n",
    "rmse = math.sqrt(mse)\n",
    "print(\"Root Mean Squared Error:\", rmse)"
   ]
  },
  {
   "cell_type": "markdown",
   "id": "fbd15404-bc0e-4712-91d5-847867e6f6e2",
   "metadata": {},
   "source": [
    "Very low RMSE! Your model is off by just ±0.38 on average when predicting mpg."
   ]
  },
  {
   "cell_type": "markdown",
   "id": "2f46d129-fb80-4de4-afe7-3bbf3d567d3f",
   "metadata": {},
   "source": [
    "# Residual Plot – Check for Patterns\n",
    "\n",
    "**Why plot it?**\n",
    "\n",
    "- To check if the model is missing any patterns\n",
    "\n",
    "- A good residual plot has no shape — it looks random\n",
    "\n",
    "**Our plots look random → model fits well**\n",
    "\n"
   ]
  },
  {
   "cell_type": "code",
   "execution_count": 20,
   "id": "cd2bec3c-0ebf-43a7-909c-d287f4994599",
   "metadata": {},
   "outputs": [
    {
     "data": {
      "text/plain": [
       "<Axes: xlabel='acc', ylabel='mpg'>"
      ]
     },
     "execution_count": 20,
     "metadata": {},
     "output_type": "execute_result"
    },
    {
     "data": {
      "image/png": "[encoded data removed]",
      "text/plain": [
       "<Figure size 1000x600 with 1 Axes>"
      ]
     },
     "metadata": {},
     "output_type": "display_data"
    },
    {
     "data": {
      "image/png": "[encoded data removed]",
      "text/plain": [
       "<Figure size 1000x600 with 1 Axes>"
      ]
     },
     "metadata": {},
     "output_type": "display_data"
    }
   ],
   "source": [
    "fig = plt.figure(figsize=(10, 6))\n",
    "sns.residplot(x=X_test['hp'], y=y_test['mpg'], color='green', lowess=True)\n",
    "\n",
    "fig = plt.figure(figsize=(10, 6))\n",
    "sns.residplot(x=X_test['acc'], y=y_test['mpg'], color='green', lowess=True)"
   ]
  },
  {
   "cell_type": "markdown",
   "id": "11a9dc62-0b4f-4d48-8db3-b5b5fd41c194",
   "metadata": {},
   "source": [
    "# Prediction vs Actual – Visualization"
   ]
  },
  {
   "cell_type": "code",
   "execution_count": 21,
   "id": "c69196ab-248a-4ff6-99bf-9b89fb9e0188",
   "metadata": {},
   "outputs": [
    {
     "data": {
      "image/png": "[encoded data removed]",
      "text/plain": [
       "<Figure size 800x500 with 1 Axes>"
      ]
     },
     "metadata": {},
     "output_type": "display_data"
    }
   ],
   "source": [
    "y_pred = regression_model.predict(X_test)\n",
    "\n",
    "plt.figure(figsize=(8, 5))\n",
    "plt.scatter(y_test['mpg'], y_pred)\n",
    "plt.xlabel(\"Actual MPG\")\n",
    "plt.ylabel(\"Predicted MPG\")\n",
    "plt.title(\"Actual vs Predicted MPG\")\n",
    "plt.show()"
   ]
  },
  {
   "cell_type": "markdown",
   "id": "06a87807-823f-402a-868d-117e3ad4cb92",
   "metadata": {},
   "source": [
    "**This plot compares:**\n",
    "\n",
    "Actual mpg values vs predicted mpg\n",
    "\n",
    "* A good model will show points clustered around the diagonal line\n",
    "\n",
    "* Your plot shows this — predictions are close to real-world values"
   ]
  },
  {
   "cell_type": "markdown",
   "id": "34b0b78b-5770-4469-ae0b-1ffcac31cc49",
   "metadata": {},
   "source": [
    "# Final Summary\n",
    "\n",
    "-  **Linear Regression** is simple and accurate, but it may **overfit** when the model becomes too complex or when irrelevant features are included.\n",
    "\n",
    "-  **Ridge Regression (L2)** is the **best performer** in this case — it shrinks coefficients slightly to prevent overfitting while maintaining good accuracy and generalization.\n",
    "\n",
    "-  **Lasso Regression (L1)** is slightly less accurate but more **interpretable** — it can automatically **remove weak or unnecessary features** by setting their coefficients to zero.\n",
    "\n",
    "-  **Adjusted R²** helps evaluate model quality more fairly when you have many features — it penalizes complexity.\n",
    "\n",
    "-  **RMSE (Root Mean Squared Error)** tells how far your predictions are from actual values — lower RMSE is better.\n",
    "\n",
    "-  **Residual and Scatter Plots** help visualize errors and check how well your model fits unseen data.\n",
    "\n",
    "\n",
    "\n",
    "## Recommendation:\n",
    "\n",
    ">  Use a combination of **R²**, **Adjusted R²**, **RMSE**, and **visual plots** to compare and select the most reliable model — not just raw accuracy.\n",
    "\n",
    "**In this case:**\n",
    "\n",
    " **Ridge Regression** strikes the best balance between **accuracy, simplicity, and generalization.**\n"
   ]
  }
 ],
 "metadata": {
  "kernelspec": {
   "display_name": "Python 3 (ipykernel)",
   "language": "python",
   "name": "python3"
  },
  "language_info": {
   "codemirror_mode": {
    "name": "ipython",
    "version": 3
   },
   "file_extension": ".py",
   "mimetype": "text/x-python",
   "name": "python",
   "nbconvert_exporter": "python",
   "pygments_lexer": "ipython3",
   "version": "3.13.5"
  }
 },
 "nbformat": 4,
 "nbformat_minor": 5
}
