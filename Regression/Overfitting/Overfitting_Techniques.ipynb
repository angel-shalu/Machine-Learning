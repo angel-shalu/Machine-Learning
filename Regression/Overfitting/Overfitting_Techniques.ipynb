{
 "cells": [
  {
   "cell_type": "markdown",
   "id": "2a8bcb70-25a2-4211-b032-584b13570385",
   "metadata": {},
   "source": [
    "**Overfitting in Machine Learning: Concepts, Techniques & Python Code**"
   ]
  },
  {
   "cell_type": "markdown",
   "id": "be1654a9-4484-4f13-97bd-ce6352870634",
   "metadata": {},
   "source": [
    "**What is Overfitting?**\n",
    "\n",
    "> Overfitting happens when a model learns not only the actual patterns in training data but also the **noise**, making it perform very well on training data but **poorly on new data** (test data).\n",
    "> It’s like memorizing answers instead of understanding the concept.\n",
    "-  High accuracy on training data\n",
    "-  Low accuracy on test data\n",
    "\n",
    "If a student memorizes answers instead of understanding concepts, they may score well in practice but fail in the final exam.\n",
    "\n",
    "\n",
    "**Techniques to Prevent Overfitting**:\n",
    "\n",
    "1 **Cross-Validation (CV)**\n",
    "\n",
    "* **K-Fold CV**: Split data into k parts, train on k−1 and test on the remaining.\n",
    "* **Stratified K-Fold**: Keeps class distribution same across all folds.\n",
    "* **GridSearchCV**: Exhaustive search over parameter combinations.\n",
    "* **RandomizedSearchCV**: Random sampling of parameter combinations.\n",
    "\n",
    "2 **Regularization**\n",
    "\n",
    "* **Lasso (L1)**: Shrinks some coefficients to zero — feature selection.\n",
    "* **Ridge (L2)**: Shrinks coefficients — helps generalization.\n",
    "\n",
    "3 **Dimensionality Reduction**\n",
    "\n",
    "* **PCA**: Removes less important features — reduces overfitting risk.\n",
    "\n",
    "4 **Ensemble Models**\n",
    "\n",
    "* **Bagging**: Combines multiple weak models — Random Forest.\n",
    "* **Boosting**: Sequential improvement — Gradient Boosting."
   ]
  },
  {
   "cell_type": "markdown",
   "id": "a3d5418b-5cbb-4481-a343-82143fe9bfd6",
   "metadata": {},
   "source": [
    "**Step-by-Step in Python (Classification Example)**"
   ]
  },
  {
   "cell_type": "code",
   "execution_count": 25,
   "id": "b30c80fd-4a76-4d9c-9281-d04c045d4e3e",
   "metadata": {},
   "outputs": [],
   "source": [
    "import pandas as pd\n",
    "from sklearn.model_selection import train_test_split\n",
    "from sklearn.preprocessing import StandardScaler\n",
    "\n",
    "# Load classification data\n",
    "df = pd.read_csv(r\"C:\\Users\\Lenovo\\Downloads\\logit classification.csv\")  # Adjust path if needed\n",
    "\n",
    "X = df[[\"Age\", \"EstimatedSalary\"]].values\n",
    "y = df[\"Purchased\"].values\n",
    "\n",
    "# Split\n",
    "X_train, X_test, y_train, y_test = train_test_split(X, y, test_size=0.3, random_state=42)\n",
    "\n",
    "# Scale\n",
    "scaler = StandardScaler()\n",
    "X_train_scaled = scaler.fit_transform(X_train)\n",
    "X_test_scaled = scaler.transform(X_test)"
   ]
  },
  {
   "cell_type": "markdown",
   "id": "bc19c7e7-5fe5-41f5-90d1-b340bb6987e2",
   "metadata": {},
   "source": [
    "# Cross Validation"
   ]
  },
  {
   "cell_type": "code",
   "execution_count": 27,
   "id": "1891792c-f5c4-4bd0-a26b-abb9782eaf04",
   "metadata": {},
   "outputs": [],
   "source": [
    "from sklearn.linear_model import LogisticRegression\n",
    "from sklearn.model_selection import cross_val_score, StratifiedKFold, GridSearchCV, RandomizedSearchCV\n",
    "from scipy.stats import uniform"
   ]
  },
  {
   "cell_type": "markdown",
   "id": "ea8cf946-4134-4dcc-92ea-503f67288032",
   "metadata": {},
   "source": [
    "## Basic K-Fold CV"
   ]
  },
  {
   "cell_type": "code",
   "execution_count": 28,
   "id": "0fd57971-9c4f-4027-b13d-cf001ee6783a",
   "metadata": {},
   "outputs": [
    {
     "name": "stdout",
     "output_type": "stream",
     "text": [
      "K-Fold Accuracy: 0.8178571428571428\n"
     ]
    }
   ],
   "source": [
    "# Basic K-Fold CV\n",
    "scores = cross_val_score(LogisticRegression(), X_train_scaled, y_train, cv=5)\n",
    "print(\"K-Fold Accuracy:\", scores.mean())"
   ]
  },
  {
   "cell_type": "markdown",
   "id": "47099a8b-b33b-411d-9100-60f28dd03fbf",
   "metadata": {},
   "source": [
    "## Stratified CV"
   ]
  },
  {
   "cell_type": "code",
   "execution_count": 29,
   "id": "b09a3ff2-6274-4701-a5f2-f2e5d92c7ee9",
   "metadata": {},
   "outputs": [
    {
     "name": "stdout",
     "output_type": "stream",
     "text": [
      "Stratified Accuracy: 0.8178571428571428\n"
     ]
    }
   ],
   "source": [
    "# Stratified CV\n",
    "skf = StratifiedKFold(n_splits=5)\n",
    "strat_scores = cross_val_score(LogisticRegression(), X_train_scaled, y_train, cv=skf)\n",
    "print(\"Stratified Accuracy:\", strat_scores.mean())"
   ]
  },
  {
   "cell_type": "markdown",
   "id": "4ac4cb98-5ad0-4779-95d1-8661ad8779a1",
   "metadata": {},
   "source": [
    "## GridSearchCV"
   ]
  },
  {
   "cell_type": "code",
   "execution_count": 30,
   "id": "c82e2143-16e7-431c-a685-af2d06b3d6c8",
   "metadata": {},
   "outputs": [
    {
     "name": "stdout",
     "output_type": "stream",
     "text": [
      "GridSearch Best Params: {'C': 10}\n"
     ]
    }
   ],
   "source": [
    "grid = GridSearchCV(LogisticRegression(), {'C': [0.01, 0.1, 1, 10]}, cv=5)\n",
    "grid.fit(X_train_scaled, y_train)\n",
    "print(\"GridSearch Best Params:\", grid.best_params_)"
   ]
  },
  {
   "cell_type": "markdown",
   "id": "e5e83de1-5ca4-4efa-a55b-92c074e46389",
   "metadata": {},
   "source": [
    "## RandomizedSearchCV"
   ]
  },
  {
   "cell_type": "code",
   "execution_count": 31,
   "id": "c8dbac3d-e8d6-4373-bfac-c315967d7899",
   "metadata": {},
   "outputs": [
    {
     "name": "stdout",
     "output_type": "stream",
     "text": [
      "RandomSearch Best Params: {'C': np.float64(3.7554011884736247)}\n"
     ]
    }
   ],
   "source": [
    "rand = RandomizedSearchCV(LogisticRegression(), {'C': uniform(0.01, 10)}, n_iter=5, cv=5, random_state=42)\n",
    "rand.fit(X_train_scaled, y_train)\n",
    "print(\"RandomSearch Best Params:\", rand.best_params_)"
   ]
  },
  {
   "cell_type": "markdown",
   "id": "4d9dd1a6-706f-4655-ab58-affc4c604802",
   "metadata": {},
   "source": [
    "# Regularization"
   ]
  },
  {
   "cell_type": "code",
   "execution_count": 32,
   "id": "b4a2cfec-40de-4cd3-8ece-287b5d719905",
   "metadata": {},
   "outputs": [
    {
     "name": "stdout",
     "output_type": "stream",
     "text": [
      "Ridge Score: 0.85\n"
     ]
    }
   ],
   "source": [
    "from sklearn.linear_model import RidgeClassifier, LogisticRegressionCV\n",
    "\n",
    "# Ridge Classifier\n",
    "ridge = RidgeClassifier(alpha=1.0)\n",
    "ridge.fit(X_train_scaled, y_train)\n",
    "print(\"Ridge Score:\", ridge.score(X_test_scaled, y_test))"
   ]
  },
  {
   "cell_type": "code",
   "execution_count": 33,
   "id": "d5cc4757-6253-4289-823e-81acf0663c5f",
   "metadata": {},
   "outputs": [
    {
     "name": "stdout",
     "output_type": "stream",
     "text": [
      "LogisticRegressionCV Score: 0.85\n"
     ]
    }
   ],
   "source": [
    "# Logistic with L1 or L2 via LogisticRegressionCV\n",
    "logcv = LogisticRegressionCV(cv=5, penalty='l2', solver='lbfgs')\n",
    "logcv.fit(X_train_scaled, y_train)\n",
    "print(\"LogisticRegressionCV Score:\", logcv.score(X_test_scaled, y_test))"
   ]
  },
  {
   "cell_type": "markdown",
   "id": "c42f45cf-3a00-4d0b-bf50-d3359f8c57c1",
   "metadata": {},
   "source": [
    "# PCA (Principal Component Analysis)"
   ]
  },
  {
   "cell_type": "code",
   "execution_count": 34,
   "id": "ac4658a7-e933-4dfa-9412-54141078a405",
   "metadata": {},
   "outputs": [
    {
     "name": "stdout",
     "output_type": "stream",
     "text": [
      "PCA Model Score: 0.825\n"
     ]
    }
   ],
   "source": [
    "from sklearn.decomposition import PCA\n",
    "\n",
    "pca = PCA(n_components=1)\n",
    "X_train_pca = pca.fit_transform(X_train_scaled)\n",
    "X_test_pca = pca.transform(X_test_scaled)\n",
    "\n",
    "pca_model = LogisticRegression()\n",
    "pca_model.fit(X_train_pca, y_train)\n",
    "print(\"PCA Model Score:\", pca_model.score(X_test_pca, y_test))"
   ]
  },
  {
   "cell_type": "markdown",
   "id": "ab494b35-2de3-4847-a873-3b82e33f6971",
   "metadata": {},
   "source": [
    "# Ensemble Methods"
   ]
  },
  {
   "cell_type": "code",
   "execution_count": 35,
   "id": "98907944-0fb3-4b27-ac1f-44fd69f07a0d",
   "metadata": {},
   "outputs": [
    {
     "name": "stdout",
     "output_type": "stream",
     "text": [
      "Random Forest Score: 0.9416666666666667\n",
      "Gradient Boosting Score: 0.9\n"
     ]
    }
   ],
   "source": [
    "from sklearn.ensemble import RandomForestClassifier, GradientBoostingClassifier\n",
    "\n",
    "rf = RandomForestClassifier(n_estimators=100, max_depth=5)\n",
    "rf.fit(X_train, y_train)\n",
    "print(\"Random Forest Score:\", rf.score(X_test, y_test))\n",
    "\n",
    "gb = GradientBoostingClassifier(n_estimators=100, learning_rate=0.1, max_depth=3)\n",
    "gb.fit(X_train, y_train)\n",
    "print(\"Gradient Boosting Score:\", gb.score(X_test, y_test))"
   ]
  },
  {
   "cell_type": "markdown",
   "id": "f1837a95-4fbe-4229-b07e-990f5d452d6a",
   "metadata": {},
   "source": [
    "**Summary Table**\n",
    "\n",
    "| Technique                | Prevents Overfitting by                    |\n",
    "| ------------------------ | ------------------------------------------ |\n",
    "| Cross Validation         | Reliable evaluation (reduces variance)     |\n",
    "| Regularization           | Shrinks coefficients to prevent complexity |\n",
    "| PCA                      | Removes irrelevant features                |\n",
    "| Random Forest / Boosting | Uses many weak learners                    |\n"
   ]
  },
  {
   "cell_type": "code",
   "execution_count": null,
   "id": "97364cf6-7f11-4ec2-aed7-02bf1c4ed562",
   "metadata": {},
   "outputs": [],
   "source": []
  }
 ],
 "metadata": {
  "kernelspec": {
   "display_name": "Python 3 (ipykernel)",
   "language": "python",
   "name": "python3"
  },
  "language_info": {
   "codemirror_mode": {
    "name": "ipython",
    "version": 3
   },
   "file_extension": ".py",
   "mimetype": "text/x-python",
   "name": "python",
   "nbconvert_exporter": "python",
   "pygments_lexer": "ipython3",
   "version": "3.13.5"
  }
 },
 "nbformat": 4,
 "nbformat_minor": 5
}
