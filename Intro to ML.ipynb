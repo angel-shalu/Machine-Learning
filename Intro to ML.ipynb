{
 "cells": [
  {
   "cell_type": "markdown",
   "id": "d815a80b-a2f1-4b3d-b4fb-78002c697fd4",
   "metadata": {},
   "source": [
    "**Introduction to Machine Learning (ML)**\n",
    "\n",
    "In this notebook, we explore the basics of ML through a simple example of Supervised Learning using Linear Regression.\n",
    "\n",
    "# What is Machine Learning?\n",
    "\n",
    "> **Machine Learning (ML)** is a subset of Artificial Intelligence (AI) that enables systems to learn patterns from data and make decisions without being explicitly programmed. Instead of writing rules manually, ML algorithms find patterns in data and use those patterns to make decisions or predictions.\n",
    "\n",
    "Machine Learning is used in many everyday applications like:\n",
    "\n",
    "- Email spam detection\n",
    "\n",
    "- Product recommendations\n",
    "\n",
    "- Voice assistants\n",
    "\n",
    "- Stock price prediction\n",
    "\n",
    "\n",
    "\n",
    "## **Traditional Programming vs Machine Learning**\n",
    "\n",
    "| Traditional Programming | Machine Learning                     |\n",
    "| ----------------------- | ------------------------------------ |\n",
    "| Input + Logic = Output  | Input + Output = Learn Logic (Model) |\n",
    "| Human-written rules     | Machine learns rules from data       |\n",
    "\n",
    "\n",
    "\n",
    "## **Structured vs Unstructured Data**\n",
    "\n",
    "| Structured Data                 | Unstructured Data             |\n",
    "| ------------------------------- | ----------------------------- |\n",
    "| Stored in Excel, CSV, Databases | Emails, Images, Videos, Audio |\n",
    "| Applied in ML                   | Used in Deep Learning or NLP  |\n",
    "\n",
    "\n",
    "\n",
    "## **Three Phases in ML Workflow**\n",
    "\n",
    "1. **Training Phase** – Learn from data\n",
    "2. **Validation Phase** – Tune model parameters\n",
    "3. **Testing Phase** – Evaluate model accuracy\n",
    "\n",
    "\n",
    "\n",
    "# **Types of Machine Learning**\n",
    "\n",
    "## Supervised Learning\n",
    "\n",
    "* **Regression** (predict numbers)\n",
    "* **Classification** (predict categories)"
   ]
  },
  {
   "cell_type": "code",
   "execution_count": 1,
   "id": "bfbe66fa-85cf-4c53-bff4-f5d3b7e5ca61",
   "metadata": {},
   "outputs": [
    {
     "name": "stdout",
     "output_type": "stream",
     "text": [
      "Test Inputs (X_test):\n",
      " [[2]\n",
      " [1]\n",
      " [4]\n",
      " [7]]\n",
      "Predicted Outputs:\n",
      " [ 4.  2.  8. 14.]\n",
      "Actual Outputs:\n",
      " [ 4  2  8 14]\n"
     ]
    }
   ],
   "source": [
    "# Example: Supervised Learning (Regression)\n",
    "\n",
    "from sklearn.linear_model import LinearRegression\n",
    "from sklearn.model_selection import train_test_split\n",
    "import numpy as np\n",
    "\n",
    "# Larger dataset\n",
    "X = np.array([[1], [2], [3], [4], [5], [6], [7], [8]])\n",
    "y = np.array([2, 4, 6, 8, 10, 12, 14, 16])  # y = 2 * x\n",
    "\n",
    "# Split into train and test\n",
    "X_train, X_test, y_train, y_test = train_test_split(X, y, test_size=0.4)\n",
    "\n",
    "# Train model\n",
    "model = LinearRegression()\n",
    "model.fit(X_train, y_train)\n",
    "\n",
    "# Predict\n",
    "prediction = model.predict(X_test)\n",
    "\n",
    "# Show results\n",
    "print(\"Test Inputs (X_test):\\n\", X_test)\n",
    "print(\"Predicted Outputs:\\n\", prediction)\n",
    "print(\"Actual Outputs:\\n\", y_test)"
   ]
  },
  {
   "cell_type": "markdown",
   "id": "ae327022-dd14-46a7-9faf-205762154f8b",
   "metadata": {},
   "source": [
    "## Unsupervised Learning\n",
    "* **Clustering** (e.g., K-Means)"
   ]
  },
  {
   "cell_type": "code",
   "execution_count": 2,
   "id": "adaf5ead-0ab2-4646-9137-84168615952a",
   "metadata": {},
   "outputs": [
    {
     "name": "stderr",
     "output_type": "stream",
     "text": [
      "C:\\Users\\Lenovo\\anaconda3\\Lib\\site-packages\\sklearn\\cluster\\_kmeans.py:1419: UserWarning: KMeans is known to have a memory leak on Windows with MKL, when there are less chunks than available threads. You can avoid it by setting the environment variable OMP_NUM_THREADS=1.\n",
      "  warnings.warn(\n"
     ]
    },
    {
     "data": {
      "image/png": "[encoded data removed]",
      "text/plain": [
       "<Figure size 640x480 with 1 Axes>"
      ]
     },
     "metadata": {},
     "output_type": "display_data"
    }
   ],
   "source": [
    "# Example: Unsupervised Learning (Clustering)\n",
    "from sklearn.cluster import KMeans\n",
    "import matplotlib.pyplot as plt\n",
    "\n",
    "X = np.array([[1, 2], [2, 3], [10, 12], [11, 14], [5, 5]])\n",
    "\n",
    "kmeans = KMeans(n_clusters=2)\n",
    "kmeans.fit(X)\n",
    "labels = kmeans.labels_\n",
    "\n",
    "plt.scatter(X[:, 0], X[:, 1], c=labels)\n",
    "plt.title(\"K-Means Clustering\")\n",
    "plt.show()"
   ]
  },
  {
   "cell_type": "markdown",
   "id": "f3cdcab5-c7a2-421a-a70d-25ae7f543fdc",
   "metadata": {},
   "source": [
    "#  **7 Steps of a Machine Learning Project**\n",
    "\n",
    "1. **Gather Data**\n",
    "2. **Prepare Data**\n",
    "3. **Choose Model**\n",
    "4. **Train Model**\n",
    "5. **Evaluate Model**\n",
    "6. **Tune Parameters (Hyperparameter Tuning)**\n",
    "7. **Make Predictions**\n"
   ]
  },
  {
   "cell_type": "markdown",
   "id": "938aedc5-112c-440f-bcd1-c69050b09588",
   "metadata": {},
   "source": [
    "# **Train-Test Split Example**"
   ]
  },
  {
   "cell_type": "code",
   "execution_count": 3,
   "id": "3d800cb4-1169-440d-a252-600881ae5c5b",
   "metadata": {},
   "outputs": [
    {
     "name": "stdout",
     "output_type": "stream",
     "text": [
      "Training X:\n",
      "    Hours\n",
      "4      5\n",
      "2      3\n",
      "3      4\n",
      "1      2\n",
      "Testing X:\n",
      "    Hours\n",
      "0      1\n"
     ]
    }
   ],
   "source": [
    "from sklearn.model_selection import train_test_split\n",
    "import pandas as pd\n",
    "\n",
    "# Example Dataset\n",
    "data = {'Hours': [1, 2, 3, 4, 5], 'Scores': [20, 40, 60, 80, 100]}\n",
    "df = pd.DataFrame(data)\n",
    "\n",
    "X = df[['Hours']]  # independent\n",
    "y = df['Scores']   # dependent\n",
    "\n",
    "X_train, X_test, y_train, y_test = train_test_split(X, y, test_size=0.2)\n",
    "\n",
    "print(\"Training X:\\n\", X_train)\n",
    "print(\"Testing X:\\n\", X_test)"
   ]
  },
  {
   "cell_type": "markdown",
   "id": "35b9d5a4-796a-4491-9512-7c388dee978a",
   "metadata": {},
   "source": [
    "# **Tools & IDEs for ML**\n",
    "\n",
    "| Tool                 | Use                                |\n",
    "| -------------------- | ---------------------------------- |\n",
    "| **Jupyter Notebook** | Data Analysis and Documentation    |\n",
    "| **VS Code**          | Powerful IDE for ML Model Building |\n",
    "| **Google Colab**     | Free Cloud Notebook                |\n",
    "\n",
    "\n",
    "\n",
    "# **Key Takeaways**\n",
    "\n",
    "* Machine Learning uses **data to learn logic** (rules)\n",
    "* Two main types: **Supervised** and **Unsupervised**\n",
    "* ML workflow involves **data prep, model training, and evaluation**\n",
    "* Tools like **scikit-learn**, **Pandas**, and **Matplotlib** help implement ML in Python\n"
   ]
  }
 ],
 "metadata": {
  "kernelspec": {
   "display_name": "Python 3",
   "language": "python",
   "name": "python3"
  },
  "language_info": {
   "codemirror_mode": {
    "name": "ipython",
    "version": 3
   },
   "file_extension": ".py",
   "mimetype": "text/x-python",
   "name": "python",
   "nbconvert_exporter": "python",
   "pygments_lexer": "ipython3",
   "version": "3.13.3"
  }
 },
 "nbformat": 4,
 "nbformat_minor": 5
}
