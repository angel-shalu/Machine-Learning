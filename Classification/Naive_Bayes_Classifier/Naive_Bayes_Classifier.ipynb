{
 "cells": [
  {
   "cell_type": "markdown",
   "id": "f7931593-e9f8-4c38-8095-d4212cd859b2",
   "metadata": {},
   "source": [
    "**Naive Bayes Classifier**"
   ]
  },
  {
   "cell_type": "markdown",
   "id": "ca88a448-9b76-4e4c-ab5b-5881641841c9",
   "metadata": {},
   "source": [
    "Naive Bayes is a family of **probabilistic classifiers** based on Bayes’ Theorem, with the \"naive\" assumption of conditional independence between features.\n",
    "\n",
    "It works surprisingly well for many real-world problems like spam detection, sentiment analysis, and recommendation systems.\n"
   ]
  },
  {
   "cell_type": "markdown",
   "id": "394443bc-589e-4e67-8d02-1b340f876639",
   "metadata": {},
   "source": [
    "**Bayes Theorem**\n",
    "\n",
    "Bayes' Theorem allows us to reverse conditional probabilities:\n",
    "\n",
    "P(A|B) = (P(B|A) * P(A)) / P(B)\n",
    "\n",
    "- **P(A|B)**: Posterior Probability (What we want to find)\n",
    "- **P(B|A)**: Likelihood\n",
    "- **P(A)**: Prior Probability\n",
    "- **P(B)**: Marginal Probability\n"
   ]
  },
  {
   "cell_type": "markdown",
   "id": "d737778d-a681-405a-b6a7-bc8203f90f17",
   "metadata": {},
   "source": [
    "**Types of Naive Bayes:**\n",
    "\n",
    "1. **GaussianNB** – works with continuous data, assumes Gaussian (normal) distribution.\n",
    "2. **BernoulliNB** – works with binary data (0/1 features).\n",
    "3. **MultinomialNB** – works with counts (e.g., word frequencies in NLP).\n"
   ]
  },
  {
   "cell_type": "markdown",
   "id": "05fb1e43-6d5a-4f25-bbe4-7316ad98e498",
   "metadata": {},
   "source": [
    "**Real-Life Examples**\n",
    "\n",
    "- Booking Sites: \"80% seats sold out\" → Predict urgency using probabilities\n",
    "- Emails: Classify as spam or not based on keywords\n",
    "- Sentiment Analysis: Based on word distribution, classify a review as positive or negative\n"
   ]
  },
  {
   "cell_type": "markdown",
   "id": "f1aa2386-d925-4ea5-b3da-4d7408183fea",
   "metadata": {},
   "source": [
    "**Real-Life Example: Manual Naive Bayes Calculation – Spam Classification**\n",
    "\n",
    "**Problem:**\n",
    "  \n",
    "We want to classify whether a new email is **Spam** or **Not Spam** based on whether it contains the words `\"offer\"` and `\"win\"`.\n",
    "\n",
    "\n",
    "**Step 1: Training Data**\n",
    "\n",
    "| Email ID | offer | win | Class     |\n",
    "|----------|-------|-----|-----------|\n",
    "| E1       | 1     | 1   | Spam      |\n",
    "| E2       | 1     | 0   | Spam      |\n",
    "| E3       | 0     | 1   | Not Spam  |\n",
    "| E4       | 0     | 0   | Not Spam  |\n",
    "| E5       | 1     | 1   | Spam      |\n",
    "\n",
    "**Step 2: New Email to Predict**\n",
    "\n",
    "- The email contains both **\"offer\"** and **\"win\"**\n",
    "- Features: offer = 1, win = 1\n",
    "\n",
    "**We calculate:**\n",
    "\n",
    "- P(Spam | offer=1, win=1)\n",
    "- P(Not Spam | offer=1, win=1)\n",
    "\n",
    "\n",
    "\n",
    "**Step 3: Naive Bayes Components**\n",
    "\n",
    "**Prior Probabilities**\n",
    " \n",
    "- P(Spam) = 3/5 = 0.6  \n",
    "- P(Not Spam) = 2/5 = 0.4\n",
    "\n",
    "**Likelihoods**\n",
    "\n",
    "**Among Spam emails (3 total):**\n",
    "- P(offer=1 | Spam) = 3/3 = 1.0  \n",
    "- P(win=1 | Spam) = 2/3 ≈ 0.67\n",
    "\n",
    "**Among Not Spam emails (2 total):**\n",
    "\n",
    "- P(offer=1 | Not Spam) = 0/2 = 0  \n",
    "- P(win=1 | Not Spam) = 1/2 = 0.5\n",
    "\n",
    "**Step 4: Naive Bayes Formula (Ignoring denominator):**\n",
    "\n",
    "P(Spam | offer=1, win=1) ∝\n",
    "P(offer=1 | Spam) × P(win=1 | Spam) × P(Spam)  \n",
    "= 1.0 × 0.67 × 0.6 = **0.402**\n",
    "\n",
    "No P(Not Spam | offer=1, win=1) ∝  \n",
    "= 0 × 0.5 × 0.4 = **0**\n",
    "\n",
    "**Final Prediction:**\n",
    "\n",
    "Since **0.402 > 0**, the email is predicted to be **SPAM**.\n",
    "\n",
    "\n",
    "\n",
    "**Note:** Laplace Smoothing (Bonus)\n",
    "\n",
    "To avoid zero probabilities:\n",
    "- P(offer=1 | Not Spam) = (0 + 1) / (2 + 2) = 0.25\n",
    "\n",
    "Smoothing avoids multiplying by 0 and improves model stability.\n"
   ]
  },
  {
   "cell_type": "markdown",
   "id": "bde3de18-cda4-4c5c-a2d0-7ef191c5c98c",
   "metadata": {},
   "source": [
    "# Importing Libraries"
   ]
  },
  {
   "cell_type": "code",
   "execution_count": 2,
   "id": "a282b5e6-650a-489b-9b86-153d900be66b",
   "metadata": {},
   "outputs": [],
   "source": [
    "import pandas as pd\n",
    "import numpy as np\n",
    "from sklearn.model_selection import train_test_split\n",
    "from sklearn.preprocessing import StandardScaler, MinMaxScaler\n",
    "from sklearn.naive_bayes import GaussianNB, BernoulliNB, MultinomialNB\n",
    "from sklearn.metrics import accuracy_score, confusion_matrix, classification_report\n",
    "import warnings\n",
    "warnings.filterwarnings('ignore')"
   ]
  },
  {
   "cell_type": "markdown",
   "id": "9f512423-27c8-4fc8-a59d-278a87defbb7",
   "metadata": {},
   "source": [
    "# Load and Explore Dataset"
   ]
  },
  {
   "cell_type": "code",
   "execution_count": 3,
   "id": "1af444f8-6185-4bf1-9727-91dbfa19df74",
   "metadata": {},
   "outputs": [
    {
     "data": {
      "text/html": [
       "<div>\n",
       "<style scoped>\n",
       "    .dataframe tbody tr th:only-of-type {\n",
       "        vertical-align: middle;\n",
       "    }\n",
       "\n",
       "    .dataframe tbody tr th {\n",
       "        vertical-align: top;\n",
       "    }\n",
       "\n",
       "    .dataframe thead th {\n",
       "        text-align: right;\n",
       "    }\n",
       "</style>\n",
       "<table border=\"1\" class=\"dataframe\">\n",
       "  <thead>\n",
       "    <tr style=\"text-align: right;\">\n",
       "      <th></th>\n",
       "      <th>User ID</th>\n",
       "      <th>Gender</th>\n",
       "      <th>Age</th>\n",
       "      <th>EstimatedSalary</th>\n",
       "      <th>Purchased</th>\n",
       "    </tr>\n",
       "  </thead>\n",
       "  <tbody>\n",
       "    <tr>\n",
       "      <th>0</th>\n",
       "      <td>15624510</td>\n",
       "      <td>Male</td>\n",
       "      <td>19</td>\n",
       "      <td>19000</td>\n",
       "      <td>0</td>\n",
       "    </tr>\n",
       "    <tr>\n",
       "      <th>1</th>\n",
       "      <td>15810944</td>\n",
       "      <td>Male</td>\n",
       "      <td>35</td>\n",
       "      <td>20000</td>\n",
       "      <td>0</td>\n",
       "    </tr>\n",
       "    <tr>\n",
       "      <th>2</th>\n",
       "      <td>15668575</td>\n",
       "      <td>Female</td>\n",
       "      <td>26</td>\n",
       "      <td>43000</td>\n",
       "      <td>0</td>\n",
       "    </tr>\n",
       "    <tr>\n",
       "      <th>3</th>\n",
       "      <td>15603246</td>\n",
       "      <td>Female</td>\n",
       "      <td>27</td>\n",
       "      <td>57000</td>\n",
       "      <td>0</td>\n",
       "    </tr>\n",
       "    <tr>\n",
       "      <th>4</th>\n",
       "      <td>15804002</td>\n",
       "      <td>Male</td>\n",
       "      <td>19</td>\n",
       "      <td>76000</td>\n",
       "      <td>0</td>\n",
       "    </tr>\n",
       "  </tbody>\n",
       "</table>\n",
       "</div>"
      ],
      "text/plain": [
       "    User ID  Gender  Age  EstimatedSalary  Purchased\n",
       "0  15624510    Male   19            19000          0\n",
       "1  15810944    Male   35            20000          0\n",
       "2  15668575  Female   26            43000          0\n",
       "3  15603246  Female   27            57000          0\n",
       "4  15804002    Male   19            76000          0"
      ]
     },
     "execution_count": 3,
     "metadata": {},
     "output_type": "execute_result"
    }
   ],
   "source": [
    "# Load dataset\n",
    "dataset = pd.read_csv(r\"C:\\Users\\Lenovo\\Downloads\\logit classification.csv\")\n",
    "dataset.head()"
   ]
  },
  {
   "cell_type": "markdown",
   "id": "fe8f667b-34de-4b32-a78b-c76303f9b9d7",
   "metadata": {},
   "source": [
    "# Feature Selection and Splitting"
   ]
  },
  {
   "cell_type": "code",
   "execution_count": 4,
   "id": "d4789b60-91f3-4363-b0a0-96a5d03186e3",
   "metadata": {},
   "outputs": [],
   "source": [
    "X = dataset[[\"Age\", \"EstimatedSalary\"]].values\n",
    "y = dataset[\"Purchased\"].values\n",
    "\n",
    "X_train, X_test, y_train, y_test = train_test_split(X, y, test_size=0.2, random_state=42)"
   ]
  },
  {
   "cell_type": "markdown",
   "id": "e17de8c7-f5ae-4742-bfdb-b58b20d93a59",
   "metadata": {},
   "source": [
    "# Feature Scaling"
   ]
  },
  {
   "cell_type": "markdown",
   "id": "0ae2ab9a-bed3-41df-bd26-3ee41748d92a",
   "metadata": {},
   "source": [
    "## Standardization (for Gaussian & Bernoulli)"
   ]
  },
  {
   "cell_type": "code",
   "execution_count": 5,
   "id": "34db15b2-b774-4c35-afe4-8262af0f7368",
   "metadata": {},
   "outputs": [],
   "source": [
    "# Standardization (for Gaussian & Bernoulli)\n",
    "scaler = StandardScaler()\n",
    "X_train_scaled = scaler.fit_transform(X_train)\n",
    "X_test_scaled = scaler.transform(X_test)"
   ]
  },
  {
   "cell_type": "markdown",
   "id": "f948f699-5e49-47d3-b485-94c82b6f2ce3",
   "metadata": {},
   "source": [
    "##  MinMax Scaling (for MultinomialNB)"
   ]
  },
  {
   "cell_type": "code",
   "execution_count": 6,
   "id": "cdc5c8ad-3f1a-4676-a3e4-36641b5adaae",
   "metadata": {},
   "outputs": [],
   "source": [
    "minmax = MinMaxScaler()\n",
    "X_train_minmax = minmax.fit_transform(X_train)\n",
    "X_test_minmax = minmax.transform(X_test)"
   ]
  },
  {
   "cell_type": "markdown",
   "id": "7e7497e3-de3d-4c5b-bf63-a997b0486dad",
   "metadata": {},
   "source": [
    "# Model Training and Evaluation\n",
    "## GaussianNB"
   ]
  },
  {
   "cell_type": "code",
   "execution_count": 7,
   "id": "bb9465f9-dd2d-44f4-9504-5b905277109a",
   "metadata": {},
   "outputs": [
    {
     "name": "stdout",
     "output_type": "stream",
     "text": [
      "=== GaussianNB ===\n",
      "Accuracy: 0.925\n",
      "[[50  2]\n",
      " [ 4 24]]\n",
      "              precision    recall  f1-score   support\n",
      "\n",
      "           0       0.93      0.96      0.94        52\n",
      "           1       0.92      0.86      0.89        28\n",
      "\n",
      "    accuracy                           0.93        80\n",
      "   macro avg       0.92      0.91      0.92        80\n",
      "weighted avg       0.92      0.93      0.92        80\n",
      "\n"
     ]
    }
   ],
   "source": [
    "print(\"=== GaussianNB ===\")\n",
    "gnb = GaussianNB()\n",
    "gnb.fit(X_train, y_train)\n",
    "y_pred_gnb = gnb.predict(X_test)\n",
    "print(\"Accuracy:\", accuracy_score(y_test, y_pred_gnb))\n",
    "print(confusion_matrix(y_test, y_pred_gnb))\n",
    "print(classification_report(y_test, y_pred_gnb))"
   ]
  },
  {
   "cell_type": "markdown",
   "id": "b56d78ea-1004-4883-97fa-f13807b49c35",
   "metadata": {},
   "source": [
    "## BernoulliNB"
   ]
  },
  {
   "cell_type": "code",
   "execution_count": 8,
   "id": "1b25d288-9dbf-41f9-971f-7e67a9221e18",
   "metadata": {},
   "outputs": [
    {
     "name": "stdout",
     "output_type": "stream",
     "text": [
      "=== BernoulliNB ===\n",
      "Accuracy: 0.7875\n",
      "[[49  3]\n",
      " [14 14]]\n",
      "              precision    recall  f1-score   support\n",
      "\n",
      "           0       0.78      0.94      0.85        52\n",
      "           1       0.82      0.50      0.62        28\n",
      "\n",
      "    accuracy                           0.79        80\n",
      "   macro avg       0.80      0.72      0.74        80\n",
      "weighted avg       0.79      0.79      0.77        80\n",
      "\n"
     ]
    }
   ],
   "source": [
    "print(\"=== BernoulliNB ===\")\n",
    "bnb = BernoulliNB()\n",
    "bnb.fit(X_train_scaled, y_train)\n",
    "y_pred_bnb = bnb.predict(X_test_scaled)\n",
    "print(\"Accuracy:\", accuracy_score(y_test, y_pred_bnb))\n",
    "print(confusion_matrix(y_test, y_pred_bnb))\n",
    "print(classification_report(y_test, y_pred_bnb))"
   ]
  },
  {
   "cell_type": "markdown",
   "id": "13c36033-903c-4314-a390-983ff9b0c746",
   "metadata": {},
   "source": [
    "## MultinomialNB"
   ]
  },
  {
   "cell_type": "code",
   "execution_count": 9,
   "id": "b6152fb1-5df6-42a8-9fd0-9c555abf401e",
   "metadata": {},
   "outputs": [
    {
     "name": "stdout",
     "output_type": "stream",
     "text": [
      "=== MultinomialNB ===\n",
      "Accuracy: 0.65\n",
      "[[52  0]\n",
      " [28  0]]\n",
      "              precision    recall  f1-score   support\n",
      "\n",
      "           0       0.65      1.00      0.79        52\n",
      "           1       0.00      0.00      0.00        28\n",
      "\n",
      "    accuracy                           0.65        80\n",
      "   macro avg       0.33      0.50      0.39        80\n",
      "weighted avg       0.42      0.65      0.51        80\n",
      "\n"
     ]
    }
   ],
   "source": [
    "print(\"=== MultinomialNB ===\")\n",
    "mnb = MultinomialNB()\n",
    "mnb.fit(X_train_minmax, y_train)\n",
    "y_pred_mnb = mnb.predict(X_test_minmax)\n",
    "print(\"Accuracy:\", accuracy_score(y_test, y_pred_mnb))\n",
    "print(confusion_matrix(y_test, y_pred_mnb))\n",
    "print(classification_report(y_test, y_pred_mnb))"
   ]
  },
  {
   "cell_type": "markdown",
   "id": "4c86ca11-6656-4da3-b8c9-0858ef1852be",
   "metadata": {},
   "source": [
    "# Observations"
   ]
  },
  {
   "cell_type": "markdown",
   "id": "132e6eb8-2dc9-4004-ac9d-f01af562cd78",
   "metadata": {},
   "source": [
    "\n",
    "\n",
    "- **GaussianNB** works best for continuous data like Age and Salary.\n",
    "- **BernoulliNB** assumes binary features — accuracy may be lower here.\n",
    "- **MultinomialNB** requires positive features — MinMaxScaler helps here.\n",
    "\n",
    "Always choose the right NB variant depending on the feature types in your dataset\n"
   ]
  },
  {
   "cell_type": "markdown",
   "id": "6411a431-a362-4d47-bcf9-b3193c8d0956",
   "metadata": {},
   "source": [
    "# Summary: Naive Bayes Classifiers\n",
    "\n",
    "In this notebook, we explored and implemented three types of Naive Bayes algorithms:\n",
    "\n",
    "## GaussianNB\n",
    "\n",
    "- Best suited for continuous features like **Age** and **Salary**\n",
    "- Achieved **92.5% accuracy**\n",
    "- Provided a balanced performance with high precision and recall\n",
    "- **Recommended for this dataset**\n",
    "\n",
    "## BernoulliNB\n",
    "    \n",
    "- Designed for **binary features** (0 or 1)\n",
    "- Achieved **78.75% accuracy**\n",
    "- Performed well for class 0, but poorly for class 1\n",
    "- **Not ideal** for this type of dataset\n",
    "\n",
    "## MultinomialNB\n",
    "                                        \n",
    "- Designed for **count-based features** (e.g., word frequencies)\n",
    "- Achieved **65% accuracy**\n",
    "- Completely failed to predict class 1\n",
    "- **Not suitable** for continuous features\n",
    "\n",
    "\n",
    "\n",
    "## Key Takeaways\n",
    "                                        \n",
    "- Naive Bayes is a **fast and simple** algorithm with solid performance for classification tasks.\n",
    "- Choosing the **right variant (Gaussian, Bernoulli, Multinomial)** is critical based on your feature types.\n",
    "- Always consider **scaling**, especially for BernoulliNB and GaussianNB, to improve performance.\n",
    "- **GaussianNB** gave the best results in our case due to the nature of our numerical features.\n",
    "\n",
    "\n",
    "\n",
    "## Real-Life Tip:\n",
    "                                                                        \n",
    "Naive Bayes is commonly used in **spam detection, recommendation systems, and text classification**. Even though it makes strong independence assumptions, it performs surprisingly well in many real-world situations.\n",
    "\n"
   ]
  }
 ],
 "metadata": {
  "kernelspec": {
   "display_name": "Python 3 (ipykernel)",
   "language": "python",
   "name": "python3"
  },
  "language_info": {
   "codemirror_mode": {
    "name": "ipython",
    "version": 3
   },
   "file_extension": ".py",
   "mimetype": "text/x-python",
   "name": "python",
   "nbconvert_exporter": "python",
   "pygments_lexer": "ipython3",
   "version": "3.13.5"
  }
 },
 "nbformat": 4,
 "nbformat_minor": 5
}
