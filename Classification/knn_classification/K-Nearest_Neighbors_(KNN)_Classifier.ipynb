{
 "cells": [
  {
   "cell_type": "markdown",
   "id": "4cdfb75c-88f0-4796-8995-9ea83926c66a",
   "metadata": {},
   "source": [
    "**Introduction**\n",
    "\n",
    "K-Nearest Neighbors (KNN) is a simple and powerful machine learning algorithm used for **classification** and **regression**. \n",
    "It works by finding the **'k' closest data points** to a new input and making predictions based on them.\n",
    "\n",
    "**There are two types of KNN:**\n",
    "\n",
    "- **KNN Classifier**: Assigns the class that most of the nearest neighbors belong to (majority voting).\n",
    "- **KNN Regressor**: Predicts a value by averaging the values of the nearest neighbors.\n",
    "\n",
    " **Distance Metrics in KNN**\n",
    " \n",
    "- **Euclidean Distance (p=2)**: Straight-line distance between two points in space, calculated as:\n",
    "  $$ \\text{Euclidean} = \\sqrt{\\sum (x_i - y_i)^2} $$\n",
    "- **Manhattan Distance (p=1)**: Distance measured along axes at right angles (like a grid):\n",
    "  $$ \\text{Manhattan} = \\sum |x_i - y_i| $$\n",
    "\n",
    "Both methods measure \"closeness,\" and the best choice depends on your data's shape and scale.\n",
    "\n",
    "\n",
    "**Scaling is Important**: Always apply scaling (like StandardScaler) to ensure all features are treated equally in distance calculations.\n",
    "\n",
    "**Balancing Imbalanced Data**\n",
    "If your dataset has 99% of one class and 1% of another, your model may become biased.\n",
    "\n",
    "- **Case 1 (Model 1)**: Downsample the majority class to 70%, increase minority samples → Accuracy: a1\n",
    "- **Case 2 (Model 2)**: 75% downsample + 25% upsample → Accuracy: a2\n",
    "- **Case 3 (Model 3)**: 80% downsample + 20% upsample → Accuracy: a3\n",
    "- Final balanced model = (a1 + a2 + a3) / 3\n",
    "\n",
    "This process is known as **SMOTE** – Synthetic Minority Over-sampling Technique.\n",
    "\n",
    "\n",
    "\n",
    "**How KNN Works**\n",
    "\n",
    "1. Choose the number of neighbors **k**.\n",
    "2. Calculate the distance between the new data point and every other point in the dataset.\n",
    "3. Sort the distances and choose the top **k** nearest neighbors.\n",
    "4. For **classification**, return the most common class.\n",
    "5. For **regression**, return the average of their values.\n"
   ]
  },
  {
   "cell_type": "markdown",
   "id": "cfc6e8dc-0c5a-4e21-98b7-51ed123e7466",
   "metadata": {},
   "source": [
    "**Manual Example (Math + CS Marks)**\n",
    "                  \n",
    "We want to predict the result (pass/fail) of a student with:\n",
    "- **Math = 6**, **CS = 8** using **K = 3**\n",
    "\n",
    "| Math | CS | Result |\n",
    "|------|----|--------|\n",
    "| 4    | 3  | F      |\n",
    "| 6    | 7  | P      |\n",
    "| 7    | 8  | P      |\n",
    "| 5    | 5  | F      |\n",
    "| 8    | 8  | P      |\n",
    "\n",
    "We'll use **Euclidean distance**:\n"
   ]
  },
  {
   "cell_type": "code",
   "execution_count": 2,
   "id": "d621c23e-c96a-444d-8873-d0936be67536",
   "metadata": {},
   "outputs": [],
   "source": [
    "import numpy as np\n",
    "from collections import Counter\n",
    "\n",
    "samples = np.array([[4,3],[6,7],[7,8],[5,5],[8,8]])\n",
    "labels = np.array(['f','p','p','f','p'])\n",
    "new_point = np.array([6,8])"
   ]
  },
  {
   "cell_type": "code",
   "execution_count": 3,
   "id": "e07eb934-9503-4940-a271-cf63793dd4fb",
   "metadata": {},
   "outputs": [],
   "source": [
    "# Step 1: Compute distances\n",
    "distances = [np.sqrt(((new_point - pt)**2).sum()) for pt in samples]"
   ]
  },
  {
   "cell_type": "code",
   "execution_count": 4,
   "id": "b8ed5546-0400-47b7-8d75-be269b4b898c",
   "metadata": {},
   "outputs": [
    {
     "name": "stdout",
     "output_type": "stream",
     "text": [
      "Distance to [4 3] (label=f): 5.39\n",
      "Distance to [6 7] (label=p): 1.00\n",
      "Distance to [7 8] (label=p): 1.00\n",
      "Distance to [5 5] (label=f): 3.16\n",
      "Distance to [8 8] (label=p): 2.00\n"
     ]
    }
   ],
   "source": [
    "# Step 2: Show distances\n",
    "for i, d in enumerate(distances):\n",
    "    print(f\"Distance to {samples[i]} (label={labels[i]}): {d:.2f}\")"
   ]
  },
  {
   "cell_type": "code",
   "execution_count": 5,
   "id": "95f10528-f24a-4fac-82bb-39ce5b32b2cb",
   "metadata": {},
   "outputs": [
    {
     "name": "stdout",
     "output_type": "stream",
     "text": [
      "\n",
      "Top 3 Nearest Labels: ['p' 'p' 'p']\n"
     ]
    }
   ],
   "source": [
    "# Step 3: Top 3 Neighbors\n",
    "sorted_idx = np.argsort(distances)[:3]\n",
    "nearest_labels = labels[sorted_idx]\n",
    "print(\"\\nTop 3 Nearest Labels:\", nearest_labels)"
   ]
  },
  {
   "cell_type": "code",
   "execution_count": 6,
   "id": "3f15fe8b-3a73-4882-a0d8-10f6454bfe35",
   "metadata": {},
   "outputs": [
    {
     "name": "stdout",
     "output_type": "stream",
     "text": [
      "Predicted class: p\n"
     ]
    }
   ],
   "source": [
    "# Step 4: Predict by majority\n",
    "print(\"Predicted class:\", Counter(nearest_labels).most_common(1)[0][0])"
   ]
  },
  {
   "cell_type": "markdown",
   "id": "8cda4e3b-42b7-4b71-9707-2431f70a814e",
   "metadata": {},
   "source": [
    "# Import Required Libraries"
   ]
  },
  {
   "cell_type": "code",
   "execution_count": 7,
   "id": "75b9cff8-f6c3-485e-b061-f77b9c094b77",
   "metadata": {},
   "outputs": [],
   "source": [
    "import pandas as pd\n",
    "import numpy as np\n",
    "from sklearn.neighbors import KNeighborsClassifier\n",
    "from sklearn.linear_model import LogisticRegression\n",
    "from sklearn.preprocessing import StandardScaler\n",
    "from sklearn.model_selection import train_test_split\n",
    "from sklearn.metrics import accuracy_score, confusion_matrix\n",
    "import warnings\n",
    "warnings.filterwarnings('ignore')"
   ]
  },
  {
   "cell_type": "markdown",
   "id": "ef5dea6a-7e9f-4449-abfc-1f604c4fdf34",
   "metadata": {},
   "source": [
    "# Load Dataset "
   ]
  },
  {
   "cell_type": "code",
   "execution_count": 8,
   "id": "195c5f8a-cc2d-4060-bb6a-ed7c5efbaadc",
   "metadata": {},
   "outputs": [
    {
     "data": {
      "text/html": [
       "<div>\n",
       "<style scoped>\n",
       "    .dataframe tbody tr th:only-of-type {\n",
       "        vertical-align: middle;\n",
       "    }\n",
       "\n",
       "    .dataframe tbody tr th {\n",
       "        vertical-align: top;\n",
       "    }\n",
       "\n",
       "    .dataframe thead th {\n",
       "        text-align: right;\n",
       "    }\n",
       "</style>\n",
       "<table border=\"1\" class=\"dataframe\">\n",
       "  <thead>\n",
       "    <tr style=\"text-align: right;\">\n",
       "      <th></th>\n",
       "      <th>User ID</th>\n",
       "      <th>Gender</th>\n",
       "      <th>Age</th>\n",
       "      <th>EstimatedSalary</th>\n",
       "      <th>Purchased</th>\n",
       "    </tr>\n",
       "  </thead>\n",
       "  <tbody>\n",
       "    <tr>\n",
       "      <th>0</th>\n",
       "      <td>15624510</td>\n",
       "      <td>Male</td>\n",
       "      <td>19</td>\n",
       "      <td>19000</td>\n",
       "      <td>0</td>\n",
       "    </tr>\n",
       "    <tr>\n",
       "      <th>1</th>\n",
       "      <td>15810944</td>\n",
       "      <td>Male</td>\n",
       "      <td>35</td>\n",
       "      <td>20000</td>\n",
       "      <td>0</td>\n",
       "    </tr>\n",
       "    <tr>\n",
       "      <th>2</th>\n",
       "      <td>15668575</td>\n",
       "      <td>Female</td>\n",
       "      <td>26</td>\n",
       "      <td>43000</td>\n",
       "      <td>0</td>\n",
       "    </tr>\n",
       "    <tr>\n",
       "      <th>3</th>\n",
       "      <td>15603246</td>\n",
       "      <td>Female</td>\n",
       "      <td>27</td>\n",
       "      <td>57000</td>\n",
       "      <td>0</td>\n",
       "    </tr>\n",
       "    <tr>\n",
       "      <th>4</th>\n",
       "      <td>15804002</td>\n",
       "      <td>Male</td>\n",
       "      <td>19</td>\n",
       "      <td>76000</td>\n",
       "      <td>0</td>\n",
       "    </tr>\n",
       "  </tbody>\n",
       "</table>\n",
       "</div>"
      ],
      "text/plain": [
       "    User ID  Gender  Age  EstimatedSalary  Purchased\n",
       "0  15624510    Male   19            19000          0\n",
       "1  15810944    Male   35            20000          0\n",
       "2  15668575  Female   26            43000          0\n",
       "3  15603246  Female   27            57000          0\n",
       "4  15804002    Male   19            76000          0"
      ]
     },
     "execution_count": 8,
     "metadata": {},
     "output_type": "execute_result"
    }
   ],
   "source": [
    "dataset = pd.read_csv(r\"C:\\Users\\Lenovo\\Downloads\\logit classification.csv\")  # Adjust path as needed\n",
    "dataset.head()\n"
   ]
  },
  {
   "cell_type": "markdown",
   "id": "15226b38-1203-4393-8eab-7b6c9009922c",
   "metadata": {},
   "source": [
    "#  Feature Selection"
   ]
  },
  {
   "cell_type": "code",
   "execution_count": 9,
   "id": "fd4d147f-cde4-4028-bc3f-ffbe8310289a",
   "metadata": {},
   "outputs": [],
   "source": [
    "X = dataset[[\"Age\", \"EstimatedSalary\"]].values\n",
    "y = dataset[\"Purchased\"].values"
   ]
  },
  {
   "cell_type": "markdown",
   "id": "94510867-58f4-484b-909e-bd2de3c029c2",
   "metadata": {},
   "source": [
    "# Train-Test Split"
   ]
  },
  {
   "cell_type": "code",
   "execution_count": 10,
   "id": "04130e5a-88b5-4bab-b35a-fb3e793f0a98",
   "metadata": {},
   "outputs": [],
   "source": [
    "X_train, X_test, y_train, y_test = train_test_split(X, y, test_size=0.25, random_state=0)"
   ]
  },
  {
   "cell_type": "markdown",
   "id": "8211c8a2-5be3-41a5-ba6d-afdbddaebd1b",
   "metadata": {},
   "source": [
    "# Apply StandardScaler"
   ]
  },
  {
   "cell_type": "code",
   "execution_count": 11,
   "id": "cb2d2e05-abd8-4edc-94c9-d5c2ec60e3d2",
   "metadata": {},
   "outputs": [],
   "source": [
    "scaler = StandardScaler()\n",
    "X_train_scaled = scaler.fit_transform(X_train)\n",
    "X_test_scaled = scaler.transform(X_test)"
   ]
  },
  {
   "cell_type": "markdown",
   "id": "b2d6093c-996d-4038-b8c0-b357157e13ca",
   "metadata": {},
   "source": [
    "# Try KNN with different parameters (one by one for beginners)"
   ]
  },
  {
   "cell_type": "markdown",
   "id": "bb396a81-1e81-445f-ac15-a63d451f2813",
   "metadata": {},
   "source": [
    "## Model A: k=3, p=1 (Manhattan)"
   ]
  },
  {
   "cell_type": "code",
   "execution_count": 12,
   "id": "4cd54ac4-5267-4d8d-a479-e0cae306578f",
   "metadata": {},
   "outputs": [
    {
     "name": "stdout",
     "output_type": "stream",
     "text": [
      "Model A - k=3, p=1 (Manhattan): 0.93\n"
     ]
    }
   ],
   "source": [
    "# Model A: k=3, p=1 (Manhattan)\n",
    "model_a = KNeighborsClassifier(n_neighbors=3, p=1)\n",
    "model_a.fit(X_train_scaled, y_train)\n",
    "y_pred_a = model_a.predict(X_test_scaled)\n",
    "print(\"Model A - k=3, p=1 (Manhattan):\", accuracy_score(y_test, y_pred_a))"
   ]
  },
  {
   "cell_type": "markdown",
   "id": "94687243-b190-4ac4-bcd7-5679bd993b34",
   "metadata": {},
   "source": [
    "## Model B: k=3, p=2 (Euclidean)"
   ]
  },
  {
   "cell_type": "code",
   "execution_count": 13,
   "id": "8a8ec046-f4c5-4d7e-aaca-bc5c56566cb1",
   "metadata": {},
   "outputs": [
    {
     "name": "stdout",
     "output_type": "stream",
     "text": [
      "Model B - k=3, p=2 (Euclidean): 0.93\n"
     ]
    }
   ],
   "source": [
    "# Model B: k=3, p=2 (Euclidean)\n",
    "model_b = KNeighborsClassifier(n_neighbors=3, p=2)\n",
    "model_b.fit(X_train_scaled, y_train)\n",
    "y_pred_b = model_b.predict(X_test_scaled)\n",
    "print(\"Model B - k=3, p=2 (Euclidean):\", accuracy_score(y_test, y_pred_b))"
   ]
  },
  {
   "cell_type": "markdown",
   "id": "e6701ce4-06b5-496b-afdb-b522df58a0c6",
   "metadata": {},
   "source": [
    "## Model C: k=4, p=1 (Manhattan)"
   ]
  },
  {
   "cell_type": "code",
   "execution_count": 14,
   "id": "6fcf6544-2b92-4bcc-8082-0d9324c806ad",
   "metadata": {},
   "outputs": [
    {
     "name": "stdout",
     "output_type": "stream",
     "text": [
      "Model C - k=4, p=1 (Manhattan): 0.93\n"
     ]
    }
   ],
   "source": [
    "# Model C: k=4, p=1 (Manhattan)\n",
    "model_c = KNeighborsClassifier(n_neighbors=4, p=1)\n",
    "model_c.fit(X_train_scaled, y_train)\n",
    "y_pred_c = model_c.predict(X_test_scaled)\n",
    "print(\"Model C - k=4, p=1 (Manhattan):\", accuracy_score(y_test, y_pred_c))"
   ]
  },
  {
   "cell_type": "markdown",
   "id": "8913862e-b706-44db-9286-4846476563ab",
   "metadata": {},
   "source": [
    "## Model D: k=4, p=2 (Euclidean)"
   ]
  },
  {
   "cell_type": "code",
   "execution_count": 15,
   "id": "6a1f9ae5-a335-4c51-942f-2d7897d7922a",
   "metadata": {},
   "outputs": [
    {
     "name": "stdout",
     "output_type": "stream",
     "text": [
      "Model D - k=4, p=2 (Euclidean): 0.92\n"
     ]
    }
   ],
   "source": [
    "# Model D: k=4, p=2 (Euclidean)\n",
    "model_d = KNeighborsClassifier(n_neighbors=4, p=2)\n",
    "model_d.fit(X_train_scaled, y_train)\n",
    "y_pred_d = model_d.predict(X_test_scaled)\n",
    "print(\"Model D - k=4, p=2 (Euclidean):\", accuracy_score(y_test, y_pred_d))"
   ]
  },
  {
   "cell_type": "markdown",
   "id": "7db29671-9c6e-4c2a-a51e-22f33cfa5677",
   "metadata": {},
   "source": [
    "## Model E: k=5, p=1 (Manhattan)"
   ]
  },
  {
   "cell_type": "code",
   "execution_count": 16,
   "id": "ee0a72c6-5876-4c5f-95ff-3c19b86fa968",
   "metadata": {},
   "outputs": [
    {
     "name": "stdout",
     "output_type": "stream",
     "text": [
      "Model E - k=5, p=1 (Manhattan): 0.93\n"
     ]
    }
   ],
   "source": [
    "# Model E: k=5, p=1 (Manhattan)\n",
    "model_e = KNeighborsClassifier(n_neighbors=5, p=1)\n",
    "model_e.fit(X_train_scaled, y_train)\n",
    "y_pred_e = model_e.predict(X_test_scaled)\n",
    "print(\"Model E - k=5, p=1 (Manhattan):\", accuracy_score(y_test, y_pred_e))"
   ]
  },
  {
   "cell_type": "markdown",
   "id": "a4873c94-6332-4e44-a2d0-7503d551efd0",
   "metadata": {},
   "source": [
    "## Model F: k=5, p=2 (Euclidean)"
   ]
  },
  {
   "cell_type": "code",
   "execution_count": 17,
   "id": "1fcd18e7-8e0f-439b-ab2b-95127785bf93",
   "metadata": {},
   "outputs": [
    {
     "name": "stdout",
     "output_type": "stream",
     "text": [
      "Model F - k=5, p=2 (Euclidean): 0.93\n"
     ]
    }
   ],
   "source": [
    "# Model F: k=5, p=2 (Euclidean)\n",
    "model_f = KNeighborsClassifier(n_neighbors=5, p=2)\n",
    "model_f.fit(X_train_scaled, y_train)\n",
    "y_pred_f = model_f.predict(X_test_scaled)\n",
    "print(\"Model F - k=5, p=2 (Euclidean):\", accuracy_score(y_test, y_pred_f))"
   ]
  },
  {
   "cell_type": "markdown",
   "id": "1d47d92f-c6e5-486f-b427-b73b2431715f",
   "metadata": {},
   "source": [
    "# Without scaling"
   ]
  },
  {
   "cell_type": "code",
   "execution_count": 18,
   "id": "41f6d4f8-f248-4852-99cf-60ca0d9c7b12",
   "metadata": {},
   "outputs": [
    {
     "name": "stdout",
     "output_type": "stream",
     "text": [
      "\n",
      "Accuracy without scaling: 0.81\n"
     ]
    }
   ],
   "source": [
    "# Without scaling\n",
    "model_raw = KNeighborsClassifier(n_neighbors=4, p=1)\n",
    "model_raw.fit(X_train, y_train)\n",
    "y_pred_raw = model_raw.predict(X_test)\n",
    "acc_raw = accuracy_score(y_test, y_pred_raw)\n",
    "print(\"\\nAccuracy without scaling:\", acc_raw)"
   ]
  },
  {
   "cell_type": "markdown",
   "id": "0067c37e-6bd2-4454-965b-34327ff92c09",
   "metadata": {},
   "source": [
    "# Results Comparison Table"
   ]
  },
  {
   "cell_type": "code",
   "execution_count": 20,
   "id": "8f3168b8-e6f5-4a56-99ea-45f87f99faef",
   "metadata": {},
   "outputs": [
    {
     "name": "stdout",
     "output_type": "stream",
     "text": [
      "\n",
      "Comparison Table:\n",
      "\n",
      "          Model  k  Distance Metric (p)  Accuracy\n",
      "0             A  3                    1      0.93\n",
      "1             B  3                    2      0.93\n",
      "2             C  4                    1      0.93\n",
      "3             D  4                    2      0.92\n",
      "4             E  5                    1      0.93\n",
      "5             F  5                    2      0.93\n",
      "6  G (No Scale)  4                    1      0.81\n"
     ]
    }
   ],
   "source": [
    "results_df = pd.DataFrame({\n",
    "    \"Model\": [\"A\", \"B\", \"C\", \"D\", \"E\", \"F\", \"G (No Scale)\"],\n",
    "    \"k\": [3, 3, 4, 4, 5, 5, 4],\n",
    "    \"Distance Metric (p)\": [1, 2, 1, 2, 1, 2, 1],\n",
    "    \"Accuracy\": [\n",
    "        accuracy_score(y_test, y_pred_a),\n",
    "        accuracy_score(y_test, y_pred_b),\n",
    "        accuracy_score(y_test, y_pred_c),\n",
    "        accuracy_score(y_test, y_pred_d),\n",
    "        accuracy_score(y_test, y_pred_e),\n",
    "        accuracy_score(y_test, y_pred_f),\n",
    "        acc_raw\n",
    "    ]\n",
    "})\n",
    "print(\"\\nComparison Table:\\n\")\n",
    "print(results_df)"
   ]
  },
  {
   "cell_type": "markdown",
   "id": "4f01e3df-aebc-46a7-aca8-06523b86649f",
   "metadata": {},
   "source": [
    "# Bonus: Loop all combinations for flexibility\n",
    "##  Try different KNN parameters and compare using list logic (for advanced learners)\n",
    "``` python\n",
    "results_loop = []\n",
    "for k in [3, 4, 5]:\n",
    "    for p in [1, 2]:\n",
    "        model = KNeighborsClassifier(n_neighbors=k, p=p)\n",
    "        model.fit(X_train_scaled, y_train)\n",
    "        y_pred = model.predict(X_test_scaled)\n",
    "        acc = accuracy_score(y_test, y_pred)\n",
    "        results_loop.append((k, p, acc))\n",
    "        print(f\"k={k}, p={p} → Accuracy: {acc:.4f}\")\n",
    "``` "
   ]
  },
  {
   "cell_type": "markdown",
   "id": "6399a9ee-4852-4b77-adc1-ec066183606c",
   "metadata": {},
   "source": [
    "# Conclusion\n",
    "\n",
    " - KNN works well for both classification and regression when properly scaled.\n",
    " - Euclidean (p=2) and Manhattan (p=1) distances give slightly different results depending on data.\n",
    " - Accuracy varies with k; optimal value of k must be found using testing or cross-validation.\n",
    " - Scaling improved accuracy from 0.81 (raw) to over 0.93 in some configurations.\n",
    " - We manually verified prediction with distance calculations.\n",
    " - Use a comparison table to select the best k and distance combination.\n"
   ]
  }
 ],
 "metadata": {
  "kernelspec": {
   "display_name": "Python 3 (ipykernel)",
   "language": "python",
   "name": "python3"
  },
  "language_info": {
   "codemirror_mode": {
    "name": "ipython",
    "version": 3
   },
   "file_extension": ".py",
   "mimetype": "text/x-python",
   "name": "python",
   "nbconvert_exporter": "python",
   "pygments_lexer": "ipython3",
   "version": "3.13.5"
  }
 },
 "nbformat": 4,
 "nbformat_minor": 5
}
